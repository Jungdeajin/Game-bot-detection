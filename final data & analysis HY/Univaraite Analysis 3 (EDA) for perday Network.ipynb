{
 "cells": [
  {
   "cell_type": "code",
   "execution_count": 1,
   "metadata": {},
   "outputs": [],
   "source": [
    "import numpy as np\n",
    "import pandas as pd\n",
    "import matplotlib.pyplot as plt\n",
    "from sklearn.metrics import accuracy_score, f1_score\n",
    "\n",
    "pd.set_option(\"max_columns\", 999)\n",
    "pd.set_option(\"max_rows\", 999)"
   ]
  },
  {
   "cell_type": "code",
   "execution_count": 2,
   "metadata": {},
   "outputs": [],
   "source": [
    "network = pd.read_csv('network_perday.csv', index_col = 'Unnamed: 0', engine='python')\n",
    "label = pd.read_csv('labeled_accounts.csv', index_col = 'actor_account', engine='python')"
   ]
  },
  {
   "cell_type": "markdown",
   "metadata": {},
   "source": [
    "# merge // get train and validation sets (get only the accounts labeled)"
   ]
  },
  {
   "cell_type": "code",
   "execution_count": 24,
   "metadata": {},
   "outputs": [
    {
     "data": {
      "text/html": [
       "<div>\n",
       "<style scoped>\n",
       "    .dataframe tbody tr th:only-of-type {\n",
       "        vertical-align: middle;\n",
       "    }\n",
       "\n",
       "    .dataframe tbody tr th {\n",
       "        vertical-align: top;\n",
       "    }\n",
       "\n",
       "    .dataframe thead th {\n",
       "        text-align: right;\n",
       "    }\n",
       "</style>\n",
       "<table border=\"1\" class=\"dataframe\">\n",
       "  <thead>\n",
       "    <tr style=\"text-align: right;\">\n",
       "      <th></th>\n",
       "      <th>trade_go</th>\n",
       "      <th>trade_come</th>\n",
       "      <th>buy_from_shop</th>\n",
       "      <th>sell_to_shop</th>\n",
       "      <th>buy_from_personal_shop</th>\n",
       "      <th>sell_to_person</th>\n",
       "      <th>mail_go</th>\n",
       "      <th>mail_come</th>\n",
       "      <th>invite</th>\n",
       "      <th>join</th>\n",
       "      <th>revival</th>\n",
       "      <th>fight</th>\n",
       "      <th>friend_num</th>\n",
       "      <th>friend_num_change_count</th>\n",
       "      <th>too_much_gain</th>\n",
       "      <th>too_much_AP</th>\n",
       "      <th>trade_go_perday</th>\n",
       "      <th>trade_come_perday</th>\n",
       "      <th>buy_from_shop_perday</th>\n",
       "      <th>sell_to_shop_perday</th>\n",
       "      <th>buy_from_personal_shop_perday</th>\n",
       "      <th>mail_go_perday</th>\n",
       "      <th>mail_come_perday</th>\n",
       "      <th>invite_perday</th>\n",
       "      <th>join_perday</th>\n",
       "      <th>revival_perday</th>\n",
       "      <th>fight_perday</th>\n",
       "    </tr>\n",
       "  </thead>\n",
       "  <tbody>\n",
       "    <tr>\n",
       "      <th>0</th>\n",
       "      <td>1.0</td>\n",
       "      <td>0.0</td>\n",
       "      <td>0.0</td>\n",
       "      <td>0.0</td>\n",
       "      <td>0.0</td>\n",
       "      <td>0.0</td>\n",
       "      <td>0.0</td>\n",
       "      <td>0.0</td>\n",
       "      <td>0.0</td>\n",
       "      <td>2.0</td>\n",
       "      <td>0.0</td>\n",
       "      <td>0.0</td>\n",
       "      <td>22.0</td>\n",
       "      <td>2.0</td>\n",
       "      <td>0.0</td>\n",
       "      <td>1.0</td>\n",
       "      <td>0.250000</td>\n",
       "      <td>0.000000</td>\n",
       "      <td>0.000000</td>\n",
       "      <td>0.000000</td>\n",
       "      <td>0.000000</td>\n",
       "      <td>0.000000</td>\n",
       "      <td>0.000000</td>\n",
       "      <td>0.000000</td>\n",
       "      <td>0.500000</td>\n",
       "      <td>0.000000</td>\n",
       "      <td>0.000000</td>\n",
       "    </tr>\n",
       "    <tr>\n",
       "      <th>1</th>\n",
       "      <td>7.0</td>\n",
       "      <td>3.0</td>\n",
       "      <td>11.0</td>\n",
       "      <td>52.0</td>\n",
       "      <td>0.0</td>\n",
       "      <td>0.0</td>\n",
       "      <td>17.0</td>\n",
       "      <td>16.0</td>\n",
       "      <td>4.0</td>\n",
       "      <td>9.0</td>\n",
       "      <td>0.0</td>\n",
       "      <td>0.0</td>\n",
       "      <td>0.0</td>\n",
       "      <td>0.0</td>\n",
       "      <td>0.0</td>\n",
       "      <td>0.0</td>\n",
       "      <td>1.166667</td>\n",
       "      <td>0.500000</td>\n",
       "      <td>1.833333</td>\n",
       "      <td>8.666667</td>\n",
       "      <td>0.000000</td>\n",
       "      <td>2.833333</td>\n",
       "      <td>2.666667</td>\n",
       "      <td>0.666667</td>\n",
       "      <td>1.500000</td>\n",
       "      <td>0.000000</td>\n",
       "      <td>0.000000</td>\n",
       "    </tr>\n",
       "    <tr>\n",
       "      <th>2</th>\n",
       "      <td>15.0</td>\n",
       "      <td>7.0</td>\n",
       "      <td>72.0</td>\n",
       "      <td>314.0</td>\n",
       "      <td>4.0</td>\n",
       "      <td>0.0</td>\n",
       "      <td>17.0</td>\n",
       "      <td>19.0</td>\n",
       "      <td>19.0</td>\n",
       "      <td>47.0</td>\n",
       "      <td>4.0</td>\n",
       "      <td>1.0</td>\n",
       "      <td>12.0</td>\n",
       "      <td>1.0</td>\n",
       "      <td>0.0</td>\n",
       "      <td>0.0</td>\n",
       "      <td>2.142857</td>\n",
       "      <td>1.000000</td>\n",
       "      <td>10.285714</td>\n",
       "      <td>44.857143</td>\n",
       "      <td>0.571429</td>\n",
       "      <td>2.428571</td>\n",
       "      <td>2.714286</td>\n",
       "      <td>2.714286</td>\n",
       "      <td>6.714286</td>\n",
       "      <td>0.571429</td>\n",
       "      <td>0.142857</td>\n",
       "    </tr>\n",
       "    <tr>\n",
       "      <th>3</th>\n",
       "      <td>11.0</td>\n",
       "      <td>14.0</td>\n",
       "      <td>50.0</td>\n",
       "      <td>265.0</td>\n",
       "      <td>1.0</td>\n",
       "      <td>0.0</td>\n",
       "      <td>5.0</td>\n",
       "      <td>4.0</td>\n",
       "      <td>4.0</td>\n",
       "      <td>22.0</td>\n",
       "      <td>1.0</td>\n",
       "      <td>0.0</td>\n",
       "      <td>52.0</td>\n",
       "      <td>8.0</td>\n",
       "      <td>0.0</td>\n",
       "      <td>0.0</td>\n",
       "      <td>1.571429</td>\n",
       "      <td>2.000000</td>\n",
       "      <td>7.142857</td>\n",
       "      <td>37.857143</td>\n",
       "      <td>0.142857</td>\n",
       "      <td>0.714286</td>\n",
       "      <td>0.571429</td>\n",
       "      <td>0.571429</td>\n",
       "      <td>3.142857</td>\n",
       "      <td>0.142857</td>\n",
       "      <td>0.000000</td>\n",
       "    </tr>\n",
       "    <tr>\n",
       "      <th>4</th>\n",
       "      <td>35.0</td>\n",
       "      <td>151.0</td>\n",
       "      <td>87.0</td>\n",
       "      <td>228.0</td>\n",
       "      <td>0.0</td>\n",
       "      <td>0.0</td>\n",
       "      <td>15.0</td>\n",
       "      <td>21.0</td>\n",
       "      <td>11.0</td>\n",
       "      <td>57.0</td>\n",
       "      <td>1.0</td>\n",
       "      <td>2.0</td>\n",
       "      <td>20.0</td>\n",
       "      <td>6.0</td>\n",
       "      <td>0.0</td>\n",
       "      <td>0.0</td>\n",
       "      <td>5.000000</td>\n",
       "      <td>21.571429</td>\n",
       "      <td>12.428571</td>\n",
       "      <td>32.571429</td>\n",
       "      <td>0.000000</td>\n",
       "      <td>2.142857</td>\n",
       "      <td>3.000000</td>\n",
       "      <td>1.571429</td>\n",
       "      <td>8.142857</td>\n",
       "      <td>0.142857</td>\n",
       "      <td>0.285714</td>\n",
       "    </tr>\n",
       "  </tbody>\n",
       "</table>\n",
       "</div>"
      ],
      "text/plain": [
       "   trade_go  trade_come  buy_from_shop  sell_to_shop  buy_from_personal_shop  \\\n",
       "0       1.0         0.0            0.0           0.0                     0.0   \n",
       "1       7.0         3.0           11.0          52.0                     0.0   \n",
       "2      15.0         7.0           72.0         314.0                     4.0   \n",
       "3      11.0        14.0           50.0         265.0                     1.0   \n",
       "4      35.0       151.0           87.0         228.0                     0.0   \n",
       "\n",
       "   sell_to_person  mail_go  mail_come  invite  join  revival  fight  \\\n",
       "0             0.0      0.0        0.0     0.0   2.0      0.0    0.0   \n",
       "1             0.0     17.0       16.0     4.0   9.0      0.0    0.0   \n",
       "2             0.0     17.0       19.0    19.0  47.0      4.0    1.0   \n",
       "3             0.0      5.0        4.0     4.0  22.0      1.0    0.0   \n",
       "4             0.0     15.0       21.0    11.0  57.0      1.0    2.0   \n",
       "\n",
       "   friend_num  friend_num_change_count  too_much_gain  too_much_AP  \\\n",
       "0        22.0                      2.0            0.0          1.0   \n",
       "1         0.0                      0.0            0.0          0.0   \n",
       "2        12.0                      1.0            0.0          0.0   \n",
       "3        52.0                      8.0            0.0          0.0   \n",
       "4        20.0                      6.0            0.0          0.0   \n",
       "\n",
       "   trade_go_perday  trade_come_perday  buy_from_shop_perday  \\\n",
       "0         0.250000           0.000000              0.000000   \n",
       "1         1.166667           0.500000              1.833333   \n",
       "2         2.142857           1.000000             10.285714   \n",
       "3         1.571429           2.000000              7.142857   \n",
       "4         5.000000          21.571429             12.428571   \n",
       "\n",
       "   sell_to_shop_perday  buy_from_personal_shop_perday  mail_go_perday  \\\n",
       "0             0.000000                       0.000000        0.000000   \n",
       "1             8.666667                       0.000000        2.833333   \n",
       "2            44.857143                       0.571429        2.428571   \n",
       "3            37.857143                       0.142857        0.714286   \n",
       "4            32.571429                       0.000000        2.142857   \n",
       "\n",
       "   mail_come_perday  invite_perday  join_perday  revival_perday  fight_perday  \n",
       "0          0.000000       0.000000     0.500000        0.000000      0.000000  \n",
       "1          2.666667       0.666667     1.500000        0.000000      0.000000  \n",
       "2          2.714286       2.714286     6.714286        0.571429      0.142857  \n",
       "3          0.571429       0.571429     3.142857        0.142857      0.000000  \n",
       "4          3.000000       1.571429     8.142857        0.142857      0.285714  "
      ]
     },
     "execution_count": 24,
     "metadata": {},
     "output_type": "execute_result"
    }
   ],
   "source": [
    "final = pd.read_csv('train_set_3_network.csv', engine='python')\n",
    "model_data = final.copy()\n",
    "final.head()"
   ]
  },
  {
   "cell_type": "code",
   "execution_count": 25,
   "metadata": {},
   "outputs": [],
   "source": [
    "# check if there is any nan values\n",
    "for i in model_data.columns:\n",
    "    model_data[model_data[i] == np.nan]\n",
    "\n",
    "# There are inf values. Change it to max value in the column\n",
    "for i in model_data.columns:\n",
    "    model_data.loc[model_data[i] == np.inf, i] = np.nan\n",
    "    model_data.loc[np.isnan(model_data[i]), i] = max(model_data[i])"
   ]
  },
  {
   "cell_type": "code",
   "execution_count": 5,
   "metadata": {},
   "outputs": [],
   "source": [
    "x = model_data.iloc[:,2:]\n",
    "y = model_data.iloc[:,1]"
   ]
  },
  {
   "cell_type": "markdown",
   "metadata": {},
   "source": [
    "## Correlation Cofficient \n",
    "    1. Actor_account is a dummy variable. Any variable that has a lower contribution than actor_account should be deleted\n",
    "    2. Exp_repair_count a single value of 1. This should be deleted"
   ]
  },
  {
   "cell_type": "code",
   "execution_count": 13,
   "metadata": {},
   "outputs": [
    {
     "name": "stdout",
     "output_type": "stream",
     "text": [
      "sell_to_shop 0.2909233549363846\n",
      "join -0.19429705587032514\n",
      "trade_go_perday 0.26014331879554037\n",
      "sell_to_shop_perday 0.42995307359186463\n",
      "join_perday -0.22767417338845683\n"
     ]
    }
   ],
   "source": [
    "for i in range(0, len(x.columns)):\n",
    "    if abs(np.corrcoef(x.iloc[:,i], y)[0,1]) > abs(np.corrcoef(x.iloc[:,0], y)[0,1]):\n",
    "        print(x.columns[i], np.corrcoef(x.iloc[:,i], y)[0,1])"
   ]
  },
  {
   "cell_type": "code",
   "execution_count": 14,
   "metadata": {},
   "outputs": [],
   "source": [
    "x = model_data.drop(['class'], axis=1)"
   ]
  },
  {
   "cell_type": "code",
   "execution_count": 15,
   "metadata": {},
   "outputs": [
    {
     "data": {
      "text/html": [
       "<div>\n",
       "<style scoped>\n",
       "    .dataframe tbody tr th:only-of-type {\n",
       "        vertical-align: middle;\n",
       "    }\n",
       "\n",
       "    .dataframe tbody tr th {\n",
       "        vertical-align: top;\n",
       "    }\n",
       "\n",
       "    .dataframe thead th {\n",
       "        text-align: right;\n",
       "    }\n",
       "</style>\n",
       "<table border=\"1\" class=\"dataframe\">\n",
       "  <thead>\n",
       "    <tr style=\"text-align: right;\">\n",
       "      <th></th>\n",
       "      <th>actor_account</th>\n",
       "      <th>trade_go</th>\n",
       "      <th>trade_come</th>\n",
       "      <th>buy_from_shop</th>\n",
       "      <th>sell_to_shop</th>\n",
       "      <th>buy_from_personal_shop</th>\n",
       "      <th>sell_to_person</th>\n",
       "      <th>mail_go</th>\n",
       "      <th>mail_come</th>\n",
       "      <th>invite</th>\n",
       "      <th>join</th>\n",
       "      <th>revival</th>\n",
       "      <th>fight</th>\n",
       "      <th>friend_num</th>\n",
       "      <th>friend_num_change_count</th>\n",
       "      <th>login_total_day</th>\n",
       "      <th>trade_go_perday</th>\n",
       "      <th>trade_come_perday</th>\n",
       "      <th>buy_from_shop_perday</th>\n",
       "      <th>sell_to_shop_perday</th>\n",
       "      <th>buy_from_personal_shop_perday</th>\n",
       "      <th>mail_go_perday</th>\n",
       "      <th>mail_come_perday</th>\n",
       "      <th>invite_perday</th>\n",
       "      <th>join_perday</th>\n",
       "      <th>revival_perday</th>\n",
       "      <th>fight_perday</th>\n",
       "    </tr>\n",
       "  </thead>\n",
       "  <tbody>\n",
       "    <tr>\n",
       "      <th>0</th>\n",
       "      <td>20000000.0</td>\n",
       "      <td>7.0</td>\n",
       "      <td>25.0</td>\n",
       "      <td>34.0</td>\n",
       "      <td>229.0</td>\n",
       "      <td>0.0</td>\n",
       "      <td>0.0</td>\n",
       "      <td>11.0</td>\n",
       "      <td>12.0</td>\n",
       "      <td>3.0</td>\n",
       "      <td>48.0</td>\n",
       "      <td>2.0</td>\n",
       "      <td>6.0</td>\n",
       "      <td>0.0</td>\n",
       "      <td>0.0</td>\n",
       "      <td>9.0</td>\n",
       "      <td>0.777778</td>\n",
       "      <td>2.777778</td>\n",
       "      <td>3.777778</td>\n",
       "      <td>25.444444</td>\n",
       "      <td>0.0</td>\n",
       "      <td>1.222222</td>\n",
       "      <td>1.333333</td>\n",
       "      <td>0.333333</td>\n",
       "      <td>5.333333</td>\n",
       "      <td>0.222222</td>\n",
       "      <td>0.666667</td>\n",
       "    </tr>\n",
       "    <tr>\n",
       "      <th>1</th>\n",
       "      <td>20000005.0</td>\n",
       "      <td>2.0</td>\n",
       "      <td>4.0</td>\n",
       "      <td>72.0</td>\n",
       "      <td>196.0</td>\n",
       "      <td>0.0</td>\n",
       "      <td>6.0</td>\n",
       "      <td>1.0</td>\n",
       "      <td>21.0</td>\n",
       "      <td>7.0</td>\n",
       "      <td>58.0</td>\n",
       "      <td>2.0</td>\n",
       "      <td>0.0</td>\n",
       "      <td>0.0</td>\n",
       "      <td>0.0</td>\n",
       "      <td>15.0</td>\n",
       "      <td>0.133333</td>\n",
       "      <td>0.266667</td>\n",
       "      <td>4.800000</td>\n",
       "      <td>13.066667</td>\n",
       "      <td>0.0</td>\n",
       "      <td>0.066667</td>\n",
       "      <td>1.400000</td>\n",
       "      <td>0.466667</td>\n",
       "      <td>3.866667</td>\n",
       "      <td>0.133333</td>\n",
       "      <td>0.000000</td>\n",
       "    </tr>\n",
       "    <tr>\n",
       "      <th>2</th>\n",
       "      <td>20000011.0</td>\n",
       "      <td>1.0</td>\n",
       "      <td>50.0</td>\n",
       "      <td>25.0</td>\n",
       "      <td>89.0</td>\n",
       "      <td>0.0</td>\n",
       "      <td>0.0</td>\n",
       "      <td>34.0</td>\n",
       "      <td>16.0</td>\n",
       "      <td>0.0</td>\n",
       "      <td>0.0</td>\n",
       "      <td>0.0</td>\n",
       "      <td>0.0</td>\n",
       "      <td>0.0</td>\n",
       "      <td>0.0</td>\n",
       "      <td>6.0</td>\n",
       "      <td>0.166667</td>\n",
       "      <td>8.333333</td>\n",
       "      <td>4.166667</td>\n",
       "      <td>14.833333</td>\n",
       "      <td>0.0</td>\n",
       "      <td>5.666667</td>\n",
       "      <td>2.666667</td>\n",
       "      <td>0.000000</td>\n",
       "      <td>0.000000</td>\n",
       "      <td>0.000000</td>\n",
       "      <td>0.000000</td>\n",
       "    </tr>\n",
       "    <tr>\n",
       "      <th>3</th>\n",
       "      <td>20000016.0</td>\n",
       "      <td>1.0</td>\n",
       "      <td>0.0</td>\n",
       "      <td>34.0</td>\n",
       "      <td>111.0</td>\n",
       "      <td>0.0</td>\n",
       "      <td>1.0</td>\n",
       "      <td>0.0</td>\n",
       "      <td>56.0</td>\n",
       "      <td>16.0</td>\n",
       "      <td>35.0</td>\n",
       "      <td>0.0</td>\n",
       "      <td>0.0</td>\n",
       "      <td>0.0</td>\n",
       "      <td>0.0</td>\n",
       "      <td>14.0</td>\n",
       "      <td>0.071429</td>\n",
       "      <td>0.000000</td>\n",
       "      <td>2.428571</td>\n",
       "      <td>7.928571</td>\n",
       "      <td>0.0</td>\n",
       "      <td>0.000000</td>\n",
       "      <td>4.000000</td>\n",
       "      <td>1.142857</td>\n",
       "      <td>2.500000</td>\n",
       "      <td>0.000000</td>\n",
       "      <td>0.000000</td>\n",
       "    </tr>\n",
       "    <tr>\n",
       "      <th>4</th>\n",
       "      <td>20000025.0</td>\n",
       "      <td>4.0</td>\n",
       "      <td>17.0</td>\n",
       "      <td>48.0</td>\n",
       "      <td>169.0</td>\n",
       "      <td>0.0</td>\n",
       "      <td>0.0</td>\n",
       "      <td>3.0</td>\n",
       "      <td>6.0</td>\n",
       "      <td>31.0</td>\n",
       "      <td>67.0</td>\n",
       "      <td>2.0</td>\n",
       "      <td>4.0</td>\n",
       "      <td>11.0</td>\n",
       "      <td>2.0</td>\n",
       "      <td>15.0</td>\n",
       "      <td>0.266667</td>\n",
       "      <td>1.133333</td>\n",
       "      <td>3.200000</td>\n",
       "      <td>11.266667</td>\n",
       "      <td>0.0</td>\n",
       "      <td>0.200000</td>\n",
       "      <td>0.400000</td>\n",
       "      <td>2.066667</td>\n",
       "      <td>4.466667</td>\n",
       "      <td>0.133333</td>\n",
       "      <td>0.266667</td>\n",
       "    </tr>\n",
       "  </tbody>\n",
       "</table>\n",
       "</div>"
      ],
      "text/plain": [
       "   actor_account  trade_go  trade_come  buy_from_shop  sell_to_shop  \\\n",
       "0     20000000.0       7.0        25.0           34.0         229.0   \n",
       "1     20000005.0       2.0         4.0           72.0         196.0   \n",
       "2     20000011.0       1.0        50.0           25.0          89.0   \n",
       "3     20000016.0       1.0         0.0           34.0         111.0   \n",
       "4     20000025.0       4.0        17.0           48.0         169.0   \n",
       "\n",
       "   buy_from_personal_shop  sell_to_person  mail_go  mail_come  invite  join  \\\n",
       "0                     0.0             0.0     11.0       12.0     3.0  48.0   \n",
       "1                     0.0             6.0      1.0       21.0     7.0  58.0   \n",
       "2                     0.0             0.0     34.0       16.0     0.0   0.0   \n",
       "3                     0.0             1.0      0.0       56.0    16.0  35.0   \n",
       "4                     0.0             0.0      3.0        6.0    31.0  67.0   \n",
       "\n",
       "   revival  fight  friend_num  friend_num_change_count  login_total_day  \\\n",
       "0      2.0    6.0         0.0                      0.0              9.0   \n",
       "1      2.0    0.0         0.0                      0.0             15.0   \n",
       "2      0.0    0.0         0.0                      0.0              6.0   \n",
       "3      0.0    0.0         0.0                      0.0             14.0   \n",
       "4      2.0    4.0        11.0                      2.0             15.0   \n",
       "\n",
       "   trade_go_perday  trade_come_perday  buy_from_shop_perday  \\\n",
       "0         0.777778           2.777778              3.777778   \n",
       "1         0.133333           0.266667              4.800000   \n",
       "2         0.166667           8.333333              4.166667   \n",
       "3         0.071429           0.000000              2.428571   \n",
       "4         0.266667           1.133333              3.200000   \n",
       "\n",
       "   sell_to_shop_perday  buy_from_personal_shop_perday  mail_go_perday  \\\n",
       "0            25.444444                            0.0        1.222222   \n",
       "1            13.066667                            0.0        0.066667   \n",
       "2            14.833333                            0.0        5.666667   \n",
       "3             7.928571                            0.0        0.000000   \n",
       "4            11.266667                            0.0        0.200000   \n",
       "\n",
       "   mail_come_perday  invite_perday  join_perday  revival_perday  fight_perday  \n",
       "0          1.333333       0.333333     5.333333        0.222222      0.666667  \n",
       "1          1.400000       0.466667     3.866667        0.133333      0.000000  \n",
       "2          2.666667       0.000000     0.000000        0.000000      0.000000  \n",
       "3          4.000000       1.142857     2.500000        0.000000      0.000000  \n",
       "4          0.400000       2.066667     4.466667        0.133333      0.266667  "
      ]
     },
     "execution_count": 15,
     "metadata": {},
     "output_type": "execute_result"
    }
   ],
   "source": [
    "x.head()"
   ]
  },
  {
   "cell_type": "markdown",
   "metadata": {},
   "source": [
    "## Lasso (Model Based Feature Selection)"
   ]
  },
  {
   "cell_type": "code",
   "execution_count": 16,
   "metadata": {},
   "outputs": [
    {
     "name": "stdout",
     "output_type": "stream",
     "text": [
      "0.205\n",
      "0.218\n"
     ]
    }
   ],
   "source": [
    "from sklearn.model_selection import train_test_split\n",
    "from sklearn.linear_model import Lasso, Ridge\n",
    "\n",
    "x_train, x_test, y_train, y_test = train_test_split(x, y, random_state=0, test_size=0.3)\n",
    "\n",
    "lasso = Lasso().fit(x_train, y_train)\n",
    "\n",
    "print('{:.3f}'.format(lasso.score(x_train, y_train)))\n",
    "print('{:.3f}'.format(lasso.score(x_test, y_test)))"
   ]
  },
  {
   "cell_type": "code",
   "execution_count": 17,
   "metadata": {},
   "outputs": [
    {
     "data": {
      "image/png": "[encoded data removed]",
      "text/plain": [
       "<Figure size 432x288 with 1 Axes>"
      ]
     },
     "metadata": {
      "needs_background": "light"
     },
     "output_type": "display_data"
    }
   ],
   "source": [
    "import matplotlib.pyplot as plt\n",
    "\n",
    "alpha_set = [0.0001, 0.01, 0.1, 1]\n",
    "max_inter_set = [10000000, 100000, 10000, 1000]\n",
    "\n",
    "train_score = []\n",
    "test_score = []\n",
    "used_feature = []\n",
    "\n",
    "for a, m in zip(alpha_set, max_inter_set):\n",
    "    lasso_tr_y = lasso.predict(x_train)\n",
    "    lasso_t_y = lasso.predict(x_test)\n",
    "    lasso = Lasso(alpha=a, max_iter=m).fit(x_train, y_train)\n",
    "    la_tr_score = np.round(f1_score((lasso.predict(x_train) > np.percentile(lasso_tr_y, 93)).astype(int), y_train), 3)\n",
    "    la_te_score = np.round(f1_score((lasso.predict(x_test) > np.percentile(lasso_t_y, 93)).astype(int), y_test), 3)\n",
    "    number_used = np.sum(lasso.coef_ != 0)\n",
    "\n",
    "    train_score.append(la_tr_score)\n",
    "    test_score.append(la_te_score)\n",
    "    used_feature.append(number_used)\n",
    "\n",
    "index = np.arange(len(alpha_set))\n",
    "bar_width = 0.35\n",
    "plt.bar(index, train_score, width=bar_width, label='train')\n",
    "plt.bar(index+bar_width, test_score, width=bar_width, label='test')\n",
    "plt.xticks(index+bar_width/2, alpha_set) # bar그래\u0005프 dodge를 하기 위해 기준값에 보정치를 더해줍니다.\n",
    "\n",
    "\n",
    "for i, (ts, te) in enumerate(zip(train_score, test_score)):\n",
    "    plt.text(i, ts+0.01, str(ts), horizontalalignment='center')\n",
    "    plt.text(i+bar_width, te+0.01, str(te), horizontalalignment='center')\n",
    "\n",
    "# plt.legend(loc=1, )\n",
    "plt.xlabel('alpha')\n",
    "plt.ylabel('f1 score')\n",
    "plt.show()"
   ]
  },
  {
   "cell_type": "markdown",
   "metadata": {},
   "source": [
    "## Results of Feature Selection by Lasso"
   ]
  },
  {
   "cell_type": "code",
   "execution_count": 18,
   "metadata": {},
   "outputs": [
    {
     "name": "stdout",
     "output_type": "stream",
     "text": [
      "trade_go 0.000265101427948793\n",
      "buy_from_shop 2.4632444848784732e-05\n",
      "sell_to_shop 2.7303792623383367e-05\n",
      "mail_go 3.837439284298157e-05\n",
      "invite -0.00022237399223065362\n",
      "join -0.0003906760193482275\n",
      "sell_to_shop_perday 0.002004675194657268\n"
     ]
    }
   ],
   "source": [
    "# when alpha is 1\n",
    "\n",
    "lasso = Lasso(alpha=1, max_iter=1000).fit(x_train, y_train)\n",
    "\n",
    "lasso_tr_y = lasso.predict(x_train)\n",
    "lasso_t_y = lasso.predict(x_test)\n",
    "\n",
    "for i in range(0, len(x.columns)):\n",
    "    if abs(lasso.coef_[i]) > abs(lasso.coef_[0]):\n",
    "        print(x.columns[i], lasso.coef_[i])"
   ]
  },
  {
   "cell_type": "code",
   "execution_count": 19,
   "metadata": {},
   "outputs": [
    {
     "name": "stdout",
     "output_type": "stream",
     "text": [
      "trade_go 0.00043941967604439524\n",
      "trade_come 3.0288567222980085e-05\n",
      "buy_from_shop 4.299064214950279e-05\n",
      "sell_to_shop -8.794393225668664e-05\n",
      "mail_go 9.527609202938275e-05\n",
      "mail_come -8.784766678838465e-05\n",
      "invite -0.0002349632051734658\n",
      "join -0.0008959985827852248\n",
      "revival -0.0002831095966286182\n",
      "friend_num -0.0003147249864289331\n",
      "sell_to_shop_perday 0.003367030484720105\n"
     ]
    }
   ],
   "source": [
    "# when alpha is 0.1\n",
    "\n",
    "lasso = Lasso(alpha=0.1, max_iter=10000).fit(x_train, y_train)\n",
    "\n",
    "lasso_tr_y = lasso.predict(x_train)\n",
    "lasso_t_y = lasso.predict(x_test)\n",
    "\n",
    "for i in range(0, len(x.columns)):\n",
    "    if abs(lasso.coef_[i]) > abs(lasso.coef_[0]):\n",
    "        print(x.columns[i], lasso.coef_[i])"
   ]
  },
  {
   "cell_type": "code",
   "execution_count": 20,
   "metadata": {},
   "outputs": [
    {
     "name": "stdout",
     "output_type": "stream",
     "text": [
      "trade_come -0.0003486122380230655\n",
      "buy_from_shop 2.033205819029711e-05\n",
      "sell_to_shop -6.83390002483347e-05\n",
      "sell_to_person -9.425261544859914e-05\n",
      "mail_go 0.00012878123138539653\n",
      "mail_come -0.0001422852436889701\n",
      "join 0.0004983464103084662\n",
      "revival -0.0011713837450470544\n",
      "fight 7.002131823185794e-05\n",
      "friend_num -0.00032349273511518946\n",
      "friend_num_change_count -0.0012987623800508447\n",
      "login_total_day -0.0005287476067975215\n",
      "trade_go_perday 0.005949324965177064\n",
      "trade_come_perday 0.00539752128286832\n",
      "buy_from_shop_perday 0.00021793589632614253\n",
      "sell_to_shop_perday 0.003010345792608646\n",
      "mail_go_perday -3.997803424096471e-05\n",
      "invite_perday -0.0026177548588179954\n",
      "join_perday -0.018807159829199303\n"
     ]
    }
   ],
   "source": [
    "# when alpha is 0.01\n",
    "\n",
    "lasso = Lasso(alpha=0.01, max_iter=100000).fit(x_train, y_train)\n",
    "\n",
    "lasso_tr_y = lasso.predict(x_train)\n",
    "lasso_t_y = lasso.predict(x_test)\n",
    "\n",
    "for i in range(0, len(x.columns)):\n",
    "    if abs(lasso.coef_[i]) > abs(lasso.coef_[0]):\n",
    "        print(x.columns[i], lasso.coef_[i])"
   ]
  },
  {
   "cell_type": "markdown",
   "metadata": {},
   "source": [
    "# Lasso is not a powerful model. Try Xgboost"
   ]
  },
  {
   "cell_type": "code",
   "execution_count": 21,
   "metadata": {},
   "outputs": [],
   "source": [
    "import xgboost as xgb\n",
    "from xgboost.sklearn import XGBClassifier"
   ]
  },
  {
   "cell_type": "code",
   "execution_count": 22,
   "metadata": {},
   "outputs": [],
   "source": [
    "from sklearn.model_selection import train_test_split\n",
    "x_train, x_test, y_train, y_test = train_test_split(x, y, test_size=0.3)"
   ]
  },
  {
   "cell_type": "code",
   "execution_count": 25,
   "metadata": {},
   "outputs": [],
   "source": [
    "xgb_model = xgb.XGBClassifier(n_estimators=1000,\n",
    "                        n_jobs=6,\n",
    "                        max_depth=5,\n",
    "                        learning_rate=0.1,\n",
    "                        gamma = 0,\n",
    "                        subsample = 0.8,\n",
    "                        scale_pos_weight = 1,\n",
    "                        min_child_weight=1,\n",
    "                        colsample_bytree=0.8,\n",
    "                        objective= 'binary:logistic',\n",
    "                        nthread=4,\n",
    "                        missing=-999,\n",
    "                        seed=27)"
   ]
  },
  {
   "cell_type": "code",
   "execution_count": 26,
   "metadata": {},
   "outputs": [
    {
     "data": {
      "text/plain": [
       "XGBClassifier(base_score=0.5, booster='gbtree', colsample_bylevel=1,\n",
       "              colsample_bynode=1, colsample_bytree=0.8, gamma=0,\n",
       "              learning_rate=0.1, max_delta_step=0, max_depth=5,\n",
       "              min_child_weight=1, missing=-999, n_estimators=1000, n_jobs=6,\n",
       "              nthread=4, objective='binary:logistic', random_state=0,\n",
       "              reg_alpha=0, reg_lambda=1, scale_pos_weight=1, seed=27,\n",
       "              silent=None, subsample=0.8, verbosity=1)"
      ]
     },
     "execution_count": 26,
     "metadata": {},
     "output_type": "execute_result"
    }
   ],
   "source": [
    "xgb_model.fit(x_train,y_train)"
   ]
  },
  {
   "cell_type": "code",
   "execution_count": 27,
   "metadata": {},
   "outputs": [],
   "source": [
    "prediction = xgb_model.predict(x_test)"
   ]
  },
  {
   "cell_type": "code",
   "execution_count": 28,
   "metadata": {},
   "outputs": [
    {
     "data": {
      "text/plain": [
       "0.7547169811320753"
      ]
     },
     "execution_count": 28,
     "metadata": {},
     "output_type": "execute_result"
    }
   ],
   "source": [
    "f1_score(y_test, prediction)"
   ]
  },
  {
   "cell_type": "code",
   "execution_count": 29,
   "metadata": {},
   "outputs": [
    {
     "data": {
      "text/plain": [
       "array([0.01463966, 0.02871183, 0.02259718, 0.02281336, 0.02958963,\n",
       "       0.04188954, 0.03360377, 0.02573499, 0.02504081, 0.02799309,\n",
       "       0.04580206, 0.03595463, 0.0443937 , 0.04503031, 0.03862333,\n",
       "       0.06852947, 0.0343672 , 0.02042734, 0.01865752, 0.06290858,\n",
       "       0.02435101, 0.02532579, 0.01985008, 0.03399032, 0.1348989 ,\n",
       "       0.03241065, 0.04186526], dtype=float32)"
      ]
     },
     "execution_count": 29,
     "metadata": {},
     "output_type": "execute_result"
    }
   ],
   "source": [
    "xgb_model.feature_importances_"
   ]
  },
  {
   "cell_type": "code",
   "execution_count": 30,
   "metadata": {},
   "outputs": [
    {
     "data": {
      "text/plain": [
       "<BarContainer object of 27 artists>"
      ]
     },
     "execution_count": 30,
     "metadata": {},
     "output_type": "execute_result"
    },
    {
     "data": {
      "image/png": "[encoded data removed]",
      "text/plain": [
       "<Figure size 432x288 with 1 Axes>"
      ]
     },
     "metadata": {
      "needs_background": "light"
     },
     "output_type": "display_data"
    }
   ],
   "source": [
    "plt.bar(range(len(xgb_model.feature_importances_)), xgb_model.feature_importances_)"
   ]
  },
  {
   "cell_type": "code",
   "execution_count": 31,
   "metadata": {},
   "outputs": [
    {
     "data": {
      "image/png": "[encoded data removed]",
      "text/plain": [
       "<Figure size 432x288 with 1 Axes>"
      ]
     },
     "metadata": {
      "needs_background": "light"
     },
     "output_type": "display_data"
    },
    {
     "data": {
      "text/plain": [
       "<Figure size 144000x7200 with 0 Axes>"
      ]
     },
     "metadata": {},
     "output_type": "display_data"
    }
   ],
   "source": [
    "from xgboost import plot_importance\n",
    "from matplotlib import pyplot\n",
    "\n",
    "plot_importance(xgb_model)\n",
    "pyplot.figure(figsize=(2000,100))\n",
    "pyplot.show()"
   ]
  },
  {
   "cell_type": "code",
   "execution_count": 32,
   "metadata": {
    "scrolled": true
   },
   "outputs": [
    {
     "name": "stdout",
     "output_type": "stream",
     "text": [
      "actor_account 0.014639657\n",
      "trade_go 0.028711826\n",
      "trade_come 0.022597179\n",
      "buy_from_shop 0.022813356\n",
      "sell_to_shop 0.029589625\n",
      "buy_from_personal_shop 0.041889545\n",
      "sell_to_person 0.03360377\n",
      "mail_go 0.025734985\n",
      "mail_come 0.025040809\n",
      "invite 0.027993092\n",
      "join 0.04580206\n",
      "revival 0.03595463\n",
      "fight 0.044393696\n",
      "friend_num 0.045030314\n",
      "friend_num_change_count 0.03862333\n",
      "login_total_day 0.06852947\n",
      "trade_go_perday 0.0343672\n",
      "trade_come_perday 0.020427344\n",
      "buy_from_shop_perday 0.018657519\n",
      "sell_to_shop_perday 0.06290858\n",
      "buy_from_personal_shop_perday 0.024351012\n",
      "mail_go_perday 0.025325794\n",
      "mail_come_perday 0.01985008\n",
      "invite_perday 0.033990324\n",
      "join_perday 0.1348989\n",
      "revival_perday 0.03241065\n",
      "fight_perday 0.041865263\n"
     ]
    }
   ],
   "source": [
    "Fi = xgb_model.feature_importances_\n",
    "\n",
    "for i in range(0, len(x.columns)):\n",
    "    print(x.columns[i],  Fi[i])"
   ]
  },
  {
   "cell_type": "markdown",
   "metadata": {},
   "source": [
    "Varables to exclude\n",
    "1. buy_from_shop\n",
    "2. by_from_personal_shop\n",
    "3. buy_from_personal_shop_perday\n",
    "4. mail_go_perday \n",
    "5. revival\n",
    "6. revival perday\n",
    "7. trade_come_perday"
   ]
  },
  {
   "cell_type": "markdown",
   "metadata": {},
   "source": [
    "# Creating Final Training Data"
   ]
  },
  {
   "cell_type": "code",
   "execution_count": 26,
   "metadata": {},
   "outputs": [],
   "source": [
    "v2e = ['buy_from_shop', 'buy_from_personal_shop', 'buy_from_personal_shop_perday', 'mail_go_perday', 'revival', 'revival_perday', 'trade_come_perday']"
   ]
  },
  {
   "cell_type": "code",
   "execution_count": 27,
   "metadata": {},
   "outputs": [],
   "source": [
    "final_data = pd.DataFrame"
   ]
  },
  {
   "cell_type": "code",
   "execution_count": 28,
   "metadata": {},
   "outputs": [],
   "source": [
    "# Through inspection of each columns\n",
    "for i in v2e:\n",
    "    del model_data[i]"
   ]
  },
  {
   "cell_type": "code",
   "execution_count": 29,
   "metadata": {},
   "outputs": [],
   "source": [
    "final_data = model_data.copy()"
   ]
  },
  {
   "cell_type": "code",
   "execution_count": 30,
   "metadata": {},
   "outputs": [
    {
     "data": {
      "text/html": [
       "<div>\n",
       "<style scoped>\n",
       "    .dataframe tbody tr th:only-of-type {\n",
       "        vertical-align: middle;\n",
       "    }\n",
       "\n",
       "    .dataframe tbody tr th {\n",
       "        vertical-align: top;\n",
       "    }\n",
       "\n",
       "    .dataframe thead th {\n",
       "        text-align: right;\n",
       "    }\n",
       "</style>\n",
       "<table border=\"1\" class=\"dataframe\">\n",
       "  <thead>\n",
       "    <tr style=\"text-align: right;\">\n",
       "      <th></th>\n",
       "      <th>trade_go</th>\n",
       "      <th>trade_come</th>\n",
       "      <th>sell_to_shop</th>\n",
       "      <th>sell_to_person</th>\n",
       "      <th>mail_go</th>\n",
       "      <th>mail_come</th>\n",
       "      <th>invite</th>\n",
       "      <th>join</th>\n",
       "      <th>fight</th>\n",
       "      <th>friend_num</th>\n",
       "      <th>friend_num_change_count</th>\n",
       "      <th>too_much_gain</th>\n",
       "      <th>too_much_AP</th>\n",
       "      <th>trade_go_perday</th>\n",
       "      <th>buy_from_shop_perday</th>\n",
       "      <th>sell_to_shop_perday</th>\n",
       "      <th>mail_come_perday</th>\n",
       "      <th>invite_perday</th>\n",
       "      <th>join_perday</th>\n",
       "      <th>fight_perday</th>\n",
       "    </tr>\n",
       "  </thead>\n",
       "  <tbody>\n",
       "    <tr>\n",
       "      <th>0</th>\n",
       "      <td>1.0</td>\n",
       "      <td>0.0</td>\n",
       "      <td>0.0</td>\n",
       "      <td>0.0</td>\n",
       "      <td>0.0</td>\n",
       "      <td>0.0</td>\n",
       "      <td>0.0</td>\n",
       "      <td>2.0</td>\n",
       "      <td>0.0</td>\n",
       "      <td>22.0</td>\n",
       "      <td>2.0</td>\n",
       "      <td>0.0</td>\n",
       "      <td>1.0</td>\n",
       "      <td>0.250000</td>\n",
       "      <td>0.000000</td>\n",
       "      <td>0.000000</td>\n",
       "      <td>0.000000</td>\n",
       "      <td>0.000000</td>\n",
       "      <td>0.500000</td>\n",
       "      <td>0.000000</td>\n",
       "    </tr>\n",
       "    <tr>\n",
       "      <th>1</th>\n",
       "      <td>7.0</td>\n",
       "      <td>3.0</td>\n",
       "      <td>52.0</td>\n",
       "      <td>0.0</td>\n",
       "      <td>17.0</td>\n",
       "      <td>16.0</td>\n",
       "      <td>4.0</td>\n",
       "      <td>9.0</td>\n",
       "      <td>0.0</td>\n",
       "      <td>0.0</td>\n",
       "      <td>0.0</td>\n",
       "      <td>0.0</td>\n",
       "      <td>0.0</td>\n",
       "      <td>1.166667</td>\n",
       "      <td>1.833333</td>\n",
       "      <td>8.666667</td>\n",
       "      <td>2.666667</td>\n",
       "      <td>0.666667</td>\n",
       "      <td>1.500000</td>\n",
       "      <td>0.000000</td>\n",
       "    </tr>\n",
       "    <tr>\n",
       "      <th>2</th>\n",
       "      <td>15.0</td>\n",
       "      <td>7.0</td>\n",
       "      <td>314.0</td>\n",
       "      <td>0.0</td>\n",
       "      <td>17.0</td>\n",
       "      <td>19.0</td>\n",
       "      <td>19.0</td>\n",
       "      <td>47.0</td>\n",
       "      <td>1.0</td>\n",
       "      <td>12.0</td>\n",
       "      <td>1.0</td>\n",
       "      <td>0.0</td>\n",
       "      <td>0.0</td>\n",
       "      <td>2.142857</td>\n",
       "      <td>10.285714</td>\n",
       "      <td>44.857143</td>\n",
       "      <td>2.714286</td>\n",
       "      <td>2.714286</td>\n",
       "      <td>6.714286</td>\n",
       "      <td>0.142857</td>\n",
       "    </tr>\n",
       "    <tr>\n",
       "      <th>3</th>\n",
       "      <td>11.0</td>\n",
       "      <td>14.0</td>\n",
       "      <td>265.0</td>\n",
       "      <td>0.0</td>\n",
       "      <td>5.0</td>\n",
       "      <td>4.0</td>\n",
       "      <td>4.0</td>\n",
       "      <td>22.0</td>\n",
       "      <td>0.0</td>\n",
       "      <td>52.0</td>\n",
       "      <td>8.0</td>\n",
       "      <td>0.0</td>\n",
       "      <td>0.0</td>\n",
       "      <td>1.571429</td>\n",
       "      <td>7.142857</td>\n",
       "      <td>37.857143</td>\n",
       "      <td>0.571429</td>\n",
       "      <td>0.571429</td>\n",
       "      <td>3.142857</td>\n",
       "      <td>0.000000</td>\n",
       "    </tr>\n",
       "    <tr>\n",
       "      <th>4</th>\n",
       "      <td>35.0</td>\n",
       "      <td>151.0</td>\n",
       "      <td>228.0</td>\n",
       "      <td>0.0</td>\n",
       "      <td>15.0</td>\n",
       "      <td>21.0</td>\n",
       "      <td>11.0</td>\n",
       "      <td>57.0</td>\n",
       "      <td>2.0</td>\n",
       "      <td>20.0</td>\n",
       "      <td>6.0</td>\n",
       "      <td>0.0</td>\n",
       "      <td>0.0</td>\n",
       "      <td>5.000000</td>\n",
       "      <td>12.428571</td>\n",
       "      <td>32.571429</td>\n",
       "      <td>3.000000</td>\n",
       "      <td>1.571429</td>\n",
       "      <td>8.142857</td>\n",
       "      <td>0.285714</td>\n",
       "    </tr>\n",
       "  </tbody>\n",
       "</table>\n",
       "</div>"
      ],
      "text/plain": [
       "   trade_go  trade_come  sell_to_shop  sell_to_person  mail_go  mail_come  \\\n",
       "0       1.0         0.0           0.0             0.0      0.0        0.0   \n",
       "1       7.0         3.0          52.0             0.0     17.0       16.0   \n",
       "2      15.0         7.0         314.0             0.0     17.0       19.0   \n",
       "3      11.0        14.0         265.0             0.0      5.0        4.0   \n",
       "4      35.0       151.0         228.0             0.0     15.0       21.0   \n",
       "\n",
       "   invite  join  fight  friend_num  friend_num_change_count  too_much_gain  \\\n",
       "0     0.0   2.0    0.0        22.0                      2.0            0.0   \n",
       "1     4.0   9.0    0.0         0.0                      0.0            0.0   \n",
       "2    19.0  47.0    1.0        12.0                      1.0            0.0   \n",
       "3     4.0  22.0    0.0        52.0                      8.0            0.0   \n",
       "4    11.0  57.0    2.0        20.0                      6.0            0.0   \n",
       "\n",
       "   too_much_AP  trade_go_perday  buy_from_shop_perday  sell_to_shop_perday  \\\n",
       "0          1.0         0.250000              0.000000             0.000000   \n",
       "1          0.0         1.166667              1.833333             8.666667   \n",
       "2          0.0         2.142857             10.285714            44.857143   \n",
       "3          0.0         1.571429              7.142857            37.857143   \n",
       "4          0.0         5.000000             12.428571            32.571429   \n",
       "\n",
       "   mail_come_perday  invite_perday  join_perday  fight_perday  \n",
       "0          0.000000       0.000000     0.500000      0.000000  \n",
       "1          2.666667       0.666667     1.500000      0.000000  \n",
       "2          2.714286       2.714286     6.714286      0.142857  \n",
       "3          0.571429       0.571429     3.142857      0.000000  \n",
       "4          3.000000       1.571429     8.142857      0.285714  "
      ]
     },
     "execution_count": 30,
     "metadata": {},
     "output_type": "execute_result"
    }
   ],
   "source": [
    "final_data.head()"
   ]
  },
  {
   "cell_type": "code",
   "execution_count": 31,
   "metadata": {},
   "outputs": [],
   "source": [
    "final_data.to_csv('data_network_3_test.csv')"
   ]
  },
  {
   "cell_type": "code",
   "execution_count": null,
   "metadata": {},
   "outputs": [],
   "source": []
  }
 ],
 "metadata": {
  "kernelspec": {
   "display_name": "Python 3",
   "language": "python",
   "name": "python3"
  },
  "language_info": {
   "codemirror_mode": {
    "name": "ipython",
    "version": 3
   },
   "file_extension": ".py",
   "mimetype": "text/x-python",
   "name": "python",
   "nbconvert_exporter": "python",
   "pygments_lexer": "ipython3",
   "version": "3.7.3"
  }
 },
 "nbformat": 4,
 "nbformat_minor": 2
}
