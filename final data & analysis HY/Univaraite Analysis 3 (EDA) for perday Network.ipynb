{
 "cells": [
  {
   "cell_type": "code",
   "execution_count": 1,
   "metadata": {},
   "outputs": [],
   "source": [
    "import numpy as np\n",
    "import pandas as pd\n",
    "import matplotlib.pyplot as plt\n",
    "from sklearn.metrics import accuracy_score, f1_score\n",
    "\n",
    "pd.set_option(\"max_columns\", 999)\n",
    "pd.set_option(\"max_rows\", 999)"
   ]
  },
  {
   "cell_type": "code",
   "execution_count": 8,
   "metadata": {},
   "outputs": [],
   "source": [
    "network = pd.read_csv('network_perday.csv', index_col = 'Unnamed: 0', engine='python')\n",
    "label = pd.read_csv('labeled_accounts.csv', index_col = 'actor_account', engine='python')"
   ]
  },
  {
   "cell_type": "markdown",
   "metadata": {},
   "source": [
    "# merge // get train and validation sets (get only the accounts labeled)"
   ]
  },
  {
   "cell_type": "code",
   "execution_count": 10,
   "metadata": {},
   "outputs": [
    {
     "data": {
      "text/html": [
       "<div>\n",
       "<style scoped>\n",
       "    .dataframe tbody tr th:only-of-type {\n",
       "        vertical-align: middle;\n",
       "    }\n",
       "\n",
       "    .dataframe tbody tr th {\n",
       "        vertical-align: top;\n",
       "    }\n",
       "\n",
       "    .dataframe thead th {\n",
       "        text-align: right;\n",
       "    }\n",
       "</style>\n",
       "<table border=\"1\" class=\"dataframe\">\n",
       "  <thead>\n",
       "    <tr style=\"text-align: right;\">\n",
       "      <th></th>\n",
       "      <th>actor_account</th>\n",
       "      <th>class</th>\n",
       "      <th>trade_go</th>\n",
       "      <th>trade_come</th>\n",
       "      <th>buy_from_shop</th>\n",
       "      <th>sell_to_shop</th>\n",
       "      <th>buy_from_personal_shop</th>\n",
       "      <th>sell_to_person</th>\n",
       "      <th>mail_go</th>\n",
       "      <th>mail_come</th>\n",
       "      <th>invite</th>\n",
       "      <th>join</th>\n",
       "      <th>revival</th>\n",
       "      <th>fight</th>\n",
       "      <th>friend_num</th>\n",
       "      <th>friend_num_change_count</th>\n",
       "      <th>login_total_day</th>\n",
       "      <th>trade_go_perday</th>\n",
       "      <th>trade_come_perday</th>\n",
       "      <th>buy_from_shop_perday</th>\n",
       "      <th>sell_to_shop_perday</th>\n",
       "      <th>buy_from_personal_shop_perday</th>\n",
       "      <th>mail_go_perday</th>\n",
       "      <th>mail_come_perday</th>\n",
       "      <th>invite_perday</th>\n",
       "      <th>join_perday</th>\n",
       "      <th>revival_perday</th>\n",
       "      <th>fight_perday</th>\n",
       "    </tr>\n",
       "  </thead>\n",
       "  <tbody>\n",
       "    <tr>\n",
       "      <th>0</th>\n",
       "      <td>20000005</td>\n",
       "      <td>0</td>\n",
       "      <td>2.0</td>\n",
       "      <td>4.0</td>\n",
       "      <td>72.0</td>\n",
       "      <td>196.0</td>\n",
       "      <td>0.0</td>\n",
       "      <td>6.0</td>\n",
       "      <td>1.0</td>\n",
       "      <td>21.0</td>\n",
       "      <td>7.0</td>\n",
       "      <td>58.0</td>\n",
       "      <td>2.0</td>\n",
       "      <td>0.0</td>\n",
       "      <td>0.0</td>\n",
       "      <td>0.0</td>\n",
       "      <td>15.0</td>\n",
       "      <td>0.133333</td>\n",
       "      <td>0.266667</td>\n",
       "      <td>4.800000</td>\n",
       "      <td>13.066667</td>\n",
       "      <td>0.0</td>\n",
       "      <td>0.066667</td>\n",
       "      <td>1.400000</td>\n",
       "      <td>0.466667</td>\n",
       "      <td>3.866667</td>\n",
       "      <td>0.133333</td>\n",
       "      <td>0.000000</td>\n",
       "    </tr>\n",
       "    <tr>\n",
       "      <th>1</th>\n",
       "      <td>20000016</td>\n",
       "      <td>0</td>\n",
       "      <td>1.0</td>\n",
       "      <td>0.0</td>\n",
       "      <td>34.0</td>\n",
       "      <td>111.0</td>\n",
       "      <td>0.0</td>\n",
       "      <td>1.0</td>\n",
       "      <td>0.0</td>\n",
       "      <td>56.0</td>\n",
       "      <td>16.0</td>\n",
       "      <td>35.0</td>\n",
       "      <td>0.0</td>\n",
       "      <td>0.0</td>\n",
       "      <td>0.0</td>\n",
       "      <td>0.0</td>\n",
       "      <td>14.0</td>\n",
       "      <td>0.071429</td>\n",
       "      <td>0.000000</td>\n",
       "      <td>2.428571</td>\n",
       "      <td>7.928571</td>\n",
       "      <td>0.0</td>\n",
       "      <td>0.000000</td>\n",
       "      <td>4.000000</td>\n",
       "      <td>1.142857</td>\n",
       "      <td>2.500000</td>\n",
       "      <td>0.000000</td>\n",
       "      <td>0.000000</td>\n",
       "    </tr>\n",
       "    <tr>\n",
       "      <th>2</th>\n",
       "      <td>20000033</td>\n",
       "      <td>0</td>\n",
       "      <td>12.0</td>\n",
       "      <td>9.0</td>\n",
       "      <td>31.0</td>\n",
       "      <td>338.0</td>\n",
       "      <td>0.0</td>\n",
       "      <td>0.0</td>\n",
       "      <td>2.0</td>\n",
       "      <td>3.0</td>\n",
       "      <td>5.0</td>\n",
       "      <td>46.0</td>\n",
       "      <td>1.0</td>\n",
       "      <td>1.0</td>\n",
       "      <td>4.0</td>\n",
       "      <td>2.0</td>\n",
       "      <td>14.0</td>\n",
       "      <td>0.857143</td>\n",
       "      <td>0.642857</td>\n",
       "      <td>2.214286</td>\n",
       "      <td>24.142857</td>\n",
       "      <td>0.0</td>\n",
       "      <td>0.142857</td>\n",
       "      <td>0.214286</td>\n",
       "      <td>0.357143</td>\n",
       "      <td>3.285714</td>\n",
       "      <td>0.071429</td>\n",
       "      <td>0.071429</td>\n",
       "    </tr>\n",
       "    <tr>\n",
       "      <th>3</th>\n",
       "      <td>20000035</td>\n",
       "      <td>0</td>\n",
       "      <td>111.0</td>\n",
       "      <td>37.0</td>\n",
       "      <td>11.0</td>\n",
       "      <td>504.0</td>\n",
       "      <td>0.0</td>\n",
       "      <td>0.0</td>\n",
       "      <td>0.0</td>\n",
       "      <td>0.0</td>\n",
       "      <td>0.0</td>\n",
       "      <td>0.0</td>\n",
       "      <td>0.0</td>\n",
       "      <td>0.0</td>\n",
       "      <td>0.0</td>\n",
       "      <td>0.0</td>\n",
       "      <td>15.0</td>\n",
       "      <td>7.400000</td>\n",
       "      <td>2.466667</td>\n",
       "      <td>0.733333</td>\n",
       "      <td>33.600000</td>\n",
       "      <td>0.0</td>\n",
       "      <td>0.000000</td>\n",
       "      <td>0.000000</td>\n",
       "      <td>0.000000</td>\n",
       "      <td>0.000000</td>\n",
       "      <td>0.000000</td>\n",
       "      <td>0.000000</td>\n",
       "    </tr>\n",
       "    <tr>\n",
       "      <th>4</th>\n",
       "      <td>20000051</td>\n",
       "      <td>0</td>\n",
       "      <td>74.0</td>\n",
       "      <td>57.0</td>\n",
       "      <td>68.0</td>\n",
       "      <td>254.0</td>\n",
       "      <td>0.0</td>\n",
       "      <td>0.0</td>\n",
       "      <td>21.0</td>\n",
       "      <td>35.0</td>\n",
       "      <td>85.0</td>\n",
       "      <td>98.0</td>\n",
       "      <td>1.0</td>\n",
       "      <td>25.0</td>\n",
       "      <td>0.0</td>\n",
       "      <td>0.0</td>\n",
       "      <td>15.0</td>\n",
       "      <td>4.933333</td>\n",
       "      <td>3.800000</td>\n",
       "      <td>4.533333</td>\n",
       "      <td>16.933333</td>\n",
       "      <td>0.0</td>\n",
       "      <td>1.400000</td>\n",
       "      <td>2.333333</td>\n",
       "      <td>5.666667</td>\n",
       "      <td>6.533333</td>\n",
       "      <td>0.066667</td>\n",
       "      <td>1.666667</td>\n",
       "    </tr>\n",
       "  </tbody>\n",
       "</table>\n",
       "</div>"
      ],
      "text/plain": [
       "   actor_account  class  trade_go  trade_come  buy_from_shop  sell_to_shop  \\\n",
       "0       20000005      0       2.0         4.0           72.0         196.0   \n",
       "1       20000016      0       1.0         0.0           34.0         111.0   \n",
       "2       20000033      0      12.0         9.0           31.0         338.0   \n",
       "3       20000035      0     111.0        37.0           11.0         504.0   \n",
       "4       20000051      0      74.0        57.0           68.0         254.0   \n",
       "\n",
       "   buy_from_personal_shop  sell_to_person  mail_go  mail_come  invite  join  \\\n",
       "0                     0.0             6.0      1.0       21.0     7.0  58.0   \n",
       "1                     0.0             1.0      0.0       56.0    16.0  35.0   \n",
       "2                     0.0             0.0      2.0        3.0     5.0  46.0   \n",
       "3                     0.0             0.0      0.0        0.0     0.0   0.0   \n",
       "4                     0.0             0.0     21.0       35.0    85.0  98.0   \n",
       "\n",
       "   revival  fight  friend_num  friend_num_change_count  login_total_day  \\\n",
       "0      2.0    0.0         0.0                      0.0             15.0   \n",
       "1      0.0    0.0         0.0                      0.0             14.0   \n",
       "2      1.0    1.0         4.0                      2.0             14.0   \n",
       "3      0.0    0.0         0.0                      0.0             15.0   \n",
       "4      1.0   25.0         0.0                      0.0             15.0   \n",
       "\n",
       "   trade_go_perday  trade_come_perday  buy_from_shop_perday  \\\n",
       "0         0.133333           0.266667              4.800000   \n",
       "1         0.071429           0.000000              2.428571   \n",
       "2         0.857143           0.642857              2.214286   \n",
       "3         7.400000           2.466667              0.733333   \n",
       "4         4.933333           3.800000              4.533333   \n",
       "\n",
       "   sell_to_shop_perday  buy_from_personal_shop_perday  mail_go_perday  \\\n",
       "0            13.066667                            0.0        0.066667   \n",
       "1             7.928571                            0.0        0.000000   \n",
       "2            24.142857                            0.0        0.142857   \n",
       "3            33.600000                            0.0        0.000000   \n",
       "4            16.933333                            0.0        1.400000   \n",
       "\n",
       "   mail_come_perday  invite_perday  join_perday  revival_perday  fight_perday  \n",
       "0          1.400000       0.466667     3.866667        0.133333      0.000000  \n",
       "1          4.000000       1.142857     2.500000        0.000000      0.000000  \n",
       "2          0.214286       0.357143     3.285714        0.071429      0.071429  \n",
       "3          0.000000       0.000000     0.000000        0.000000      0.000000  \n",
       "4          2.333333       5.666667     6.533333        0.066667      1.666667  "
      ]
     },
     "execution_count": 10,
     "metadata": {},
     "output_type": "execute_result"
    }
   ],
   "source": [
    "final = pd.merge(label, network, how='inner',  on = \"actor_account\")\n",
    "model_data = final.copy()\n",
    "final.head()"
   ]
  },
  {
   "cell_type": "code",
   "execution_count": 11,
   "metadata": {},
   "outputs": [],
   "source": [
    "# check if there is any nan values\n",
    "for i in model_data.columns:\n",
    "    model_data[model_data[i] == np.nan]\n",
    "\n",
    "# There are inf values. Change it to max value in the column\n",
    "for i in model_data.columns:\n",
    "    model_data.loc[model_data[i] == np.inf, i] = np.nan\n",
    "    model_data.loc[np.isnan(model_data[i]), i] = max(model_data[i])"
   ]
  },
  {
   "cell_type": "code",
   "execution_count": 12,
   "metadata": {},
   "outputs": [],
   "source": [
    "x = model_data.iloc[:,2:]\n",
    "y = model_data.iloc[:,1]"
   ]
  },
  {
   "cell_type": "markdown",
   "metadata": {},
   "source": [
    "## Correlation Cofficient \n",
    "    1. Actor_account is a dummy variable. Any variable that has a lower contribution than actor_account should be deleted\n",
    "    2. Exp_repair_count a single value of 1. This should be deleted"
   ]
  },
  {
   "cell_type": "code",
   "execution_count": 13,
   "metadata": {},
   "outputs": [
    {
     "name": "stdout",
     "output_type": "stream",
     "text": [
      "sell_to_shop 0.2984588920147949\n",
      "join -0.18702031263339156\n",
      "trade_go_perday 0.2698658651064932\n",
      "sell_to_shop_perday 0.42309094439787875\n",
      "join_perday -0.22129588452478213\n"
     ]
    }
   ],
   "source": [
    "for i in range(0, len(x.columns)):\n",
    "    if abs(np.corrcoef(x.iloc[:,i], y)[0,1]) > abs(np.corrcoef(x.iloc[:,0], y)[0,1]):\n",
    "        print(x.columns[i], np.corrcoef(x.iloc[:,i], y)[0,1])"
   ]
  },
  {
   "cell_type": "code",
   "execution_count": 14,
   "metadata": {},
   "outputs": [],
   "source": [
    "x = model_data.drop(['class'], axis=1)"
   ]
  },
  {
   "cell_type": "code",
   "execution_count": 15,
   "metadata": {},
   "outputs": [
    {
     "data": {
      "text/html": [
       "<div>\n",
       "<style scoped>\n",
       "    .dataframe tbody tr th:only-of-type {\n",
       "        vertical-align: middle;\n",
       "    }\n",
       "\n",
       "    .dataframe tbody tr th {\n",
       "        vertical-align: top;\n",
       "    }\n",
       "\n",
       "    .dataframe thead th {\n",
       "        text-align: right;\n",
       "    }\n",
       "</style>\n",
       "<table border=\"1\" class=\"dataframe\">\n",
       "  <thead>\n",
       "    <tr style=\"text-align: right;\">\n",
       "      <th></th>\n",
       "      <th>actor_account</th>\n",
       "      <th>trade_go</th>\n",
       "      <th>trade_come</th>\n",
       "      <th>buy_from_shop</th>\n",
       "      <th>sell_to_shop</th>\n",
       "      <th>buy_from_personal_shop</th>\n",
       "      <th>sell_to_person</th>\n",
       "      <th>mail_go</th>\n",
       "      <th>mail_come</th>\n",
       "      <th>invite</th>\n",
       "      <th>join</th>\n",
       "      <th>revival</th>\n",
       "      <th>fight</th>\n",
       "      <th>friend_num</th>\n",
       "      <th>friend_num_change_count</th>\n",
       "      <th>login_total_day</th>\n",
       "      <th>trade_go_perday</th>\n",
       "      <th>trade_come_perday</th>\n",
       "      <th>buy_from_shop_perday</th>\n",
       "      <th>sell_to_shop_perday</th>\n",
       "      <th>buy_from_personal_shop_perday</th>\n",
       "      <th>mail_go_perday</th>\n",
       "      <th>mail_come_perday</th>\n",
       "      <th>invite_perday</th>\n",
       "      <th>join_perday</th>\n",
       "      <th>revival_perday</th>\n",
       "      <th>fight_perday</th>\n",
       "    </tr>\n",
       "  </thead>\n",
       "  <tbody>\n",
       "    <tr>\n",
       "      <th>0</th>\n",
       "      <td>20000005.0</td>\n",
       "      <td>2.0</td>\n",
       "      <td>4.0</td>\n",
       "      <td>72.0</td>\n",
       "      <td>196.0</td>\n",
       "      <td>0.0</td>\n",
       "      <td>6.0</td>\n",
       "      <td>1.0</td>\n",
       "      <td>21.0</td>\n",
       "      <td>7.0</td>\n",
       "      <td>58.0</td>\n",
       "      <td>2.0</td>\n",
       "      <td>0.0</td>\n",
       "      <td>0.0</td>\n",
       "      <td>0.0</td>\n",
       "      <td>15.0</td>\n",
       "      <td>0.133333</td>\n",
       "      <td>0.266667</td>\n",
       "      <td>4.800000</td>\n",
       "      <td>13.066667</td>\n",
       "      <td>0.0</td>\n",
       "      <td>0.066667</td>\n",
       "      <td>1.400000</td>\n",
       "      <td>0.466667</td>\n",
       "      <td>3.866667</td>\n",
       "      <td>0.133333</td>\n",
       "      <td>0.000000</td>\n",
       "    </tr>\n",
       "    <tr>\n",
       "      <th>1</th>\n",
       "      <td>20000016.0</td>\n",
       "      <td>1.0</td>\n",
       "      <td>0.0</td>\n",
       "      <td>34.0</td>\n",
       "      <td>111.0</td>\n",
       "      <td>0.0</td>\n",
       "      <td>1.0</td>\n",
       "      <td>0.0</td>\n",
       "      <td>56.0</td>\n",
       "      <td>16.0</td>\n",
       "      <td>35.0</td>\n",
       "      <td>0.0</td>\n",
       "      <td>0.0</td>\n",
       "      <td>0.0</td>\n",
       "      <td>0.0</td>\n",
       "      <td>14.0</td>\n",
       "      <td>0.071429</td>\n",
       "      <td>0.000000</td>\n",
       "      <td>2.428571</td>\n",
       "      <td>7.928571</td>\n",
       "      <td>0.0</td>\n",
       "      <td>0.000000</td>\n",
       "      <td>4.000000</td>\n",
       "      <td>1.142857</td>\n",
       "      <td>2.500000</td>\n",
       "      <td>0.000000</td>\n",
       "      <td>0.000000</td>\n",
       "    </tr>\n",
       "    <tr>\n",
       "      <th>2</th>\n",
       "      <td>20000033.0</td>\n",
       "      <td>12.0</td>\n",
       "      <td>9.0</td>\n",
       "      <td>31.0</td>\n",
       "      <td>338.0</td>\n",
       "      <td>0.0</td>\n",
       "      <td>0.0</td>\n",
       "      <td>2.0</td>\n",
       "      <td>3.0</td>\n",
       "      <td>5.0</td>\n",
       "      <td>46.0</td>\n",
       "      <td>1.0</td>\n",
       "      <td>1.0</td>\n",
       "      <td>4.0</td>\n",
       "      <td>2.0</td>\n",
       "      <td>14.0</td>\n",
       "      <td>0.857143</td>\n",
       "      <td>0.642857</td>\n",
       "      <td>2.214286</td>\n",
       "      <td>24.142857</td>\n",
       "      <td>0.0</td>\n",
       "      <td>0.142857</td>\n",
       "      <td>0.214286</td>\n",
       "      <td>0.357143</td>\n",
       "      <td>3.285714</td>\n",
       "      <td>0.071429</td>\n",
       "      <td>0.071429</td>\n",
       "    </tr>\n",
       "    <tr>\n",
       "      <th>3</th>\n",
       "      <td>20000035.0</td>\n",
       "      <td>111.0</td>\n",
       "      <td>37.0</td>\n",
       "      <td>11.0</td>\n",
       "      <td>504.0</td>\n",
       "      <td>0.0</td>\n",
       "      <td>0.0</td>\n",
       "      <td>0.0</td>\n",
       "      <td>0.0</td>\n",
       "      <td>0.0</td>\n",
       "      <td>0.0</td>\n",
       "      <td>0.0</td>\n",
       "      <td>0.0</td>\n",
       "      <td>0.0</td>\n",
       "      <td>0.0</td>\n",
       "      <td>15.0</td>\n",
       "      <td>7.400000</td>\n",
       "      <td>2.466667</td>\n",
       "      <td>0.733333</td>\n",
       "      <td>33.600000</td>\n",
       "      <td>0.0</td>\n",
       "      <td>0.000000</td>\n",
       "      <td>0.000000</td>\n",
       "      <td>0.000000</td>\n",
       "      <td>0.000000</td>\n",
       "      <td>0.000000</td>\n",
       "      <td>0.000000</td>\n",
       "    </tr>\n",
       "    <tr>\n",
       "      <th>4</th>\n",
       "      <td>20000051.0</td>\n",
       "      <td>74.0</td>\n",
       "      <td>57.0</td>\n",
       "      <td>68.0</td>\n",
       "      <td>254.0</td>\n",
       "      <td>0.0</td>\n",
       "      <td>0.0</td>\n",
       "      <td>21.0</td>\n",
       "      <td>35.0</td>\n",
       "      <td>85.0</td>\n",
       "      <td>98.0</td>\n",
       "      <td>1.0</td>\n",
       "      <td>25.0</td>\n",
       "      <td>0.0</td>\n",
       "      <td>0.0</td>\n",
       "      <td>15.0</td>\n",
       "      <td>4.933333</td>\n",
       "      <td>3.800000</td>\n",
       "      <td>4.533333</td>\n",
       "      <td>16.933333</td>\n",
       "      <td>0.0</td>\n",
       "      <td>1.400000</td>\n",
       "      <td>2.333333</td>\n",
       "      <td>5.666667</td>\n",
       "      <td>6.533333</td>\n",
       "      <td>0.066667</td>\n",
       "      <td>1.666667</td>\n",
       "    </tr>\n",
       "  </tbody>\n",
       "</table>\n",
       "</div>"
      ],
      "text/plain": [
       "   actor_account  trade_go  trade_come  buy_from_shop  sell_to_shop  \\\n",
       "0     20000005.0       2.0         4.0           72.0         196.0   \n",
       "1     20000016.0       1.0         0.0           34.0         111.0   \n",
       "2     20000033.0      12.0         9.0           31.0         338.0   \n",
       "3     20000035.0     111.0        37.0           11.0         504.0   \n",
       "4     20000051.0      74.0        57.0           68.0         254.0   \n",
       "\n",
       "   buy_from_personal_shop  sell_to_person  mail_go  mail_come  invite  join  \\\n",
       "0                     0.0             6.0      1.0       21.0     7.0  58.0   \n",
       "1                     0.0             1.0      0.0       56.0    16.0  35.0   \n",
       "2                     0.0             0.0      2.0        3.0     5.0  46.0   \n",
       "3                     0.0             0.0      0.0        0.0     0.0   0.0   \n",
       "4                     0.0             0.0     21.0       35.0    85.0  98.0   \n",
       "\n",
       "   revival  fight  friend_num  friend_num_change_count  login_total_day  \\\n",
       "0      2.0    0.0         0.0                      0.0             15.0   \n",
       "1      0.0    0.0         0.0                      0.0             14.0   \n",
       "2      1.0    1.0         4.0                      2.0             14.0   \n",
       "3      0.0    0.0         0.0                      0.0             15.0   \n",
       "4      1.0   25.0         0.0                      0.0             15.0   \n",
       "\n",
       "   trade_go_perday  trade_come_perday  buy_from_shop_perday  \\\n",
       "0         0.133333           0.266667              4.800000   \n",
       "1         0.071429           0.000000              2.428571   \n",
       "2         0.857143           0.642857              2.214286   \n",
       "3         7.400000           2.466667              0.733333   \n",
       "4         4.933333           3.800000              4.533333   \n",
       "\n",
       "   sell_to_shop_perday  buy_from_personal_shop_perday  mail_go_perday  \\\n",
       "0            13.066667                            0.0        0.066667   \n",
       "1             7.928571                            0.0        0.000000   \n",
       "2            24.142857                            0.0        0.142857   \n",
       "3            33.600000                            0.0        0.000000   \n",
       "4            16.933333                            0.0        1.400000   \n",
       "\n",
       "   mail_come_perday  invite_perday  join_perday  revival_perday  fight_perday  \n",
       "0          1.400000       0.466667     3.866667        0.133333      0.000000  \n",
       "1          4.000000       1.142857     2.500000        0.000000      0.000000  \n",
       "2          0.214286       0.357143     3.285714        0.071429      0.071429  \n",
       "3          0.000000       0.000000     0.000000        0.000000      0.000000  \n",
       "4          2.333333       5.666667     6.533333        0.066667      1.666667  "
      ]
     },
     "execution_count": 15,
     "metadata": {},
     "output_type": "execute_result"
    }
   ],
   "source": [
    "x.head()"
   ]
  },
  {
   "cell_type": "markdown",
   "metadata": {},
   "source": [
    "## Lasso (Model Based Feature Selection)"
   ]
  },
  {
   "cell_type": "code",
   "execution_count": 16,
   "metadata": {},
   "outputs": [
    {
     "name": "stdout",
     "output_type": "stream",
     "text": [
      "0.195\n",
      "0.204\n"
     ]
    }
   ],
   "source": [
    "from sklearn.model_selection import train_test_split\n",
    "from sklearn.linear_model import Lasso, Ridge\n",
    "\n",
    "x_train, x_test, y_train, y_test = train_test_split(x, y, random_state=0, test_size=0.3)\n",
    "\n",
    "lasso = Lasso().fit(x_train, y_train)\n",
    "\n",
    "print('{:.3f}'.format(lasso.score(x_train, y_train)))\n",
    "print('{:.3f}'.format(lasso.score(x_test, y_test)))"
   ]
  },
  {
   "cell_type": "code",
   "execution_count": 17,
   "metadata": {},
   "outputs": [
    {
     "data": {
      "image/png": "[encoded data removed]",
      "text/plain": [
       "<Figure size 432x288 with 1 Axes>"
      ]
     },
     "metadata": {
      "needs_background": "light"
     },
     "output_type": "display_data"
    }
   ],
   "source": [
    "import matplotlib.pyplot as plt\n",
    "\n",
    "alpha_set = [0.0001, 0.01, 0.1, 1]\n",
    "max_inter_set = [10000000, 100000, 10000, 1000]\n",
    "\n",
    "train_score = []\n",
    "test_score = []\n",
    "used_feature = []\n",
    "\n",
    "for a, m in zip(alpha_set, max_inter_set):\n",
    "    lasso_tr_y = lasso.predict(x_train)\n",
    "    lasso_t_y = lasso.predict(x_test)\n",
    "    lasso = Lasso(alpha=a, max_iter=m).fit(x_train, y_train)\n",
    "    la_tr_score = np.round(f1_score((lasso.predict(x_train) > np.percentile(lasso_tr_y, 93)).astype(int), y_train), 3)\n",
    "    la_te_score = np.round(f1_score((lasso.predict(x_test) > np.percentile(lasso_t_y, 93)).astype(int), y_test), 3)\n",
    "    number_used = np.sum(lasso.coef_ != 0)\n",
    "\n",
    "    train_score.append(la_tr_score)\n",
    "    test_score.append(la_te_score)\n",
    "    used_feature.append(number_used)\n",
    "\n",
    "index = np.arange(len(alpha_set))\n",
    "bar_width = 0.35\n",
    "plt.bar(index, train_score, width=bar_width, label='train')\n",
    "plt.bar(index+bar_width, test_score, width=bar_width, label='test')\n",
    "plt.xticks(index+bar_width/2, alpha_set) # bar그래\u0005프 dodge를 하기 위해 기준값에 보정치를 더해줍니다.\n",
    "\n",
    "\n",
    "for i, (ts, te) in enumerate(zip(train_score, test_score)):\n",
    "    plt.text(i, ts+0.01, str(ts), horizontalalignment='center')\n",
    "    plt.text(i+bar_width, te+0.01, str(te), horizontalalignment='center')\n",
    "\n",
    "# plt.legend(loc=1, )\n",
    "plt.xlabel('alpha')\n",
    "plt.ylabel('f1 score')\n",
    "plt.show()"
   ]
  },
  {
   "cell_type": "markdown",
   "metadata": {},
   "source": [
    "## Results of Feature Selection by Lasso"
   ]
  },
  {
   "cell_type": "code",
   "execution_count": 18,
   "metadata": {},
   "outputs": [
    {
     "name": "stdout",
     "output_type": "stream",
     "text": [
      "trade_go 0.0003002315444648996\n",
      "buy_from_shop 3.466892495401477e-05\n",
      "sell_to_shop 4.542410595340228e-05\n",
      "invite -0.00023994739251804092\n",
      "join -0.00037570561668296093\n",
      "sell_to_shop_perday 0.0016584133042305946\n"
     ]
    }
   ],
   "source": [
    "# when alpha is 1\n",
    "\n",
    "lasso = Lasso(alpha=1, max_iter=1000).fit(x_train, y_train)\n",
    "\n",
    "lasso_tr_y = lasso.predict(x_train)\n",
    "lasso_t_y = lasso.predict(x_test)\n",
    "\n",
    "for i in range(0, len(x.columns)):\n",
    "    if abs(lasso.coef_[i]) > abs(lasso.coef_[0]):\n",
    "        print(x.columns[i], lasso.coef_[i])"
   ]
  },
  {
   "cell_type": "code",
   "execution_count": 19,
   "metadata": {},
   "outputs": [
    {
     "name": "stdout",
     "output_type": "stream",
     "text": [
      "trade_go 0.0004161986452300903\n",
      "trade_come 3.285466584839698e-05\n",
      "buy_from_shop 9.223954291428586e-05\n",
      "sell_to_shop -6.963242276993499e-05\n",
      "mail_go 8.204517360398539e-05\n",
      "mail_come -0.00021417075895728655\n",
      "invite -0.00024873008845290593\n",
      "join -0.0008867553799854693\n",
      "revival -8.798801069083942e-05\n",
      "friend_num -0.000285965567629661\n",
      "trade_go_perday 0.0009415416622676994\n",
      "buy_from_shop_perday -0.0002631639632192126\n",
      "sell_to_shop_perday 0.0029895005908258526\n"
     ]
    }
   ],
   "source": [
    "# when alpha is 0.1\n",
    "\n",
    "lasso = Lasso(alpha=0.1, max_iter=10000).fit(x_train, y_train)\n",
    "\n",
    "lasso_tr_y = lasso.predict(x_train)\n",
    "lasso_t_y = lasso.predict(x_test)\n",
    "\n",
    "for i in range(0, len(x.columns)):\n",
    "    if abs(lasso.coef_[i]) > abs(lasso.coef_[0]):\n",
    "        print(x.columns[i], lasso.coef_[i])"
   ]
  },
  {
   "cell_type": "code",
   "execution_count": 20,
   "metadata": {},
   "outputs": [
    {
     "name": "stdout",
     "output_type": "stream",
     "text": [
      "trade_go -0.000157830983955872\n",
      "trade_come -0.00012873773774463418\n",
      "buy_from_shop 0.00010987657879064471\n",
      "sell_to_shop -5.876352121880361e-05\n",
      "buy_from_personal_shop -0.00026182324302688107\n",
      "mail_go 0.00040520970193247337\n",
      "mail_come -0.0004577689640955202\n",
      "invite -5.84347386157429e-05\n",
      "join 0.0017526540586135313\n",
      "revival -0.0008778073510743022\n",
      "fight 3.738307751402948e-05\n",
      "friend_num -0.00025299946591934245\n",
      "friend_num_change_count -0.000973096872371969\n",
      "login_total_day -0.003819714995745685\n",
      "trade_go_perday 0.008531766363378946\n",
      "trade_come_perday 0.0025787389494817577\n",
      "buy_from_shop_perday -0.00040871892983915855\n",
      "sell_to_shop_perday 0.00273492708307896\n",
      "invite_perday -0.0018954578827104526\n",
      "join_perday -0.034899639743882556\n"
     ]
    }
   ],
   "source": [
    "# when alpha is 0.01\n",
    "\n",
    "lasso = Lasso(alpha=0.01, max_iter=100000).fit(x_train, y_train)\n",
    "\n",
    "lasso_tr_y = lasso.predict(x_train)\n",
    "lasso_t_y = lasso.predict(x_test)\n",
    "\n",
    "for i in range(0, len(x.columns)):\n",
    "    if abs(lasso.coef_[i]) > abs(lasso.coef_[0]):\n",
    "        print(x.columns[i], lasso.coef_[i])"
   ]
  },
  {
   "cell_type": "markdown",
   "metadata": {},
   "source": [
    "# Lasso is not a powerful model. Try Xgboost"
   ]
  },
  {
   "cell_type": "code",
   "execution_count": 21,
   "metadata": {},
   "outputs": [],
   "source": [
    "import xgboost as xgb\n",
    "from xgboost.sklearn import XGBClassifier"
   ]
  },
  {
   "cell_type": "code",
   "execution_count": 22,
   "metadata": {},
   "outputs": [],
   "source": [
    "from sklearn.model_selection import train_test_split\n",
    "x_train, x_test, y_train, y_test = train_test_split(x, y, test_size=0.3)"
   ]
  },
  {
   "cell_type": "code",
   "execution_count": 23,
   "metadata": {},
   "outputs": [],
   "source": [
    "xgb_model = xgb.XGBClassifier(n_estimators=1000,\n",
    "                        n_jobs=6,\n",
    "                        max_depth=5,\n",
    "                        learning_rate=0.1,\n",
    "                        gamma = 0,\n",
    "                        subsample = 0.8,\n",
    "                        scale_pos_weight = 1,\n",
    "                        min_child_weight=1,\n",
    "                        colsample_bytree=0.8,\n",
    "                        objective= 'binary:logistic',\n",
    "                        nthread=4,\n",
    "                        missing=-999,\n",
    "                        seed=27,\n",
    "                        tree_method='gpu_hist')"
   ]
  },
  {
   "cell_type": "code",
   "execution_count": 24,
   "metadata": {},
   "outputs": [
    {
     "data": {
      "text/plain": [
       "XGBClassifier(base_score=0.5, booster='gbtree', colsample_bylevel=1,\n",
       "              colsample_bynode=1, colsample_bytree=0.8, gamma=0,\n",
       "              learning_rate=0.1, max_delta_step=0, max_depth=5,\n",
       "              min_child_weight=1, missing=-999, n_estimators=1000, n_jobs=6,\n",
       "              nthread=4, objective='binary:logistic', random_state=0,\n",
       "              reg_alpha=0, reg_lambda=1, scale_pos_weight=1, seed=27,\n",
       "              silent=None, subsample=0.8, tree_method='gpu_hist', verbosity=1)"
      ]
     },
     "execution_count": 24,
     "metadata": {},
     "output_type": "execute_result"
    }
   ],
   "source": [
    "xgb_model.fit(x_train,y_train)"
   ]
  },
  {
   "cell_type": "code",
   "execution_count": 25,
   "metadata": {},
   "outputs": [],
   "source": [
    "prediction = xgb_model.predict(x_test)"
   ]
  },
  {
   "cell_type": "code",
   "execution_count": 26,
   "metadata": {},
   "outputs": [
    {
     "data": {
      "text/plain": [
       "0.7425149700598802"
      ]
     },
     "execution_count": 26,
     "metadata": {},
     "output_type": "execute_result"
    }
   ],
   "source": [
    "f1_score(y_test, prediction)"
   ]
  },
  {
   "cell_type": "code",
   "execution_count": 27,
   "metadata": {},
   "outputs": [
    {
     "data": {
      "text/plain": [
       "array([0.01630061, 0.03046578, 0.02175866, 0.02029649, 0.03171898,\n",
       "       0.04057935, 0.02257826, 0.03200043, 0.02438327, 0.02346416,\n",
       "       0.04739983, 0.03091337, 0.10037703, 0.03240396, 0.03155097,\n",
       "       0.05374254, 0.04507462, 0.01661516, 0.01984182, 0.04683835,\n",
       "       0.03246071, 0.02605284, 0.02489025, 0.03675087, 0.10970648,\n",
       "       0.02362457, 0.05821074], dtype=float32)"
      ]
     },
     "execution_count": 27,
     "metadata": {},
     "output_type": "execute_result"
    }
   ],
   "source": [
    "xgb_model.feature_importances_"
   ]
  },
  {
   "cell_type": "code",
   "execution_count": 28,
   "metadata": {},
   "outputs": [
    {
     "data": {
      "text/plain": [
       "<BarContainer object of 27 artists>"
      ]
     },
     "execution_count": 28,
     "metadata": {},
     "output_type": "execute_result"
    },
    {
     "data": {
      "image/png": "[encoded data removed]",
      "text/plain": [
       "<Figure size 432x288 with 1 Axes>"
      ]
     },
     "metadata": {
      "needs_background": "light"
     },
     "output_type": "display_data"
    }
   ],
   "source": [
    "plt.bar(range(len(xgb_model.feature_importances_)), xgb_model.feature_importances_)"
   ]
  },
  {
   "cell_type": "code",
   "execution_count": 29,
   "metadata": {},
   "outputs": [
    {
     "data": {
      "image/png": "[encoded data removed]",
      "text/plain": [
       "<Figure size 432x288 with 1 Axes>"
      ]
     },
     "metadata": {
      "needs_background": "light"
     },
     "output_type": "display_data"
    },
    {
     "data": {
      "text/plain": [
       "<Figure size 144000x7200 with 0 Axes>"
      ]
     },
     "metadata": {},
     "output_type": "display_data"
    }
   ],
   "source": [
    "from xgboost import plot_importance\n",
    "from matplotlib import pyplot\n",
    "\n",
    "plot_importance(xgb_model)\n",
    "pyplot.figure(figsize=(2000,100))\n",
    "pyplot.show()"
   ]
  },
  {
   "cell_type": "code",
   "execution_count": 30,
   "metadata": {
    "scrolled": true
   },
   "outputs": [
    {
     "name": "stdout",
     "output_type": "stream",
     "text": [
      "actor_account 0.016300607\n",
      "trade_go 0.030465776\n",
      "trade_come 0.021758659\n",
      "buy_from_shop 0.020296488\n",
      "sell_to_shop 0.031718977\n",
      "buy_from_personal_shop 0.040579345\n",
      "sell_to_person 0.022578262\n",
      "mail_go 0.032000434\n",
      "mail_come 0.024383266\n",
      "invite 0.023464156\n",
      "join 0.047399834\n",
      "revival 0.030913366\n",
      "fight 0.10037703\n",
      "friend_num 0.032403957\n",
      "friend_num_change_count 0.031550966\n",
      "login_total_day 0.053742535\n",
      "trade_go_perday 0.04507462\n",
      "trade_come_perday 0.016615162\n",
      "buy_from_shop_perday 0.019841824\n",
      "sell_to_shop_perday 0.046838354\n",
      "buy_from_personal_shop_perday 0.032460712\n",
      "mail_go_perday 0.02605284\n",
      "mail_come_perday 0.024890246\n",
      "invite_perday 0.03675087\n",
      "join_perday 0.109706484\n",
      "revival_perday 0.023624567\n",
      "fight_perday 0.058210738\n"
     ]
    }
   ],
   "source": [
    "Fi = xgb_model.feature_importances_\n",
    "\n",
    "for i in range(0, len(x.columns)):\n",
    "    print(x.columns[i],  Fi[i])"
   ]
  },
  {
   "cell_type": "markdown",
   "metadata": {},
   "source": [
    "Varables to exclude\n",
    "1. buy_from_shop\n",
    "2. by_from_personal_shop\n",
    "3. buy_from_personal_shop_perday\n",
    "4. mail_go_perday \n",
    "5. revival\n",
    "6. revival perday\n",
    "7. trade_come_perday"
   ]
  },
  {
   "cell_type": "markdown",
   "metadata": {},
   "source": [
    "# Creating Final Training Data"
   ]
  },
  {
   "cell_type": "code",
   "execution_count": 31,
   "metadata": {},
   "outputs": [],
   "source": [
    "v2e = ['buy_from_shop', 'buy_from_personal_shop', 'buy_from_personal_shop_perday', 'mail_go_perday', 'revival', 'revival_perday', 'trade_come_perday']"
   ]
  },
  {
   "cell_type": "code",
   "execution_count": 32,
   "metadata": {},
   "outputs": [],
   "source": [
    "final_data = pd.DataFrame"
   ]
  },
  {
   "cell_type": "code",
   "execution_count": 33,
   "metadata": {},
   "outputs": [],
   "source": [
    "# Through inspection of each columns\n",
    "for i in v2e:\n",
    "    del model_data[i]"
   ]
  },
  {
   "cell_type": "code",
   "execution_count": 34,
   "metadata": {},
   "outputs": [],
   "source": [
    "final_data = model_data.copy()\n",
    "final_data['class'] = y"
   ]
  },
  {
   "cell_type": "code",
   "execution_count": 37,
   "metadata": {},
   "outputs": [
    {
     "data": {
      "text/html": [
       "<div>\n",
       "<style scoped>\n",
       "    .dataframe tbody tr th:only-of-type {\n",
       "        vertical-align: middle;\n",
       "    }\n",
       "\n",
       "    .dataframe tbody tr th {\n",
       "        vertical-align: top;\n",
       "    }\n",
       "\n",
       "    .dataframe thead th {\n",
       "        text-align: right;\n",
       "    }\n",
       "</style>\n",
       "<table border=\"1\" class=\"dataframe\">\n",
       "  <thead>\n",
       "    <tr style=\"text-align: right;\">\n",
       "      <th></th>\n",
       "      <th>actor_account</th>\n",
       "      <th>class</th>\n",
       "      <th>trade_go</th>\n",
       "      <th>trade_come</th>\n",
       "      <th>sell_to_shop</th>\n",
       "      <th>sell_to_person</th>\n",
       "      <th>mail_go</th>\n",
       "      <th>mail_come</th>\n",
       "      <th>invite</th>\n",
       "      <th>join</th>\n",
       "      <th>fight</th>\n",
       "      <th>friend_num</th>\n",
       "      <th>friend_num_change_count</th>\n",
       "      <th>login_total_day</th>\n",
       "      <th>trade_go_perday</th>\n",
       "      <th>buy_from_shop_perday</th>\n",
       "      <th>sell_to_shop_perday</th>\n",
       "      <th>mail_come_perday</th>\n",
       "      <th>invite_perday</th>\n",
       "      <th>join_perday</th>\n",
       "      <th>fight_perday</th>\n",
       "    </tr>\n",
       "  </thead>\n",
       "  <tbody>\n",
       "    <tr>\n",
       "      <th>0</th>\n",
       "      <td>20000005.0</td>\n",
       "      <td>0.0</td>\n",
       "      <td>2.0</td>\n",
       "      <td>4.0</td>\n",
       "      <td>196.0</td>\n",
       "      <td>6.0</td>\n",
       "      <td>1.0</td>\n",
       "      <td>21.0</td>\n",
       "      <td>7.0</td>\n",
       "      <td>58.0</td>\n",
       "      <td>0.0</td>\n",
       "      <td>0.0</td>\n",
       "      <td>0.0</td>\n",
       "      <td>15.0</td>\n",
       "      <td>0.133333</td>\n",
       "      <td>4.800000</td>\n",
       "      <td>13.066667</td>\n",
       "      <td>1.400000</td>\n",
       "      <td>0.466667</td>\n",
       "      <td>3.866667</td>\n",
       "      <td>0.000000</td>\n",
       "    </tr>\n",
       "    <tr>\n",
       "      <th>1</th>\n",
       "      <td>20000016.0</td>\n",
       "      <td>0.0</td>\n",
       "      <td>1.0</td>\n",
       "      <td>0.0</td>\n",
       "      <td>111.0</td>\n",
       "      <td>1.0</td>\n",
       "      <td>0.0</td>\n",
       "      <td>56.0</td>\n",
       "      <td>16.0</td>\n",
       "      <td>35.0</td>\n",
       "      <td>0.0</td>\n",
       "      <td>0.0</td>\n",
       "      <td>0.0</td>\n",
       "      <td>14.0</td>\n",
       "      <td>0.071429</td>\n",
       "      <td>2.428571</td>\n",
       "      <td>7.928571</td>\n",
       "      <td>4.000000</td>\n",
       "      <td>1.142857</td>\n",
       "      <td>2.500000</td>\n",
       "      <td>0.000000</td>\n",
       "    </tr>\n",
       "    <tr>\n",
       "      <th>2</th>\n",
       "      <td>20000033.0</td>\n",
       "      <td>0.0</td>\n",
       "      <td>12.0</td>\n",
       "      <td>9.0</td>\n",
       "      <td>338.0</td>\n",
       "      <td>0.0</td>\n",
       "      <td>2.0</td>\n",
       "      <td>3.0</td>\n",
       "      <td>5.0</td>\n",
       "      <td>46.0</td>\n",
       "      <td>1.0</td>\n",
       "      <td>4.0</td>\n",
       "      <td>2.0</td>\n",
       "      <td>14.0</td>\n",
       "      <td>0.857143</td>\n",
       "      <td>2.214286</td>\n",
       "      <td>24.142857</td>\n",
       "      <td>0.214286</td>\n",
       "      <td>0.357143</td>\n",
       "      <td>3.285714</td>\n",
       "      <td>0.071429</td>\n",
       "    </tr>\n",
       "    <tr>\n",
       "      <th>3</th>\n",
       "      <td>20000035.0</td>\n",
       "      <td>0.0</td>\n",
       "      <td>111.0</td>\n",
       "      <td>37.0</td>\n",
       "      <td>504.0</td>\n",
       "      <td>0.0</td>\n",
       "      <td>0.0</td>\n",
       "      <td>0.0</td>\n",
       "      <td>0.0</td>\n",
       "      <td>0.0</td>\n",
       "      <td>0.0</td>\n",
       "      <td>0.0</td>\n",
       "      <td>0.0</td>\n",
       "      <td>15.0</td>\n",
       "      <td>7.400000</td>\n",
       "      <td>0.733333</td>\n",
       "      <td>33.600000</td>\n",
       "      <td>0.000000</td>\n",
       "      <td>0.000000</td>\n",
       "      <td>0.000000</td>\n",
       "      <td>0.000000</td>\n",
       "    </tr>\n",
       "    <tr>\n",
       "      <th>4</th>\n",
       "      <td>20000051.0</td>\n",
       "      <td>0.0</td>\n",
       "      <td>74.0</td>\n",
       "      <td>57.0</td>\n",
       "      <td>254.0</td>\n",
       "      <td>0.0</td>\n",
       "      <td>21.0</td>\n",
       "      <td>35.0</td>\n",
       "      <td>85.0</td>\n",
       "      <td>98.0</td>\n",
       "      <td>25.0</td>\n",
       "      <td>0.0</td>\n",
       "      <td>0.0</td>\n",
       "      <td>15.0</td>\n",
       "      <td>4.933333</td>\n",
       "      <td>4.533333</td>\n",
       "      <td>16.933333</td>\n",
       "      <td>2.333333</td>\n",
       "      <td>5.666667</td>\n",
       "      <td>6.533333</td>\n",
       "      <td>1.666667</td>\n",
       "    </tr>\n",
       "  </tbody>\n",
       "</table>\n",
       "</div>"
      ],
      "text/plain": [
       "   actor_account  class  trade_go  trade_come  sell_to_shop  sell_to_person  \\\n",
       "0     20000005.0    0.0       2.0         4.0         196.0             6.0   \n",
       "1     20000016.0    0.0       1.0         0.0         111.0             1.0   \n",
       "2     20000033.0    0.0      12.0         9.0         338.0             0.0   \n",
       "3     20000035.0    0.0     111.0        37.0         504.0             0.0   \n",
       "4     20000051.0    0.0      74.0        57.0         254.0             0.0   \n",
       "\n",
       "   mail_go  mail_come  invite  join  fight  friend_num  \\\n",
       "0      1.0       21.0     7.0  58.0    0.0         0.0   \n",
       "1      0.0       56.0    16.0  35.0    0.0         0.0   \n",
       "2      2.0        3.0     5.0  46.0    1.0         4.0   \n",
       "3      0.0        0.0     0.0   0.0    0.0         0.0   \n",
       "4     21.0       35.0    85.0  98.0   25.0         0.0   \n",
       "\n",
       "   friend_num_change_count  login_total_day  trade_go_perday  \\\n",
       "0                      0.0             15.0         0.133333   \n",
       "1                      0.0             14.0         0.071429   \n",
       "2                      2.0             14.0         0.857143   \n",
       "3                      0.0             15.0         7.400000   \n",
       "4                      0.0             15.0         4.933333   \n",
       "\n",
       "   buy_from_shop_perday  sell_to_shop_perday  mail_come_perday  invite_perday  \\\n",
       "0              4.800000            13.066667          1.400000       0.466667   \n",
       "1              2.428571             7.928571          4.000000       1.142857   \n",
       "2              2.214286            24.142857          0.214286       0.357143   \n",
       "3              0.733333            33.600000          0.000000       0.000000   \n",
       "4              4.533333            16.933333          2.333333       5.666667   \n",
       "\n",
       "   join_perday  fight_perday  \n",
       "0     3.866667      0.000000  \n",
       "1     2.500000      0.000000  \n",
       "2     3.285714      0.071429  \n",
       "3     0.000000      0.000000  \n",
       "4     6.533333      1.666667  "
      ]
     },
     "execution_count": 37,
     "metadata": {},
     "output_type": "execute_result"
    }
   ],
   "source": [
    "final_data.head()"
   ]
  },
  {
   "cell_type": "code",
   "execution_count": 36,
   "metadata": {},
   "outputs": [],
   "source": [
    "final_data.to_csv('data_network_alpha.csv')"
   ]
  }
 ],
 "metadata": {
  "kernelspec": {
   "display_name": "Python 3",
   "language": "python",
   "name": "python3"
  },
  "language_info": {
   "codemirror_mode": {
    "name": "ipython",
    "version": 3
   },
   "file_extension": ".py",
   "mimetype": "text/x-python",
   "name": "python",
   "nbconvert_exporter": "python",
   "pygments_lexer": "ipython3",
   "version": "3.7.3"
  }
 },
 "nbformat": 4,
 "nbformat_minor": 2
}
