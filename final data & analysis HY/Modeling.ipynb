{
 "cells": [
  {
   "cell_type": "code",
   "execution_count": 49,
   "metadata": {},
   "outputs": [],
   "source": [
    "import numpy as np\n",
    "import pandas as pd\n",
    "import matplotlib.pyplot as plt\n",
    "from imblearn.over_sampling import SMOTE\n",
    "\n",
    "pd.set_option(\"max_columns\", 999)\n",
    "pd.set_option(\"max_rows\", 999)\n",
    "\n",
    "# 모델설정\n",
    "sm = SMOTE(ratio='auto', kind='regular')"
   ]
  },
  {
   "cell_type": "code",
   "execution_count": 32,
   "metadata": {},
   "outputs": [],
   "source": [
    "Player_information = pd.read_csv('Player_information.csv', engine='python')\n",
    "Player_action = pd.read_csv('Player_action.csv', engine='python')\n",
    "Group_activity = pd.read_csv('Group_activity.csv', engine='python')\n",
    "labeled_accounts = pd.read_csv('labeled_accounts.csv', engine='python')"
   ]
  },
  {
   "cell_type": "markdown",
   "metadata": {},
   "source": [
    "# merge // get train and validation sets (get only the accounts labeled)"
   ]
  },
  {
   "cell_type": "code",
   "execution_count": 33,
   "metadata": {},
   "outputs": [],
   "source": [
    "final = pd.merge(Player_information, Player_action, how='outer', on = \"actor_account\")\n",
    "final = pd.merge(final, Group_activity, how='outer',  on = \"actor_account\")"
   ]
  },
  {
   "cell_type": "code",
   "execution_count": 34,
   "metadata": {
    "scrolled": true
   },
   "outputs": [
    {
     "name": "stdout",
     "output_type": "stream",
     "text": [
      "(8100, 24)\n"
     ]
    },
    {
     "data": {
      "text/html": [
       "<div>\n",
       "<style scoped>\n",
       "    .dataframe tbody tr th:only-of-type {\n",
       "        vertical-align: middle;\n",
       "    }\n",
       "\n",
       "    .dataframe tbody tr th {\n",
       "        vertical-align: top;\n",
       "    }\n",
       "\n",
       "    .dataframe thead th {\n",
       "        text-align: right;\n",
       "    }\n",
       "</style>\n",
       "<table border=\"1\" class=\"dataframe\">\n",
       "  <thead>\n",
       "    <tr style=\"text-align: right;\">\n",
       "      <th></th>\n",
       "      <th>actor_account</th>\n",
       "      <th>login_count</th>\n",
       "      <th>logout_count</th>\n",
       "      <th>login_day_count</th>\n",
       "      <th>play_time</th>\n",
       "      <th>avg_money</th>\n",
       "      <th>ip_count</th>\n",
       "      <th>max_level</th>\n",
       "      <th>sit_count</th>\n",
       "      <th>exp_get_amout</th>\n",
       "      <th>...</th>\n",
       "      <th>use_portal_count</th>\n",
       "      <th>killed_by_pc</th>\n",
       "      <th>killed_by_npc</th>\n",
       "      <th>teleport_count</th>\n",
       "      <th>reborn_count</th>\n",
       "      <th>question_count</th>\n",
       "      <th>total_party_time</th>\n",
       "      <th>guild_join_count</th>\n",
       "      <th>average_party_time</th>\n",
       "      <th>class</th>\n",
       "    </tr>\n",
       "  </thead>\n",
       "  <tbody>\n",
       "    <tr>\n",
       "      <th>0</th>\n",
       "      <td>20000005</td>\n",
       "      <td>259.0</td>\n",
       "      <td>259.0</td>\n",
       "      <td>1.0</td>\n",
       "      <td>637926.0</td>\n",
       "      <td>124.849465</td>\n",
       "      <td>259.0</td>\n",
       "      <td>0.0</td>\n",
       "      <td>270.0</td>\n",
       "      <td>3.891496e+08</td>\n",
       "      <td>...</td>\n",
       "      <td>0.0</td>\n",
       "      <td>47.0</td>\n",
       "      <td>30.0</td>\n",
       "      <td>376.0</td>\n",
       "      <td>51.0</td>\n",
       "      <td>62.0</td>\n",
       "      <td>8862.0</td>\n",
       "      <td>0.0</td>\n",
       "      <td>1477.000000</td>\n",
       "      <td>0</td>\n",
       "    </tr>\n",
       "    <tr>\n",
       "      <th>1</th>\n",
       "      <td>20000016</td>\n",
       "      <td>38.0</td>\n",
       "      <td>37.0</td>\n",
       "      <td>1.0</td>\n",
       "      <td>401885.0</td>\n",
       "      <td>43.509962</td>\n",
       "      <td>38.0</td>\n",
       "      <td>42.0</td>\n",
       "      <td>153.0</td>\n",
       "      <td>8.011943e+07</td>\n",
       "      <td>...</td>\n",
       "      <td>0.0</td>\n",
       "      <td>32.0</td>\n",
       "      <td>75.0</td>\n",
       "      <td>343.0</td>\n",
       "      <td>75.0</td>\n",
       "      <td>5893.0</td>\n",
       "      <td>69458.0</td>\n",
       "      <td>0.0</td>\n",
       "      <td>3655.684211</td>\n",
       "      <td>0</td>\n",
       "    </tr>\n",
       "    <tr>\n",
       "      <th>2</th>\n",
       "      <td>20000033</td>\n",
       "      <td>43.0</td>\n",
       "      <td>42.0</td>\n",
       "      <td>1.0</td>\n",
       "      <td>240334.0</td>\n",
       "      <td>-6.613812</td>\n",
       "      <td>43.0</td>\n",
       "      <td>38.0</td>\n",
       "      <td>378.0</td>\n",
       "      <td>1.424854e+08</td>\n",
       "      <td>...</td>\n",
       "      <td>0.0</td>\n",
       "      <td>35.0</td>\n",
       "      <td>53.0</td>\n",
       "      <td>337.0</td>\n",
       "      <td>69.0</td>\n",
       "      <td>97.0</td>\n",
       "      <td>43619.0</td>\n",
       "      <td>0.0</td>\n",
       "      <td>2295.736842</td>\n",
       "      <td>0</td>\n",
       "    </tr>\n",
       "    <tr>\n",
       "      <th>3</th>\n",
       "      <td>20000035</td>\n",
       "      <td>25.0</td>\n",
       "      <td>24.0</td>\n",
       "      <td>1.0</td>\n",
       "      <td>1205493.0</td>\n",
       "      <td>0.088531</td>\n",
       "      <td>25.0</td>\n",
       "      <td>0.0</td>\n",
       "      <td>207.0</td>\n",
       "      <td>1.377553e+09</td>\n",
       "      <td>...</td>\n",
       "      <td>0.0</td>\n",
       "      <td>0.0</td>\n",
       "      <td>12.0</td>\n",
       "      <td>44.0</td>\n",
       "      <td>10.0</td>\n",
       "      <td>0.0</td>\n",
       "      <td>0.0</td>\n",
       "      <td>0.0</td>\n",
       "      <td>0.000000</td>\n",
       "      <td>0</td>\n",
       "    </tr>\n",
       "    <tr>\n",
       "      <th>4</th>\n",
       "      <td>20000051</td>\n",
       "      <td>110.0</td>\n",
       "      <td>109.0</td>\n",
       "      <td>1.0</td>\n",
       "      <td>457433.0</td>\n",
       "      <td>-32.874878</td>\n",
       "      <td>110.0</td>\n",
       "      <td>0.0</td>\n",
       "      <td>320.0</td>\n",
       "      <td>3.950991e+08</td>\n",
       "      <td>...</td>\n",
       "      <td>1.0</td>\n",
       "      <td>311.0</td>\n",
       "      <td>109.0</td>\n",
       "      <td>568.0</td>\n",
       "      <td>261.0</td>\n",
       "      <td>80.0</td>\n",
       "      <td>40934.0</td>\n",
       "      <td>0.0</td>\n",
       "      <td>2558.375000</td>\n",
       "      <td>0</td>\n",
       "    </tr>\n",
       "  </tbody>\n",
       "</table>\n",
       "<p>5 rows × 24 columns</p>\n",
       "</div>"
      ],
      "text/plain": [
       "   actor_account  login_count  logout_count  login_day_count  play_time  \\\n",
       "0       20000005        259.0         259.0              1.0   637926.0   \n",
       "1       20000016         38.0          37.0              1.0   401885.0   \n",
       "2       20000033         43.0          42.0              1.0   240334.0   \n",
       "3       20000035         25.0          24.0              1.0  1205493.0   \n",
       "4       20000051        110.0         109.0              1.0   457433.0   \n",
       "\n",
       "    avg_money  ip_count  max_level  sit_count  exp_get_amout  ...  \\\n",
       "0  124.849465     259.0        0.0      270.0   3.891496e+08  ...   \n",
       "1   43.509962      38.0       42.0      153.0   8.011943e+07  ...   \n",
       "2   -6.613812      43.0       38.0      378.0   1.424854e+08  ...   \n",
       "3    0.088531      25.0        0.0      207.0   1.377553e+09  ...   \n",
       "4  -32.874878     110.0        0.0      320.0   3.950991e+08  ...   \n",
       "\n",
       "   use_portal_count  killed_by_pc  killed_by_npc  teleport_count  \\\n",
       "0               0.0          47.0           30.0           376.0   \n",
       "1               0.0          32.0           75.0           343.0   \n",
       "2               0.0          35.0           53.0           337.0   \n",
       "3               0.0           0.0           12.0            44.0   \n",
       "4               1.0         311.0          109.0           568.0   \n",
       "\n",
       "   reborn_count  question_count  total_party_time  guild_join_count  \\\n",
       "0          51.0            62.0            8862.0               0.0   \n",
       "1          75.0          5893.0           69458.0               0.0   \n",
       "2          69.0            97.0           43619.0               0.0   \n",
       "3          10.0             0.0               0.0               0.0   \n",
       "4         261.0            80.0           40934.0               0.0   \n",
       "\n",
       "   average_party_time  class  \n",
       "0         1477.000000      0  \n",
       "1         3655.684211      0  \n",
       "2         2295.736842      0  \n",
       "3            0.000000      0  \n",
       "4         2558.375000      0  \n",
       "\n",
       "[5 rows x 24 columns]"
      ]
     },
     "execution_count": 34,
     "metadata": {},
     "output_type": "execute_result"
    }
   ],
   "source": [
    "final = pd.merge(final, labeled_accounts, how='inner', on = 'actor_account')\n",
    "final.fillna(0, inplace=True)\n",
    "print(final.shape)\n",
    "final.head()"
   ]
  },
  {
   "cell_type": "markdown",
   "metadata": {},
   "source": [
    "# Model Training"
   ]
  },
  {
   "cell_type": "code",
   "execution_count": 35,
   "metadata": {},
   "outputs": [],
   "source": [
    "from sklearn.tree import DecisionTreeClassifier\n",
    "from sklearn.model_selection import train_test_split\n",
    "from sklearn.preprocessing import StandardScaler\n",
    "\n",
    "from sklearn.model_selection import cross_val_score\n",
    "from sklearn.model_selection import StratifiedKFold\n",
    "from sklearn.model_selection import KFold\n",
    "#import xgboost as xgb"
   ]
  },
  {
   "cell_type": "code",
   "execution_count": 36,
   "metadata": {},
   "outputs": [],
   "source": [
    "model_data = final.copy()\n",
    "del model_data['actor_account']\n",
    "x = model_data.iloc[:, :-1]\n",
    "y = model_data.iloc[:, -1]"
   ]
  },
  {
   "cell_type": "code",
   "execution_count": 13,
   "metadata": {},
   "outputs": [
    {
     "data": {
      "text/html": [
       "<div>\n",
       "<style scoped>\n",
       "    .dataframe tbody tr th:only-of-type {\n",
       "        vertical-align: middle;\n",
       "    }\n",
       "\n",
       "    .dataframe tbody tr th {\n",
       "        vertical-align: top;\n",
       "    }\n",
       "\n",
       "    .dataframe thead th {\n",
       "        text-align: right;\n",
       "    }\n",
       "</style>\n",
       "<table border=\"1\" class=\"dataframe\">\n",
       "  <thead>\n",
       "    <tr style=\"text-align: right;\">\n",
       "      <th></th>\n",
       "      <th>login_count</th>\n",
       "      <th>logout_count</th>\n",
       "      <th>login_day_count</th>\n",
       "      <th>play_time</th>\n",
       "      <th>avg_money</th>\n",
       "      <th>ip_count</th>\n",
       "      <th>max_level</th>\n",
       "      <th>sit_count</th>\n",
       "      <th>exp_get_amout</th>\n",
       "      <th>item_get_count</th>\n",
       "      <th>...</th>\n",
       "      <th>use_portal_count</th>\n",
       "      <th>killed_by_pc</th>\n",
       "      <th>killed_by_npc</th>\n",
       "      <th>teleport_count</th>\n",
       "      <th>reborn_count</th>\n",
       "      <th>question_count</th>\n",
       "      <th>total_party_time</th>\n",
       "      <th>guild_join_count</th>\n",
       "      <th>average_party_time</th>\n",
       "      <th>class</th>\n",
       "    </tr>\n",
       "  </thead>\n",
       "  <tbody>\n",
       "    <tr>\n",
       "      <th>0</th>\n",
       "      <td>259.0</td>\n",
       "      <td>259.0</td>\n",
       "      <td>1.0</td>\n",
       "      <td>637926.0</td>\n",
       "      <td>124.849465</td>\n",
       "      <td>259.0</td>\n",
       "      <td>0.0</td>\n",
       "      <td>270.0</td>\n",
       "      <td>3.891496e+08</td>\n",
       "      <td>31149.0</td>\n",
       "      <td>...</td>\n",
       "      <td>0.0</td>\n",
       "      <td>47.0</td>\n",
       "      <td>30.0</td>\n",
       "      <td>376.0</td>\n",
       "      <td>51.0</td>\n",
       "      <td>62.0</td>\n",
       "      <td>8862.0</td>\n",
       "      <td>0.0</td>\n",
       "      <td>1477.000000</td>\n",
       "      <td>0</td>\n",
       "    </tr>\n",
       "    <tr>\n",
       "      <th>1</th>\n",
       "      <td>38.0</td>\n",
       "      <td>37.0</td>\n",
       "      <td>1.0</td>\n",
       "      <td>401885.0</td>\n",
       "      <td>43.509962</td>\n",
       "      <td>38.0</td>\n",
       "      <td>42.0</td>\n",
       "      <td>153.0</td>\n",
       "      <td>8.011943e+07</td>\n",
       "      <td>61579.0</td>\n",
       "      <td>...</td>\n",
       "      <td>0.0</td>\n",
       "      <td>32.0</td>\n",
       "      <td>75.0</td>\n",
       "      <td>343.0</td>\n",
       "      <td>75.0</td>\n",
       "      <td>5893.0</td>\n",
       "      <td>69458.0</td>\n",
       "      <td>0.0</td>\n",
       "      <td>3655.684211</td>\n",
       "      <td>0</td>\n",
       "    </tr>\n",
       "    <tr>\n",
       "      <th>2</th>\n",
       "      <td>43.0</td>\n",
       "      <td>42.0</td>\n",
       "      <td>1.0</td>\n",
       "      <td>240334.0</td>\n",
       "      <td>-6.613812</td>\n",
       "      <td>43.0</td>\n",
       "      <td>38.0</td>\n",
       "      <td>378.0</td>\n",
       "      <td>1.424854e+08</td>\n",
       "      <td>24686.0</td>\n",
       "      <td>...</td>\n",
       "      <td>0.0</td>\n",
       "      <td>35.0</td>\n",
       "      <td>53.0</td>\n",
       "      <td>337.0</td>\n",
       "      <td>69.0</td>\n",
       "      <td>97.0</td>\n",
       "      <td>43619.0</td>\n",
       "      <td>0.0</td>\n",
       "      <td>2295.736842</td>\n",
       "      <td>0</td>\n",
       "    </tr>\n",
       "    <tr>\n",
       "      <th>3</th>\n",
       "      <td>25.0</td>\n",
       "      <td>24.0</td>\n",
       "      <td>1.0</td>\n",
       "      <td>1205493.0</td>\n",
       "      <td>0.088531</td>\n",
       "      <td>25.0</td>\n",
       "      <td>0.0</td>\n",
       "      <td>207.0</td>\n",
       "      <td>1.377553e+09</td>\n",
       "      <td>109795.0</td>\n",
       "      <td>...</td>\n",
       "      <td>0.0</td>\n",
       "      <td>0.0</td>\n",
       "      <td>12.0</td>\n",
       "      <td>44.0</td>\n",
       "      <td>10.0</td>\n",
       "      <td>0.0</td>\n",
       "      <td>0.0</td>\n",
       "      <td>0.0</td>\n",
       "      <td>0.000000</td>\n",
       "      <td>0</td>\n",
       "    </tr>\n",
       "    <tr>\n",
       "      <th>4</th>\n",
       "      <td>110.0</td>\n",
       "      <td>109.0</td>\n",
       "      <td>1.0</td>\n",
       "      <td>457433.0</td>\n",
       "      <td>-32.874878</td>\n",
       "      <td>110.0</td>\n",
       "      <td>0.0</td>\n",
       "      <td>320.0</td>\n",
       "      <td>3.950991e+08</td>\n",
       "      <td>98368.0</td>\n",
       "      <td>...</td>\n",
       "      <td>1.0</td>\n",
       "      <td>311.0</td>\n",
       "      <td>109.0</td>\n",
       "      <td>568.0</td>\n",
       "      <td>261.0</td>\n",
       "      <td>80.0</td>\n",
       "      <td>40934.0</td>\n",
       "      <td>0.0</td>\n",
       "      <td>2558.375000</td>\n",
       "      <td>0</td>\n",
       "    </tr>\n",
       "  </tbody>\n",
       "</table>\n",
       "<p>5 rows × 23 columns</p>\n",
       "</div>"
      ],
      "text/plain": [
       "   login_count  logout_count  login_day_count  play_time   avg_money  \\\n",
       "0        259.0         259.0              1.0   637926.0  124.849465   \n",
       "1         38.0          37.0              1.0   401885.0   43.509962   \n",
       "2         43.0          42.0              1.0   240334.0   -6.613812   \n",
       "3         25.0          24.0              1.0  1205493.0    0.088531   \n",
       "4        110.0         109.0              1.0   457433.0  -32.874878   \n",
       "\n",
       "   ip_count  max_level  sit_count  exp_get_amout  item_get_count  ...  \\\n",
       "0     259.0        0.0      270.0   3.891496e+08         31149.0  ...   \n",
       "1      38.0       42.0      153.0   8.011943e+07         61579.0  ...   \n",
       "2      43.0       38.0      378.0   1.424854e+08         24686.0  ...   \n",
       "3      25.0        0.0      207.0   1.377553e+09        109795.0  ...   \n",
       "4     110.0        0.0      320.0   3.950991e+08         98368.0  ...   \n",
       "\n",
       "   use_portal_count  killed_by_pc  killed_by_npc  teleport_count  \\\n",
       "0               0.0          47.0           30.0           376.0   \n",
       "1               0.0          32.0           75.0           343.0   \n",
       "2               0.0          35.0           53.0           337.0   \n",
       "3               0.0           0.0           12.0            44.0   \n",
       "4               1.0         311.0          109.0           568.0   \n",
       "\n",
       "   reborn_count  question_count  total_party_time  guild_join_count  \\\n",
       "0          51.0            62.0            8862.0               0.0   \n",
       "1          75.0          5893.0           69458.0               0.0   \n",
       "2          69.0            97.0           43619.0               0.0   \n",
       "3          10.0             0.0               0.0               0.0   \n",
       "4         261.0            80.0           40934.0               0.0   \n",
       "\n",
       "   average_party_time  class  \n",
       "0         1477.000000      0  \n",
       "1         3655.684211      0  \n",
       "2         2295.736842      0  \n",
       "3            0.000000      0  \n",
       "4         2558.375000      0  \n",
       "\n",
       "[5 rows x 23 columns]"
      ]
     },
     "execution_count": 13,
     "metadata": {},
     "output_type": "execute_result"
    }
   ],
   "source": [
    "model_data.head()"
   ]
  },
  {
   "cell_type": "code",
   "execution_count": 15,
   "metadata": {},
   "outputs": [
    {
     "name": "stdout",
     "output_type": "stream",
     "text": [
      "7500\n"
     ]
    }
   ],
   "source": [
    "print(list(y).count(0))\n",
    "x_train, x_test, y_train, y_test = train_test_split(x, y, test_size=0.3)"
   ]
  },
  {
   "cell_type": "markdown",
   "metadata": {},
   "source": [
    "## Create Datasets with Balanced 0,1 Ratio for Ensemble"
   ]
  },
  {
   "cell_type": "code",
   "execution_count": 190,
   "metadata": {},
   "outputs": [],
   "source": [
    "train, test = train_test_split(model_data, test_size=0.3)"
   ]
  },
  {
   "cell_type": "code",
   "execution_count": 191,
   "metadata": {},
   "outputs": [],
   "source": [
    "x_test_b = test.iloc[:,:-1]"
   ]
  },
  {
   "cell_type": "code",
   "execution_count": 192,
   "metadata": {},
   "outputs": [],
   "source": [
    "y_test_b = test.iloc[:,-1]"
   ]
  },
  {
   "cell_type": "code",
   "execution_count": 193,
   "metadata": {},
   "outputs": [],
   "source": [
    "bot = train[train.iloc[:,-1] == 1]\n",
    "human = train[train.iloc[:,-1] == 0]"
   ]
  },
  {
   "cell_type": "code",
   "execution_count": 194,
   "metadata": {},
   "outputs": [],
   "source": [
    "testset = [0,1,2,3,4,5,6,7,8,9,10,11,12]\n",
    "\n",
    "for i in range(0, int(len(human.index)/len(bot.index))):\n",
    "    testset[i] = pd.concat([bot, human[413*i:413*(i+1)]])\n",
    "    \n",
    "bot12 = bot.sample(n=len(human[413*12:].index))\n",
    "testset[12] = pd.concat([bot12, human[413*12:]])"
   ]
  },
  {
   "cell_type": "code",
   "execution_count": 195,
   "metadata": {},
   "outputs": [],
   "source": [
    "for i in range(0, int(len(human.index)/len(bot.index))+1):\n",
    "    testset[i] = testset[i].sample(frac=1)"
   ]
  },
  {
   "cell_type": "markdown",
   "metadata": {},
   "source": [
    "## Random Forest"
   ]
  },
  {
   "cell_type": "code",
   "execution_count": 14,
   "metadata": {},
   "outputs": [
    {
     "ename": "NameError",
     "evalue": "name 'x_train' is not defined",
     "output_type": "error",
     "traceback": [
      "\u001b[1;31m---------------------------------------------------------------------------\u001b[0m",
      "\u001b[1;31mNameError\u001b[0m                                 Traceback (most recent call last)",
      "\u001b[1;32m<ipython-input-14-681ac2bd031f>\u001b[0m in \u001b[0;36m<module>\u001b[1;34m\u001b[0m\n\u001b[0;32m      2\u001b[0m \u001b[1;31m#500개의 DT classifier만듬. 각 DT당 최대 16개의 leaf node, n_jobs -> cpu 코어 몇개 쓸지\u001b[0m\u001b[1;33m\u001b[0m\u001b[1;33m\u001b[0m\u001b[1;33m\u001b[0m\u001b[0m\n\u001b[0;32m      3\u001b[0m \u001b[0mrnd_clf\u001b[0m \u001b[1;33m=\u001b[0m \u001b[0mRandomForestClassifier\u001b[0m\u001b[1;33m(\u001b[0m\u001b[0mn_estimators\u001b[0m\u001b[1;33m=\u001b[0m\u001b[1;36m300\u001b[0m\u001b[1;33m,\u001b[0m \u001b[0mmax_leaf_nodes\u001b[0m\u001b[1;33m=\u001b[0m\u001b[1;36m2\u001b[0m\u001b[1;33m,\u001b[0m \u001b[0mcriterion\u001b[0m\u001b[1;33m=\u001b[0m\u001b[1;34m'gini'\u001b[0m\u001b[1;33m,\u001b[0m \u001b[0mmax_depth\u001b[0m \u001b[1;33m=\u001b[0m \u001b[1;36m3\u001b[0m\u001b[1;33m,\u001b[0m \u001b[0mn_jobs\u001b[0m\u001b[1;33m=\u001b[0m\u001b[1;36m6\u001b[0m\u001b[1;33m)\u001b[0m\u001b[1;33m\u001b[0m\u001b[1;33m\u001b[0m\u001b[0m\n\u001b[1;32m----> 4\u001b[1;33m \u001b[0mrnd_clf\u001b[0m\u001b[1;33m.\u001b[0m\u001b[0mfit\u001b[0m\u001b[1;33m(\u001b[0m\u001b[0mx_train\u001b[0m\u001b[1;33m,\u001b[0m \u001b[0my_train\u001b[0m\u001b[1;33m)\u001b[0m\u001b[1;33m\u001b[0m\u001b[1;33m\u001b[0m\u001b[0m\n\u001b[0m\u001b[0;32m      5\u001b[0m \u001b[0my_pred_rf\u001b[0m \u001b[1;33m=\u001b[0m \u001b[0mrnd_clf\u001b[0m\u001b[1;33m.\u001b[0m\u001b[0mpredict\u001b[0m\u001b[1;33m(\u001b[0m\u001b[0mx_test\u001b[0m\u001b[1;33m)\u001b[0m\u001b[1;33m\u001b[0m\u001b[1;33m\u001b[0m\u001b[0m\n",
      "\u001b[1;31mNameError\u001b[0m: name 'x_train' is not defined"
     ]
    }
   ],
   "source": [
    "from sklearn.ensemble import RandomForestClassifier\n",
    "#500개의 DT classifier만듬. 각 DT당 최대 16개의 leaf node, n_jobs -> cpu 코어 몇개 쓸지\n",
    "rnd_clf = RandomForestClassifier(n_estimators=300, max_leaf_nodes=2, criterion='gini', max_depth = 3, n_jobs=6)\n",
    "rnd_clf.fit(x_train, y_train)\n",
    "y_pred_rf = rnd_clf.predict(x_test)"
   ]
  },
  {
   "cell_type": "markdown",
   "metadata": {},
   "source": [
    "## RF Proba Manipulation"
   ]
  },
  {
   "cell_type": "markdown",
   "metadata": {},
   "source": [
    "## RF Result"
   ]
  },
  {
   "cell_type": "code",
   "execution_count": 323,
   "metadata": {
    "scrolled": false
   },
   "outputs": [
    {
     "name": "stdout",
     "output_type": "stream",
     "text": [
      "              precision    recall  f1-score   support\n",
      "\n",
      "       Human       0.93      1.00      0.96      2251\n",
      "         Bot       0.00      0.00      0.00       179\n",
      "\n",
      "    accuracy                           0.93      2430\n",
      "   macro avg       0.46      0.50      0.48      2430\n",
      "weighted avg       0.86      0.93      0.89      2430\n",
      "\n"
     ]
    },
    {
     "name": "stderr",
     "output_type": "stream",
     "text": [
      "D:\\Anaconda\\lib\\site-packages\\sklearn\\metrics\\classification.py:1437: UndefinedMetricWarning: Precision and F-score are ill-defined and being set to 0.0 in labels with no predicted samples.\n",
      "  'precision', 'predicted', average, warn_for)\n"
     ]
    }
   ],
   "source": [
    "from sklearn.metrics import classification_report\n",
    "\n",
    "print(classification_report(y_test, y_pred_rf, target_names=['Human', 'Bot']))"
   ]
  },
  {
   "cell_type": "code",
   "execution_count": 25,
   "metadata": {},
   "outputs": [
    {
     "ename": "ValueError",
     "evalue": "Classification metrics can't handle a mix of binary and continuous-multioutput targets",
     "output_type": "error",
     "traceback": [
      "\u001b[1;31m---------------------------------------------------------------------------\u001b[0m",
      "\u001b[1;31mValueError\u001b[0m                                Traceback (most recent call last)",
      "\u001b[1;32m<ipython-input-25-f355da97329d>\u001b[0m in \u001b[0;36m<module>\u001b[1;34m\u001b[0m\n\u001b[0;32m      1\u001b[0m \u001b[1;32mfrom\u001b[0m \u001b[0msklearn\u001b[0m\u001b[1;33m.\u001b[0m\u001b[0mmetrics\u001b[0m \u001b[1;32mimport\u001b[0m \u001b[0maccuracy_score\u001b[0m\u001b[1;33m,\u001b[0m \u001b[0mf1_score\u001b[0m\u001b[1;33m\u001b[0m\u001b[1;33m\u001b[0m\u001b[0m\n\u001b[1;32m----> 2\u001b[1;33m \u001b[0mprint\u001b[0m\u001b[1;33m(\u001b[0m\u001b[1;34m\"Accuracy: %.2f\"\u001b[0m \u001b[1;33m%\u001b[0m\u001b[0maccuracy_score\u001b[0m\u001b[1;33m(\u001b[0m\u001b[0my_test\u001b[0m\u001b[1;33m,\u001b[0m \u001b[0my_pred_rf\u001b[0m\u001b[1;33m)\u001b[0m\u001b[1;33m)\u001b[0m\u001b[1;33m\u001b[0m\u001b[1;33m\u001b[0m\u001b[0m\n\u001b[0m\u001b[0;32m      3\u001b[0m \u001b[0mprint\u001b[0m\u001b[1;33m(\u001b[0m\u001b[1;34m\"F1 score: %.2f\"\u001b[0m \u001b[1;33m%\u001b[0m\u001b[0mf1_score\u001b[0m\u001b[1;33m(\u001b[0m\u001b[0my_test\u001b[0m\u001b[1;33m,\u001b[0m \u001b[0my_pred_rf\u001b[0m\u001b[1;33m)\u001b[0m\u001b[1;33m)\u001b[0m\u001b[1;33m\u001b[0m\u001b[1;33m\u001b[0m\u001b[0m\n",
      "\u001b[1;32mD:\\Anaconda\\lib\\site-packages\\sklearn\\metrics\\classification.py\u001b[0m in \u001b[0;36maccuracy_score\u001b[1;34m(y_true, y_pred, normalize, sample_weight)\u001b[0m\n\u001b[0;32m    174\u001b[0m \u001b[1;33m\u001b[0m\u001b[0m\n\u001b[0;32m    175\u001b[0m     \u001b[1;31m# Compute accuracy for each possible representation\u001b[0m\u001b[1;33m\u001b[0m\u001b[1;33m\u001b[0m\u001b[1;33m\u001b[0m\u001b[0m\n\u001b[1;32m--> 176\u001b[1;33m     \u001b[0my_type\u001b[0m\u001b[1;33m,\u001b[0m \u001b[0my_true\u001b[0m\u001b[1;33m,\u001b[0m \u001b[0my_pred\u001b[0m \u001b[1;33m=\u001b[0m \u001b[0m_check_targets\u001b[0m\u001b[1;33m(\u001b[0m\u001b[0my_true\u001b[0m\u001b[1;33m,\u001b[0m \u001b[0my_pred\u001b[0m\u001b[1;33m)\u001b[0m\u001b[1;33m\u001b[0m\u001b[1;33m\u001b[0m\u001b[0m\n\u001b[0m\u001b[0;32m    177\u001b[0m     \u001b[0mcheck_consistent_length\u001b[0m\u001b[1;33m(\u001b[0m\u001b[0my_true\u001b[0m\u001b[1;33m,\u001b[0m \u001b[0my_pred\u001b[0m\u001b[1;33m,\u001b[0m \u001b[0msample_weight\u001b[0m\u001b[1;33m)\u001b[0m\u001b[1;33m\u001b[0m\u001b[1;33m\u001b[0m\u001b[0m\n\u001b[0;32m    178\u001b[0m     \u001b[1;32mif\u001b[0m \u001b[0my_type\u001b[0m\u001b[1;33m.\u001b[0m\u001b[0mstartswith\u001b[0m\u001b[1;33m(\u001b[0m\u001b[1;34m'multilabel'\u001b[0m\u001b[1;33m)\u001b[0m\u001b[1;33m:\u001b[0m\u001b[1;33m\u001b[0m\u001b[1;33m\u001b[0m\u001b[0m\n",
      "\u001b[1;32mD:\\Anaconda\\lib\\site-packages\\sklearn\\metrics\\classification.py\u001b[0m in \u001b[0;36m_check_targets\u001b[1;34m(y_true, y_pred)\u001b[0m\n\u001b[0;32m     79\u001b[0m     \u001b[1;32mif\u001b[0m \u001b[0mlen\u001b[0m\u001b[1;33m(\u001b[0m\u001b[0my_type\u001b[0m\u001b[1;33m)\u001b[0m \u001b[1;33m>\u001b[0m \u001b[1;36m1\u001b[0m\u001b[1;33m:\u001b[0m\u001b[1;33m\u001b[0m\u001b[1;33m\u001b[0m\u001b[0m\n\u001b[0;32m     80\u001b[0m         raise ValueError(\"Classification metrics can't handle a mix of {0} \"\n\u001b[1;32m---> 81\u001b[1;33m                          \"and {1} targets\".format(type_true, type_pred))\n\u001b[0m\u001b[0;32m     82\u001b[0m \u001b[1;33m\u001b[0m\u001b[0m\n\u001b[0;32m     83\u001b[0m     \u001b[1;31m# We can't have more than one value on y_type => The set is no more needed\u001b[0m\u001b[1;33m\u001b[0m\u001b[1;33m\u001b[0m\u001b[1;33m\u001b[0m\u001b[0m\n",
      "\u001b[1;31mValueError\u001b[0m: Classification metrics can't handle a mix of binary and continuous-multioutput targets"
     ]
    }
   ],
   "source": [
    "from sklearn.metrics import accuracy_score, f1_score\n",
    "print(\"Accuracy: %.2f\" %accuracy_score(y_test, y_pred_rf))\n",
    "print(\"F1 score: %.2f\" %f1_score(y_test, y_pred_rf))"
   ]
  },
  {
   "cell_type": "code",
   "execution_count": 18,
   "metadata": {},
   "outputs": [],
   "source": [
    "# train데이터를 넣어 복제함\n",
    "X_resampled, Y_resampled = sm.fit_sample(x_train,list(y_train))"
   ]
  },
  {
   "cell_type": "markdown",
   "metadata": {},
   "source": [
    "## Proba Manipulation Result"
   ]
  },
  {
   "cell_type": "code",
   "execution_count": 326,
   "metadata": {},
   "outputs": [
    {
     "name": "stderr",
     "output_type": "stream",
     "text": [
      "D:\\Anaconda\\lib\\site-packages\\sklearn\\metrics\\classification.py:1437: UndefinedMetricWarning: F-score is ill-defined and being set to 0.0 due to no predicted samples.\n",
      "  'precision', 'predicted', average, warn_for)\n"
     ]
    }
   ],
   "source": [
    "rf_proba = rnd_clf.predict_proba(x_test)[:,0]\n",
    "\n",
    "x = np.arange(0, 1.01, 0.01)\n",
    "y = np.arange(0, 1.01, 0.01)\n",
    "z = np.arange(0, 1.01, 0.01)\n",
    "\n",
    "for i in np.arange(0, 1.01, 0.01):\n",
    "    y_pred_rf = ((rf_proba) > i).astype(int)\n",
    "    y[int(i*100)] = accuracy_score(y_test, y_pred_rf)\n",
    "    z[int(i*100)] = f1_score(y_test_b, y_pred_rf)"
   ]
  },
  {
   "cell_type": "code",
   "execution_count": 329,
   "metadata": {},
   "outputs": [
    {
     "data": {
      "text/plain": [
       "0.58"
      ]
     },
     "execution_count": 329,
     "metadata": {},
     "output_type": "execute_result"
    }
   ],
   "source": [
    "max(z)"
   ]
  },
  {
   "cell_type": "code",
   "execution_count": 331,
   "metadata": {},
   "outputs": [
    {
     "data": {
      "image/png": "[encoded data removed]",
      "text/plain": [
       "<Figure size 432x288 with 1 Axes>"
      ]
     },
     "metadata": {
      "needs_background": "light"
     },
     "output_type": "display_data"
    }
   ],
   "source": [
    "ax = plt.subplot(111)\n",
    "\n",
    "ax.plot(x, y, label='acc')\n",
    "ax.plot(x, z, label='f1')\n",
    "\n",
    "ax.set(xlabel='proba', ylabel='score', title='Proba Manipulation RF')\n",
    "ax.legend(loc='upper left')\n",
    "ax.grid()"
   ]
  },
  {
   "cell_type": "markdown",
   "metadata": {},
   "source": [
    "## Ensemble RF with Balanced Dataset (Soft Voting)"
   ]
  },
  {
   "cell_type": "code",
   "execution_count": 245,
   "metadata": {},
   "outputs": [],
   "source": [
    "rnd_clf_ens = RandomForestClassifier(n_estimators=300, max_leaf_nodes=2, criterion='gini', max_depth = 3, n_jobs=6)\n",
    "y_pred_rf_parts = list(range(0,13))\n",
    "\n",
    "for i in range(0,13):\n",
    "    rnd_clf_ens.fit(testset[i].iloc[:,:-1], testset[i].iloc[:,-1])\n",
    "    y_pred_rf_parts[i] = rnd_clf_ens.predict_proba(x_test_b)[:,1]"
   ]
  },
  {
   "cell_type": "code",
   "execution_count": 246,
   "metadata": {},
   "outputs": [],
   "source": [
    "y_pred_rf_ave = np.zeros(np.shape(y_pred_rf[1]))\n",
    "for i in range(0,13):\n",
    "    y_pred_rf_ave += y_pred_rf_parts[i]"
   ]
  },
  {
   "cell_type": "code",
   "execution_count": 247,
   "metadata": {},
   "outputs": [
    {
     "data": {
      "text/plain": [
       "array([0.60085937, 0.31259711, 0.63049703, ..., 0.33717452, 0.3240449 ,\n",
       "       0.41435894])"
      ]
     },
     "execution_count": 247,
     "metadata": {},
     "output_type": "execute_result"
    }
   ],
   "source": [
    "y_pred_rf_ave /13"
   ]
  },
  {
   "cell_type": "code",
   "execution_count": 248,
   "metadata": {},
   "outputs": [],
   "source": [
    "y_pred_rf_ens = ((y_pred_rf_ave / 13) > 0.5).astype(int)"
   ]
  },
  {
   "cell_type": "code",
   "execution_count": 249,
   "metadata": {},
   "outputs": [
    {
     "name": "stdout",
     "output_type": "stream",
     "text": [
      "              precision    recall  f1-score   support\n",
      "\n",
      "       Human       0.97      0.71      0.82      2242\n",
      "         Bot       0.18      0.78      0.30       188\n",
      "\n",
      "    accuracy                           0.71      2430\n",
      "   macro avg       0.58      0.75      0.56      2430\n",
      "weighted avg       0.91      0.71      0.78      2430\n",
      "\n"
     ]
    }
   ],
   "source": [
    "from sklearn.metrics import classification_report\n",
    "\n",
    "print(classification_report(y_test_b, y_pred_rf_ens, target_names=['Human', 'Bot']))"
   ]
  },
  {
   "cell_type": "code",
   "execution_count": 24,
   "metadata": {},
   "outputs": [
    {
     "ename": "NameError",
     "evalue": "name 'accuracy_score' is not defined",
     "output_type": "error",
     "traceback": [
      "\u001b[1;31m---------------------------------------------------------------------------\u001b[0m",
      "\u001b[1;31mNameError\u001b[0m                                 Traceback (most recent call last)",
      "\u001b[1;32m<ipython-input-24-5705515f87f4>\u001b[0m in \u001b[0;36m<module>\u001b[1;34m\u001b[0m\n\u001b[1;32m----> 1\u001b[1;33m \u001b[0mprint\u001b[0m\u001b[1;33m(\u001b[0m\u001b[1;34m\"Accuracy: %.2f\"\u001b[0m \u001b[1;33m%\u001b[0m\u001b[0maccuracy_score\u001b[0m\u001b[1;33m(\u001b[0m\u001b[0my_test_b\u001b[0m\u001b[1;33m,\u001b[0m \u001b[0my_pred_rf_ens\u001b[0m\u001b[1;33m)\u001b[0m\u001b[1;33m)\u001b[0m\u001b[1;33m\u001b[0m\u001b[1;33m\u001b[0m\u001b[0m\n\u001b[0m\u001b[0;32m      2\u001b[0m \u001b[0mprint\u001b[0m\u001b[1;33m(\u001b[0m\u001b[1;34m\"F1 score: %.2f\"\u001b[0m \u001b[1;33m%\u001b[0m\u001b[0mf1_score\u001b[0m\u001b[1;33m(\u001b[0m\u001b[0my_test_b\u001b[0m\u001b[1;33m,\u001b[0m \u001b[0my_pred_rf_ens\u001b[0m\u001b[1;33m)\u001b[0m\u001b[1;33m)\u001b[0m\u001b[1;33m\u001b[0m\u001b[1;33m\u001b[0m\u001b[0m\n",
      "\u001b[1;31mNameError\u001b[0m: name 'accuracy_score' is not defined"
     ]
    }
   ],
   "source": [
    "print(\"Accuracy: %.2f\" %accuracy_score(y_test_b, y_pred_rf_ens))\n",
    "print(\"F1 score: %.2f\" %f1_score(y_test_b, y_pred_rf_ens))"
   ]
  },
  {
   "cell_type": "markdown",
   "metadata": {},
   "source": [
    "## Ensemble RF with Proba Manipulation"
   ]
  },
  {
   "cell_type": "code",
   "execution_count": 332,
   "metadata": {},
   "outputs": [],
   "source": [
    "x = np.arange(0, 1.01, 0.01)\n",
    "y = np.arange(0, 1.01, 0.01)\n",
    "z = np.arange(0, 1.01, 0.01)\n",
    "\n",
    "for i in np.arange(0, 1.01, 0.01):\n",
    "    y_pred_rf_ens = ((y_pred_rf_ave / 13) > i).astype(int)\n",
    "    y[int(i*100)] = accuracy_score(y_test_b, y_pred_rf_ens)\n",
    "    z[int(i*100)] = f1_score(y_test_b, y_pred_rf_ens)"
   ]
  },
  {
   "cell_type": "code",
   "execution_count": 333,
   "metadata": {},
   "outputs": [
    {
     "data": {
      "image/png": "[encoded data removed]",
      "text/plain": [
       "<Figure size 432x288 with 1 Axes>"
      ]
     },
     "metadata": {
      "needs_background": "light"
     },
     "output_type": "display_data"
    }
   ],
   "source": [
    "ax = plt.subplot(111)\n",
    "\n",
    "ax.plot(x, y, label='acc')\n",
    "ax.plot(x, z, label='f1')\n",
    "\n",
    "ax.set(xlabel='proba', ylabel='score', title='Proba Manipulation RF Ensemble')\n",
    "ax.legend(loc='upper left')\n",
    "ax.grid()"
   ]
  },
  {
   "cell_type": "markdown",
   "metadata": {},
   "source": [
    "# Smote RF with Proba Manipulation"
   ]
  },
  {
   "cell_type": "code",
   "execution_count": 39,
   "metadata": {},
   "outputs": [],
   "source": [
    "# train데이터를 넣어 복제함\n",
    "x_train, x_test, y_train, y_test = train_test_split(x, y, test_size=0.3)\n",
    "\n",
    "X_resampled, Y_resampled = sm.fit_sample(x_train,list(y_train))\n",
    "\n",
    "#500개의 DT classifier만듬. 각 DT당 최대 16개의 leaf node, n_jobs -> cpu 코어 몇개 쓸지\n",
    "rnd_clf = RandomForestClassifier(n_estimators=300, max_leaf_nodes=2, criterion='gini', max_depth = 3, n_jobs=6)\n",
    "rnd_clf.fit(X_resampled, Y_resampled)\n",
    "y_pred_rf = rnd_clf.predict_proba(x_test)[:,1]"
   ]
  },
  {
   "cell_type": "code",
   "execution_count": 43,
   "metadata": {},
   "outputs": [],
   "source": [
    "x1 = np.arange(0, 1.01, 0.01)\n",
    "y1 = np.arange(0, 1.01, 0.01)\n",
    "z1 = np.arange(0, 1.01, 0.01)\n",
    "\n",
    "from sklearn.metrics import accuracy_score, f1_score\n",
    "\n",
    "for i in np.arange(0, 1.01, 0.01):\n",
    "    y_pred = ((y_pred_rf) > i).astype(int)\n",
    "    y1[int(i*100)] = accuracy_score(y_test, y_pred)\n",
    "    z1[int(i*100)] = f1_score(y_test, y_pred)"
   ]
  },
  {
   "cell_type": "code",
   "execution_count": 48,
   "metadata": {},
   "outputs": [
    {
     "data": {
      "image/png": "[encoded data removed]",
      "text/plain": [
       "<Figure size 432x288 with 1 Axes>"
      ]
     },
     "metadata": {
      "needs_background": "light"
     },
     "output_type": "display_data"
    }
   ],
   "source": [
    "ax = plt.subplot(111)\n",
    "\n",
    "ax.plot(x1, y1, label='acc')\n",
    "ax.plot(x1, z1, label='f1')\n",
    "\n",
    "ax.set(xlabel='proba', ylabel='score', title='Proba Manipulation RF Smote')\n",
    "ax.legend(loc='upper left')\n",
    "ax.grid()"
   ]
  },
  {
   "cell_type": "markdown",
   "metadata": {},
   "source": [
    "## 로지스틱"
   ]
  },
  {
   "cell_type": "code",
   "execution_count": 16,
   "metadata": {},
   "outputs": [
    {
     "name": "stderr",
     "output_type": "stream",
     "text": [
      "Using TensorFlow backend.\n"
     ]
    }
   ],
   "source": [
    "from sklearn.preprocessing import MinMaxScaler\n",
    "\n",
    "# scaler = MinMaxScaler(feature_range=(0, 1))\n",
    "# scaler.fit_transform(x_train)\n",
    "# x_train = scaler.fit_transform(x_train)\n",
    "\n",
    "from sklearn.datasets import make_classification\n",
    "from sklearn.decomposition import PCA"
   ]
  },
  {
   "cell_type": "code",
   "execution_count": 260,
   "metadata": {},
   "outputs": [
    {
     "name": "stderr",
     "output_type": "stream",
     "text": [
      "D:\\Anaconda\\lib\\site-packages\\sklearn\\linear_model\\logistic.py:432: FutureWarning: Default solver will be changed to 'lbfgs' in 0.22. Specify a solver to silence this warning.\n",
      "  FutureWarning)\n"
     ]
    }
   ],
   "source": [
    "from sklearn.ensemble import RandomForestClassifier\n",
    "from sklearn.ensemble import VotingClassifier\n",
    "from sklearn.linear_model import LogisticRegression\n",
    "from sklearn.svm import SVC\n",
    "from sklearn.metrics import accuracy_score\n",
    "\n",
    "log_clf = LogisticRegression()\n",
    "rnd_clf = RandomForestClassifier()\n",
    "svm_clf = SVC()\n",
    "voting_clf = VotingClassifier(estimators=[(\"lr\", log_clf),(\"rf\", rnd_clf),(\"svc\", svm_clf)], voting=\"hard\")\n",
    "\n",
    "log_clf.fit(x_train, y_train)\n",
    "#log_clf.fit(X_resampled, Y_resampled)\n",
    "# y_pred = log_clf.predict(X_test)\n",
    "y_pred = np.where(log_clf.predict_proba(x_test)[:,1]>0.50, 1, 0)"
   ]
  },
  {
   "cell_type": "code",
   "execution_count": 261,
   "metadata": {},
   "outputs": [
    {
     "name": "stdout",
     "output_type": "stream",
     "text": [
      "270\n"
     ]
    }
   ],
   "source": [
    "print(list(y_pred).count(1))"
   ]
  },
  {
   "cell_type": "code",
   "execution_count": 262,
   "metadata": {},
   "outputs": [
    {
     "name": "stdout",
     "output_type": "stream",
     "text": [
      "              precision    recall  f1-score   support\n",
      "\n",
      "           0       0.95      0.91      0.93      2251\n",
      "           1       0.25      0.38      0.30       179\n",
      "\n",
      "    accuracy                           0.87      2430\n",
      "   macro avg       0.60      0.65      0.62      2430\n",
      "weighted avg       0.90      0.87      0.88      2430\n",
      "\n"
     ]
    }
   ],
   "source": [
    "from sklearn.metrics import classification_report\n",
    "print(classification_report(y_test, y_pred, target_names=[\"0\", \"1\"]))"
   ]
  },
  {
   "cell_type": "code",
   "execution_count": 30,
   "metadata": {},
   "outputs": [
    {
     "name": "stdout",
     "output_type": "stream",
     "text": [
      "              precision    recall  f1-score   support\n",
      "\n",
      "           0       0.94      0.90      0.92      2250\n",
      "           1       0.20      0.31      0.24       180\n",
      "\n",
      "    accuracy                           0.86      2430\n",
      "   macro avg       0.57      0.60      0.58      2430\n",
      "weighted avg       0.89      0.86      0.87      2430\n",
      "\n"
     ]
    }
   ],
   "source": [
    "from sklearn.metrics import classification_report\n",
    "print(classification_report(y_test, y_pred, target_names=[\"0\", \"1\"]))"
   ]
  },
  {
   "cell_type": "markdown",
   "metadata": {},
   "source": [
    "# csv 파일로 만들기"
   ]
  },
  {
   "cell_type": "code",
   "execution_count": 197,
   "metadata": {},
   "outputs": [],
   "source": [
    "Player_information.to_csv(\"Player_information.csv\", encoding=\"utf8\")\n",
    "Player_action.to_csv(\"Player_action.csv\", encoding=\"utf8\")\n",
    "Group_activity.to_csv(\"Group_activity.csv\", encoding=\"utf8\")"
   ]
  }
 ],
 "metadata": {
  "kernelspec": {
   "display_name": "Python 3",
   "language": "python",
   "name": "python3"
  },
  "language_info": {
   "codemirror_mode": {
    "name": "ipython",
    "version": 3
   },
   "file_extension": ".py",
   "mimetype": "text/x-python",
   "name": "python",
   "nbconvert_exporter": "python",
   "pygments_lexer": "ipython3",
   "version": "3.7.3"
  }
 },
 "nbformat": 4,
 "nbformat_minor": 2
}
