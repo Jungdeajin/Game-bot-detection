{
 "cells": [
  {
   "cell_type": "code",
   "execution_count": 1,
   "metadata": {},
   "outputs": [
    {
     "name": "stderr",
     "output_type": "stream",
     "text": [
      "Using TensorFlow backend.\n"
     ]
    }
   ],
   "source": [
    "import numpy as np\n",
    "import pandas as pd\n",
    "import matplotlib.pyplot as plt\n",
    "from imblearn.over_sampling import SMOTE\n",
    "\n",
    "pd.set_option(\"max_columns\", 999)\n",
    "pd.set_option(\"max_rows\", 999)\n",
    "\n",
    "# 모델설정\n",
    "sm = SMOTE(ratio='auto', kind='regular')"
   ]
  },
  {
   "cell_type": "code",
   "execution_count": 23,
   "metadata": {},
   "outputs": [],
   "source": [
    "final = pd.read_csv('dataset_with_perday.csv', index_col = 'actor_account')\n",
    "model_data = final.copy()"
   ]
  },
  {
   "cell_type": "code",
   "execution_count": 24,
   "metadata": {},
   "outputs": [
    {
     "data": {
      "text/html": [
       "<div>\n",
       "<style scoped>\n",
       "    .dataframe tbody tr th:only-of-type {\n",
       "        vertical-align: middle;\n",
       "    }\n",
       "\n",
       "    .dataframe tbody tr th {\n",
       "        vertical-align: top;\n",
       "    }\n",
       "\n",
       "    .dataframe thead th {\n",
       "        text-align: right;\n",
       "    }\n",
       "</style>\n",
       "<table border=\"1\" class=\"dataframe\">\n",
       "  <thead>\n",
       "    <tr style=\"text-align: right;\">\n",
       "      <th></th>\n",
       "      <th>login_count</th>\n",
       "      <th>logout_count</th>\n",
       "      <th>login_day_count</th>\n",
       "      <th>play_time</th>\n",
       "      <th>avg_money</th>\n",
       "      <th>ip_count</th>\n",
       "      <th>max_level</th>\n",
       "      <th>login_total_day_x</th>\n",
       "      <th>playtime_per_day</th>\n",
       "      <th>sit_count</th>\n",
       "      <th>exp_get_amout</th>\n",
       "      <th>item_get_count</th>\n",
       "      <th>exp_repair_count</th>\n",
       "      <th>money_get_count</th>\n",
       "      <th>abyss</th>\n",
       "      <th>use_portal_count</th>\n",
       "      <th>killed_by_pc</th>\n",
       "      <th>killed_by_npc</th>\n",
       "      <th>teleport_count</th>\n",
       "      <th>reborn_count</th>\n",
       "      <th>question_count</th>\n",
       "      <th>login_total_day_y</th>\n",
       "      <th>sit_count_perday</th>\n",
       "      <th>item_get_count_perday</th>\n",
       "      <th>exp_repair_count_perday</th>\n",
       "      <th>money_get_count_perday</th>\n",
       "      <th>use_portal_count_perday</th>\n",
       "      <th>teleport_count_perday</th>\n",
       "      <th>total_party_time</th>\n",
       "      <th>guild_join_count</th>\n",
       "      <th>average_party_time</th>\n",
       "      <th>class</th>\n",
       "    </tr>\n",
       "    <tr>\n",
       "      <th>actor_account</th>\n",
       "      <th></th>\n",
       "      <th></th>\n",
       "      <th></th>\n",
       "      <th></th>\n",
       "      <th></th>\n",
       "      <th></th>\n",
       "      <th></th>\n",
       "      <th></th>\n",
       "      <th></th>\n",
       "      <th></th>\n",
       "      <th></th>\n",
       "      <th></th>\n",
       "      <th></th>\n",
       "      <th></th>\n",
       "      <th></th>\n",
       "      <th></th>\n",
       "      <th></th>\n",
       "      <th></th>\n",
       "      <th></th>\n",
       "      <th></th>\n",
       "      <th></th>\n",
       "      <th></th>\n",
       "      <th></th>\n",
       "      <th></th>\n",
       "      <th></th>\n",
       "      <th></th>\n",
       "      <th></th>\n",
       "      <th></th>\n",
       "      <th></th>\n",
       "      <th></th>\n",
       "      <th></th>\n",
       "      <th></th>\n",
       "    </tr>\n",
       "  </thead>\n",
       "  <tbody>\n",
       "    <tr>\n",
       "      <th>20000005</th>\n",
       "      <td>259</td>\n",
       "      <td>259</td>\n",
       "      <td>1</td>\n",
       "      <td>637926</td>\n",
       "      <td>124.849465</td>\n",
       "      <td>259</td>\n",
       "      <td>0</td>\n",
       "      <td>15</td>\n",
       "      <td>42528.40000</td>\n",
       "      <td>270</td>\n",
       "      <td>389149580</td>\n",
       "      <td>31149</td>\n",
       "      <td>0</td>\n",
       "      <td>4686</td>\n",
       "      <td>0</td>\n",
       "      <td>0</td>\n",
       "      <td>47</td>\n",
       "      <td>30</td>\n",
       "      <td>376</td>\n",
       "      <td>51</td>\n",
       "      <td>62</td>\n",
       "      <td>15</td>\n",
       "      <td>18.000000</td>\n",
       "      <td>2076.600000</td>\n",
       "      <td>0.0</td>\n",
       "      <td>312.400000</td>\n",
       "      <td>0.000000</td>\n",
       "      <td>25.066667</td>\n",
       "      <td>8862.0</td>\n",
       "      <td>0.0</td>\n",
       "      <td>1477.000000</td>\n",
       "      <td>0</td>\n",
       "    </tr>\n",
       "    <tr>\n",
       "      <th>20000016</th>\n",
       "      <td>38</td>\n",
       "      <td>37</td>\n",
       "      <td>1</td>\n",
       "      <td>401885</td>\n",
       "      <td>43.509962</td>\n",
       "      <td>38</td>\n",
       "      <td>42</td>\n",
       "      <td>14</td>\n",
       "      <td>28706.07143</td>\n",
       "      <td>153</td>\n",
       "      <td>80119427</td>\n",
       "      <td>61579</td>\n",
       "      <td>0</td>\n",
       "      <td>1596</td>\n",
       "      <td>0</td>\n",
       "      <td>0</td>\n",
       "      <td>32</td>\n",
       "      <td>75</td>\n",
       "      <td>343</td>\n",
       "      <td>75</td>\n",
       "      <td>5893</td>\n",
       "      <td>14</td>\n",
       "      <td>10.928571</td>\n",
       "      <td>4398.500000</td>\n",
       "      <td>0.0</td>\n",
       "      <td>114.000000</td>\n",
       "      <td>0.000000</td>\n",
       "      <td>24.500000</td>\n",
       "      <td>69458.0</td>\n",
       "      <td>0.0</td>\n",
       "      <td>3655.684211</td>\n",
       "      <td>0</td>\n",
       "    </tr>\n",
       "    <tr>\n",
       "      <th>20000033</th>\n",
       "      <td>43</td>\n",
       "      <td>42</td>\n",
       "      <td>1</td>\n",
       "      <td>240334</td>\n",
       "      <td>-6.613812</td>\n",
       "      <td>43</td>\n",
       "      <td>38</td>\n",
       "      <td>14</td>\n",
       "      <td>17166.71429</td>\n",
       "      <td>378</td>\n",
       "      <td>142485377</td>\n",
       "      <td>24686</td>\n",
       "      <td>0</td>\n",
       "      <td>1318</td>\n",
       "      <td>0</td>\n",
       "      <td>0</td>\n",
       "      <td>35</td>\n",
       "      <td>53</td>\n",
       "      <td>337</td>\n",
       "      <td>69</td>\n",
       "      <td>97</td>\n",
       "      <td>14</td>\n",
       "      <td>27.000000</td>\n",
       "      <td>1763.285714</td>\n",
       "      <td>0.0</td>\n",
       "      <td>94.142857</td>\n",
       "      <td>0.000000</td>\n",
       "      <td>24.071429</td>\n",
       "      <td>43619.0</td>\n",
       "      <td>0.0</td>\n",
       "      <td>2295.736842</td>\n",
       "      <td>0</td>\n",
       "    </tr>\n",
       "    <tr>\n",
       "      <th>20000035</th>\n",
       "      <td>25</td>\n",
       "      <td>24</td>\n",
       "      <td>1</td>\n",
       "      <td>1205493</td>\n",
       "      <td>0.088531</td>\n",
       "      <td>25</td>\n",
       "      <td>0</td>\n",
       "      <td>15</td>\n",
       "      <td>80366.20000</td>\n",
       "      <td>207</td>\n",
       "      <td>1377552887</td>\n",
       "      <td>109795</td>\n",
       "      <td>0</td>\n",
       "      <td>7979</td>\n",
       "      <td>0</td>\n",
       "      <td>0</td>\n",
       "      <td>0</td>\n",
       "      <td>12</td>\n",
       "      <td>44</td>\n",
       "      <td>10</td>\n",
       "      <td>0</td>\n",
       "      <td>15</td>\n",
       "      <td>13.800000</td>\n",
       "      <td>7319.666667</td>\n",
       "      <td>0.0</td>\n",
       "      <td>531.933333</td>\n",
       "      <td>0.000000</td>\n",
       "      <td>2.933333</td>\n",
       "      <td>0.0</td>\n",
       "      <td>0.0</td>\n",
       "      <td>0.000000</td>\n",
       "      <td>0</td>\n",
       "    </tr>\n",
       "    <tr>\n",
       "      <th>20000051</th>\n",
       "      <td>110</td>\n",
       "      <td>109</td>\n",
       "      <td>1</td>\n",
       "      <td>457433</td>\n",
       "      <td>-32.874878</td>\n",
       "      <td>110</td>\n",
       "      <td>0</td>\n",
       "      <td>15</td>\n",
       "      <td>30495.53333</td>\n",
       "      <td>320</td>\n",
       "      <td>395099069</td>\n",
       "      <td>98368</td>\n",
       "      <td>0</td>\n",
       "      <td>3551</td>\n",
       "      <td>0</td>\n",
       "      <td>1</td>\n",
       "      <td>311</td>\n",
       "      <td>109</td>\n",
       "      <td>568</td>\n",
       "      <td>261</td>\n",
       "      <td>80</td>\n",
       "      <td>15</td>\n",
       "      <td>21.333333</td>\n",
       "      <td>6557.866667</td>\n",
       "      <td>0.0</td>\n",
       "      <td>236.733333</td>\n",
       "      <td>0.066667</td>\n",
       "      <td>37.866667</td>\n",
       "      <td>40934.0</td>\n",
       "      <td>0.0</td>\n",
       "      <td>2558.375000</td>\n",
       "      <td>0</td>\n",
       "    </tr>\n",
       "  </tbody>\n",
       "</table>\n",
       "</div>"
      ],
      "text/plain": [
       "               login_count  logout_count  login_day_count  play_time  \\\n",
       "actor_account                                                          \n",
       "20000005               259           259                1     637926   \n",
       "20000016                38            37                1     401885   \n",
       "20000033                43            42                1     240334   \n",
       "20000035                25            24                1    1205493   \n",
       "20000051               110           109                1     457433   \n",
       "\n",
       "                avg_money  ip_count  max_level  login_total_day_x  \\\n",
       "actor_account                                                       \n",
       "20000005       124.849465       259          0                 15   \n",
       "20000016        43.509962        38         42                 14   \n",
       "20000033        -6.613812        43         38                 14   \n",
       "20000035         0.088531        25          0                 15   \n",
       "20000051       -32.874878       110          0                 15   \n",
       "\n",
       "               playtime_per_day  sit_count  exp_get_amout  item_get_count  \\\n",
       "actor_account                                                               \n",
       "20000005            42528.40000        270      389149580           31149   \n",
       "20000016            28706.07143        153       80119427           61579   \n",
       "20000033            17166.71429        378      142485377           24686   \n",
       "20000035            80366.20000        207     1377552887          109795   \n",
       "20000051            30495.53333        320      395099069           98368   \n",
       "\n",
       "               exp_repair_count  money_get_count  abyss  use_portal_count  \\\n",
       "actor_account                                                               \n",
       "20000005                      0             4686      0                 0   \n",
       "20000016                      0             1596      0                 0   \n",
       "20000033                      0             1318      0                 0   \n",
       "20000035                      0             7979      0                 0   \n",
       "20000051                      0             3551      0                 1   \n",
       "\n",
       "               killed_by_pc  killed_by_npc  teleport_count  reborn_count  \\\n",
       "actor_account                                                              \n",
       "20000005                 47             30             376            51   \n",
       "20000016                 32             75             343            75   \n",
       "20000033                 35             53             337            69   \n",
       "20000035                  0             12              44            10   \n",
       "20000051                311            109             568           261   \n",
       "\n",
       "               question_count  login_total_day_y  sit_count_perday  \\\n",
       "actor_account                                                        \n",
       "20000005                   62                 15         18.000000   \n",
       "20000016                 5893                 14         10.928571   \n",
       "20000033                   97                 14         27.000000   \n",
       "20000035                    0                 15         13.800000   \n",
       "20000051                   80                 15         21.333333   \n",
       "\n",
       "               item_get_count_perday  exp_repair_count_perday  \\\n",
       "actor_account                                                   \n",
       "20000005                 2076.600000                      0.0   \n",
       "20000016                 4398.500000                      0.0   \n",
       "20000033                 1763.285714                      0.0   \n",
       "20000035                 7319.666667                      0.0   \n",
       "20000051                 6557.866667                      0.0   \n",
       "\n",
       "               money_get_count_perday  use_portal_count_perday  \\\n",
       "actor_account                                                    \n",
       "20000005                   312.400000                 0.000000   \n",
       "20000016                   114.000000                 0.000000   \n",
       "20000033                    94.142857                 0.000000   \n",
       "20000035                   531.933333                 0.000000   \n",
       "20000051                   236.733333                 0.066667   \n",
       "\n",
       "               teleport_count_perday  total_party_time  guild_join_count  \\\n",
       "actor_account                                                              \n",
       "20000005                   25.066667            8862.0               0.0   \n",
       "20000016                   24.500000           69458.0               0.0   \n",
       "20000033                   24.071429           43619.0               0.0   \n",
       "20000035                    2.933333               0.0               0.0   \n",
       "20000051                   37.866667           40934.0               0.0   \n",
       "\n",
       "               average_party_time  class  \n",
       "actor_account                             \n",
       "20000005              1477.000000      0  \n",
       "20000016              3655.684211      0  \n",
       "20000033              2295.736842      0  \n",
       "20000035                 0.000000      0  \n",
       "20000051              2558.375000      0  "
      ]
     },
     "execution_count": 24,
     "metadata": {},
     "output_type": "execute_result"
    }
   ],
   "source": [
    "model_data.head()"
   ]
  },
  {
   "cell_type": "markdown",
   "metadata": {},
   "source": [
    "# Model Training"
   ]
  },
  {
   "cell_type": "code",
   "execution_count": 25,
   "metadata": {},
   "outputs": [],
   "source": [
    "from sklearn.tree import DecisionTreeClassifier\n",
    "from sklearn.model_selection import train_test_split\n",
    "from sklearn.preprocessing import StandardScaler\n",
    "\n",
    "from sklearn.model_selection import cross_val_score\n",
    "from sklearn.model_selection import StratifiedKFold\n",
    "from sklearn.model_selection import KFold\n",
    "#import xgboost as xgb"
   ]
  },
  {
   "cell_type": "code",
   "execution_count": 26,
   "metadata": {},
   "outputs": [],
   "source": [
    "x = model_data.iloc[:, :-1]\n",
    "y = model_data.iloc[:, -1]"
   ]
  },
  {
   "cell_type": "code",
   "execution_count": 27,
   "metadata": {},
   "outputs": [
    {
     "data": {
      "text/html": [
       "<div>\n",
       "<style scoped>\n",
       "    .dataframe tbody tr th:only-of-type {\n",
       "        vertical-align: middle;\n",
       "    }\n",
       "\n",
       "    .dataframe tbody tr th {\n",
       "        vertical-align: top;\n",
       "    }\n",
       "\n",
       "    .dataframe thead th {\n",
       "        text-align: right;\n",
       "    }\n",
       "</style>\n",
       "<table border=\"1\" class=\"dataframe\">\n",
       "  <thead>\n",
       "    <tr style=\"text-align: right;\">\n",
       "      <th></th>\n",
       "      <th>login_count</th>\n",
       "      <th>logout_count</th>\n",
       "      <th>login_day_count</th>\n",
       "      <th>play_time</th>\n",
       "      <th>avg_money</th>\n",
       "      <th>ip_count</th>\n",
       "      <th>max_level</th>\n",
       "      <th>login_total_day_x</th>\n",
       "      <th>playtime_per_day</th>\n",
       "      <th>sit_count</th>\n",
       "      <th>exp_get_amout</th>\n",
       "      <th>item_get_count</th>\n",
       "      <th>exp_repair_count</th>\n",
       "      <th>money_get_count</th>\n",
       "      <th>abyss</th>\n",
       "      <th>use_portal_count</th>\n",
       "      <th>killed_by_pc</th>\n",
       "      <th>killed_by_npc</th>\n",
       "      <th>teleport_count</th>\n",
       "      <th>reborn_count</th>\n",
       "      <th>question_count</th>\n",
       "      <th>login_total_day_y</th>\n",
       "      <th>sit_count_perday</th>\n",
       "      <th>item_get_count_perday</th>\n",
       "      <th>exp_repair_count_perday</th>\n",
       "      <th>money_get_count_perday</th>\n",
       "      <th>use_portal_count_perday</th>\n",
       "      <th>teleport_count_perday</th>\n",
       "      <th>total_party_time</th>\n",
       "      <th>guild_join_count</th>\n",
       "      <th>average_party_time</th>\n",
       "      <th>class</th>\n",
       "    </tr>\n",
       "    <tr>\n",
       "      <th>actor_account</th>\n",
       "      <th></th>\n",
       "      <th></th>\n",
       "      <th></th>\n",
       "      <th></th>\n",
       "      <th></th>\n",
       "      <th></th>\n",
       "      <th></th>\n",
       "      <th></th>\n",
       "      <th></th>\n",
       "      <th></th>\n",
       "      <th></th>\n",
       "      <th></th>\n",
       "      <th></th>\n",
       "      <th></th>\n",
       "      <th></th>\n",
       "      <th></th>\n",
       "      <th></th>\n",
       "      <th></th>\n",
       "      <th></th>\n",
       "      <th></th>\n",
       "      <th></th>\n",
       "      <th></th>\n",
       "      <th></th>\n",
       "      <th></th>\n",
       "      <th></th>\n",
       "      <th></th>\n",
       "      <th></th>\n",
       "      <th></th>\n",
       "      <th></th>\n",
       "      <th></th>\n",
       "      <th></th>\n",
       "      <th></th>\n",
       "    </tr>\n",
       "  </thead>\n",
       "  <tbody>\n",
       "    <tr>\n",
       "      <th>20000005</th>\n",
       "      <td>259</td>\n",
       "      <td>259</td>\n",
       "      <td>1</td>\n",
       "      <td>637926</td>\n",
       "      <td>124.849465</td>\n",
       "      <td>259</td>\n",
       "      <td>0</td>\n",
       "      <td>15</td>\n",
       "      <td>42528.40000</td>\n",
       "      <td>270</td>\n",
       "      <td>389149580</td>\n",
       "      <td>31149</td>\n",
       "      <td>0</td>\n",
       "      <td>4686</td>\n",
       "      <td>0</td>\n",
       "      <td>0</td>\n",
       "      <td>47</td>\n",
       "      <td>30</td>\n",
       "      <td>376</td>\n",
       "      <td>51</td>\n",
       "      <td>62</td>\n",
       "      <td>15</td>\n",
       "      <td>18.000000</td>\n",
       "      <td>2076.600000</td>\n",
       "      <td>0.0</td>\n",
       "      <td>312.400000</td>\n",
       "      <td>0.000000</td>\n",
       "      <td>25.066667</td>\n",
       "      <td>8862.0</td>\n",
       "      <td>0.0</td>\n",
       "      <td>1477.000000</td>\n",
       "      <td>0</td>\n",
       "    </tr>\n",
       "    <tr>\n",
       "      <th>20000016</th>\n",
       "      <td>38</td>\n",
       "      <td>37</td>\n",
       "      <td>1</td>\n",
       "      <td>401885</td>\n",
       "      <td>43.509962</td>\n",
       "      <td>38</td>\n",
       "      <td>42</td>\n",
       "      <td>14</td>\n",
       "      <td>28706.07143</td>\n",
       "      <td>153</td>\n",
       "      <td>80119427</td>\n",
       "      <td>61579</td>\n",
       "      <td>0</td>\n",
       "      <td>1596</td>\n",
       "      <td>0</td>\n",
       "      <td>0</td>\n",
       "      <td>32</td>\n",
       "      <td>75</td>\n",
       "      <td>343</td>\n",
       "      <td>75</td>\n",
       "      <td>5893</td>\n",
       "      <td>14</td>\n",
       "      <td>10.928571</td>\n",
       "      <td>4398.500000</td>\n",
       "      <td>0.0</td>\n",
       "      <td>114.000000</td>\n",
       "      <td>0.000000</td>\n",
       "      <td>24.500000</td>\n",
       "      <td>69458.0</td>\n",
       "      <td>0.0</td>\n",
       "      <td>3655.684211</td>\n",
       "      <td>0</td>\n",
       "    </tr>\n",
       "    <tr>\n",
       "      <th>20000033</th>\n",
       "      <td>43</td>\n",
       "      <td>42</td>\n",
       "      <td>1</td>\n",
       "      <td>240334</td>\n",
       "      <td>-6.613812</td>\n",
       "      <td>43</td>\n",
       "      <td>38</td>\n",
       "      <td>14</td>\n",
       "      <td>17166.71429</td>\n",
       "      <td>378</td>\n",
       "      <td>142485377</td>\n",
       "      <td>24686</td>\n",
       "      <td>0</td>\n",
       "      <td>1318</td>\n",
       "      <td>0</td>\n",
       "      <td>0</td>\n",
       "      <td>35</td>\n",
       "      <td>53</td>\n",
       "      <td>337</td>\n",
       "      <td>69</td>\n",
       "      <td>97</td>\n",
       "      <td>14</td>\n",
       "      <td>27.000000</td>\n",
       "      <td>1763.285714</td>\n",
       "      <td>0.0</td>\n",
       "      <td>94.142857</td>\n",
       "      <td>0.000000</td>\n",
       "      <td>24.071429</td>\n",
       "      <td>43619.0</td>\n",
       "      <td>0.0</td>\n",
       "      <td>2295.736842</td>\n",
       "      <td>0</td>\n",
       "    </tr>\n",
       "    <tr>\n",
       "      <th>20000035</th>\n",
       "      <td>25</td>\n",
       "      <td>24</td>\n",
       "      <td>1</td>\n",
       "      <td>1205493</td>\n",
       "      <td>0.088531</td>\n",
       "      <td>25</td>\n",
       "      <td>0</td>\n",
       "      <td>15</td>\n",
       "      <td>80366.20000</td>\n",
       "      <td>207</td>\n",
       "      <td>1377552887</td>\n",
       "      <td>109795</td>\n",
       "      <td>0</td>\n",
       "      <td>7979</td>\n",
       "      <td>0</td>\n",
       "      <td>0</td>\n",
       "      <td>0</td>\n",
       "      <td>12</td>\n",
       "      <td>44</td>\n",
       "      <td>10</td>\n",
       "      <td>0</td>\n",
       "      <td>15</td>\n",
       "      <td>13.800000</td>\n",
       "      <td>7319.666667</td>\n",
       "      <td>0.0</td>\n",
       "      <td>531.933333</td>\n",
       "      <td>0.000000</td>\n",
       "      <td>2.933333</td>\n",
       "      <td>0.0</td>\n",
       "      <td>0.0</td>\n",
       "      <td>0.000000</td>\n",
       "      <td>0</td>\n",
       "    </tr>\n",
       "    <tr>\n",
       "      <th>20000051</th>\n",
       "      <td>110</td>\n",
       "      <td>109</td>\n",
       "      <td>1</td>\n",
       "      <td>457433</td>\n",
       "      <td>-32.874878</td>\n",
       "      <td>110</td>\n",
       "      <td>0</td>\n",
       "      <td>15</td>\n",
       "      <td>30495.53333</td>\n",
       "      <td>320</td>\n",
       "      <td>395099069</td>\n",
       "      <td>98368</td>\n",
       "      <td>0</td>\n",
       "      <td>3551</td>\n",
       "      <td>0</td>\n",
       "      <td>1</td>\n",
       "      <td>311</td>\n",
       "      <td>109</td>\n",
       "      <td>568</td>\n",
       "      <td>261</td>\n",
       "      <td>80</td>\n",
       "      <td>15</td>\n",
       "      <td>21.333333</td>\n",
       "      <td>6557.866667</td>\n",
       "      <td>0.0</td>\n",
       "      <td>236.733333</td>\n",
       "      <td>0.066667</td>\n",
       "      <td>37.866667</td>\n",
       "      <td>40934.0</td>\n",
       "      <td>0.0</td>\n",
       "      <td>2558.375000</td>\n",
       "      <td>0</td>\n",
       "    </tr>\n",
       "  </tbody>\n",
       "</table>\n",
       "</div>"
      ],
      "text/plain": [
       "               login_count  logout_count  login_day_count  play_time  \\\n",
       "actor_account                                                          \n",
       "20000005               259           259                1     637926   \n",
       "20000016                38            37                1     401885   \n",
       "20000033                43            42                1     240334   \n",
       "20000035                25            24                1    1205493   \n",
       "20000051               110           109                1     457433   \n",
       "\n",
       "                avg_money  ip_count  max_level  login_total_day_x  \\\n",
       "actor_account                                                       \n",
       "20000005       124.849465       259          0                 15   \n",
       "20000016        43.509962        38         42                 14   \n",
       "20000033        -6.613812        43         38                 14   \n",
       "20000035         0.088531        25          0                 15   \n",
       "20000051       -32.874878       110          0                 15   \n",
       "\n",
       "               playtime_per_day  sit_count  exp_get_amout  item_get_count  \\\n",
       "actor_account                                                               \n",
       "20000005            42528.40000        270      389149580           31149   \n",
       "20000016            28706.07143        153       80119427           61579   \n",
       "20000033            17166.71429        378      142485377           24686   \n",
       "20000035            80366.20000        207     1377552887          109795   \n",
       "20000051            30495.53333        320      395099069           98368   \n",
       "\n",
       "               exp_repair_count  money_get_count  abyss  use_portal_count  \\\n",
       "actor_account                                                               \n",
       "20000005                      0             4686      0                 0   \n",
       "20000016                      0             1596      0                 0   \n",
       "20000033                      0             1318      0                 0   \n",
       "20000035                      0             7979      0                 0   \n",
       "20000051                      0             3551      0                 1   \n",
       "\n",
       "               killed_by_pc  killed_by_npc  teleport_count  reborn_count  \\\n",
       "actor_account                                                              \n",
       "20000005                 47             30             376            51   \n",
       "20000016                 32             75             343            75   \n",
       "20000033                 35             53             337            69   \n",
       "20000035                  0             12              44            10   \n",
       "20000051                311            109             568           261   \n",
       "\n",
       "               question_count  login_total_day_y  sit_count_perday  \\\n",
       "actor_account                                                        \n",
       "20000005                   62                 15         18.000000   \n",
       "20000016                 5893                 14         10.928571   \n",
       "20000033                   97                 14         27.000000   \n",
       "20000035                    0                 15         13.800000   \n",
       "20000051                   80                 15         21.333333   \n",
       "\n",
       "               item_get_count_perday  exp_repair_count_perday  \\\n",
       "actor_account                                                   \n",
       "20000005                 2076.600000                      0.0   \n",
       "20000016                 4398.500000                      0.0   \n",
       "20000033                 1763.285714                      0.0   \n",
       "20000035                 7319.666667                      0.0   \n",
       "20000051                 6557.866667                      0.0   \n",
       "\n",
       "               money_get_count_perday  use_portal_count_perday  \\\n",
       "actor_account                                                    \n",
       "20000005                   312.400000                 0.000000   \n",
       "20000016                   114.000000                 0.000000   \n",
       "20000033                    94.142857                 0.000000   \n",
       "20000035                   531.933333                 0.000000   \n",
       "20000051                   236.733333                 0.066667   \n",
       "\n",
       "               teleport_count_perday  total_party_time  guild_join_count  \\\n",
       "actor_account                                                              \n",
       "20000005                   25.066667            8862.0               0.0   \n",
       "20000016                   24.500000           69458.0               0.0   \n",
       "20000033                   24.071429           43619.0               0.0   \n",
       "20000035                    2.933333               0.0               0.0   \n",
       "20000051                   37.866667           40934.0               0.0   \n",
       "\n",
       "               average_party_time  class  \n",
       "actor_account                             \n",
       "20000005              1477.000000      0  \n",
       "20000016              3655.684211      0  \n",
       "20000033              2295.736842      0  \n",
       "20000035                 0.000000      0  \n",
       "20000051              2558.375000      0  "
      ]
     },
     "execution_count": 27,
     "metadata": {},
     "output_type": "execute_result"
    }
   ],
   "source": [
    "model_data.head()"
   ]
  },
  {
   "cell_type": "code",
   "execution_count": 55,
   "metadata": {},
   "outputs": [
    {
     "name": "stdout",
     "output_type": "stream",
     "text": [
      "7500\n"
     ]
    }
   ],
   "source": [
    "print(list(y).count(0))\n",
    "x_train, x_test, y_train, y_test = train_test_split(x, y, test_size=0.3)"
   ]
  },
  {
   "cell_type": "markdown",
   "metadata": {},
   "source": [
    "# Random Forest"
   ]
  },
  {
   "cell_type": "code",
   "execution_count": null,
   "metadata": {},
   "outputs": [],
   "source": [
    "from sklearn.ensemble import RandomForestClassifier\n",
    "#500개의 DT classifier만듬. 각 DT당 최대 16개의 leaf node, n_jobs -> cpu 코어 몇개 쓸지\n",
    "rnd_clf = RandomForestClassifier(n_estimators=300, max_leaf_nodes=2, criterion='gini', max_depth = 3, n_jobs=6)\n",
    "rnd_clf.fit(x_train, y_train)\n",
    "y_pred_rf = rnd_clf.predict(x_test)"
   ]
  },
  {
   "cell_type": "markdown",
   "metadata": {},
   "source": [
    "## RF Proba Manipulation"
   ]
  },
  {
   "cell_type": "markdown",
   "metadata": {},
   "source": [
    "## RF Result"
   ]
  },
  {
   "cell_type": "code",
   "execution_count": null,
   "metadata": {
    "scrolled": false
   },
   "outputs": [],
   "source": [
    "from sklearn.metrics import classification_report\n",
    "\n",
    "print(classification_report(y_test, y_pred_rf, target_names=['Human', 'Bot']))"
   ]
  },
  {
   "cell_type": "code",
   "execution_count": null,
   "metadata": {},
   "outputs": [],
   "source": [
    "from sklearn.metrics import accuracy_score, f1_score\n",
    "print(\"Accuracy: %.2f\" %accuracy_score(y_test, y_pred_rf))\n",
    "print(\"F1 score: %.2f\" %f1_score(y_test, y_pred_rf))"
   ]
  },
  {
   "cell_type": "markdown",
   "metadata": {},
   "source": [
    "## Proba Manipulation Result"
   ]
  },
  {
   "cell_type": "code",
   "execution_count": null,
   "metadata": {},
   "outputs": [],
   "source": [
    "rf_proba = rnd_clf.predict_proba(x_test)[:,0]\n",
    "\n",
    "x = np.arange(0, 1.01, 0.01)\n",
    "y = np.arange(0, 1.01, 0.01)\n",
    "z = np.arange(0, 1.01, 0.01)\n",
    "\n",
    "for i in np.arange(0, 1.01, 0.01):\n",
    "    y_pred_rf = ((rf_proba) > i).astype(int)\n",
    "    y[int(i*100)] = accuracy_score(y_test, y_pred_rf)\n",
    "    z[int(i*100)] = f1_score(y_test, y_pred_rf)"
   ]
  },
  {
   "cell_type": "code",
   "execution_count": null,
   "metadata": {},
   "outputs": [],
   "source": [
    "max(z)"
   ]
  },
  {
   "cell_type": "code",
   "execution_count": null,
   "metadata": {},
   "outputs": [],
   "source": [
    "ax = plt.subplot(111)\n",
    "\n",
    "ax.plot(x, y, label='acc')\n",
    "ax.plot(x, z, label='f1')\n",
    "\n",
    "ax.set(xlabel='proba', ylabel='score', title='Proba Manipulation RF')\n",
    "ax.legend(loc='upper left')\n",
    "ax.grid()"
   ]
  },
  {
   "cell_type": "markdown",
   "metadata": {},
   "source": [
    "# Smote RF with Proba Manipulation"
   ]
  },
  {
   "cell_type": "code",
   "execution_count": null,
   "metadata": {},
   "outputs": [],
   "source": [
    "# train데이터를 넣어 복제함\n",
    "\n",
    "x = model_data.iloc[:, :-1]\n",
    "y = model_data.iloc[:, -1]\n",
    "\n",
    "x_train, x_test, y_train, y_test = train_test_split(x, y, test_size=0.3)\n",
    "\n",
    "X_resampled, Y_resampled = sm.fit_sample(x_train,y_train)\n",
    "\n",
    "#500개의 DT classifier만듬. 각 DT당 최대 16개의 leaf node, n_jobs -> cpu 코어 몇개 쓸지\n",
    "rnd_clf = RandomForestClassifier(n_estimators=300, max_leaf_nodes=2, criterion='gini', max_depth = 3, n_jobs=6)\n",
    "rnd_clf.fit(X_resampled, Y_resampled)\n",
    "y_pred_rf = rnd_clf.predict_proba(x_test)[:,1]"
   ]
  },
  {
   "cell_type": "code",
   "execution_count": null,
   "metadata": {},
   "outputs": [],
   "source": [
    "x1 = np.arange(0, 1.01, 0.01)\n",
    "y1 = np.arange(0, 1.01, 0.01)\n",
    "z1 = np.arange(0, 1.01, 0.01)\n",
    "\n",
    "from sklearn.metrics import accuracy_score, f1_score\n",
    "\n",
    "for i in np.arange(0, 1.01, 0.01):\n",
    "    y_pred = ((y_pred_rf) > i).astype(int)\n",
    "    y1[int(i*100)] = accuracy_score(y_test, y_pred)\n",
    "    z1[int(i*100)] = f1_score(y_test, y_pred)"
   ]
  },
  {
   "cell_type": "code",
   "execution_count": null,
   "metadata": {},
   "outputs": [],
   "source": [
    "ax = plt.subplot(111)\n",
    "\n",
    "ax.plot(x1, y1, label='acc')\n",
    "ax.plot(x1, z1, label='f1')\n",
    "\n",
    "ax.set(xlabel='proba', ylabel='score', title='Proba Manipulation RF Smote')\n",
    "ax.legend(loc='upper left')\n",
    "ax.grid()"
   ]
  },
  {
   "cell_type": "markdown",
   "metadata": {},
   "source": [
    "# 로지스틱"
   ]
  },
  {
   "cell_type": "code",
   "execution_count": null,
   "metadata": {},
   "outputs": [],
   "source": [
    "from sklearn.preprocessing import MinMaxScaler\n",
    "\n",
    "# scaler = MinMaxScaler(feature_range=(0, 1))\n",
    "# scaler.fit_transform(x_train)\n",
    "# x_train = scaler.fit_transform(x_train)\n",
    "\n",
    "from sklearn.datasets import make_classification\n",
    "from sklearn.decomposition import PCA"
   ]
  },
  {
   "cell_type": "code",
   "execution_count": null,
   "metadata": {},
   "outputs": [],
   "source": [
    "from sklearn.ensemble import RandomForestClassifier\n",
    "from sklearn.ensemble import VotingClassifier\n",
    "from sklearn.linear_model import LogisticRegression\n",
    "from sklearn.svm import SVC\n",
    "from sklearn.metrics import accuracy_score\n",
    "\n",
    "log_clf = LogisticRegression()\n",
    "rnd_clf = RandomForestClassifier()\n",
    "svm_clf = SVC()\n",
    "voting_clf = VotingClassifier(estimators=[(\"lr\", log_clf),(\"rf\", rnd_clf),(\"svc\", svm_clf)], voting=\"hard\")\n",
    "\n",
    "log_clf.fit(x_train, y_train)\n",
    "#log_clf.fit(X_resampled, Y_resampled)\n",
    "# y_pred = log_clf.predict(X_test)\n",
    "pred_log = log_clf.predict_proba(x_test)[:,1]"
   ]
  },
  {
   "cell_type": "code",
   "execution_count": null,
   "metadata": {},
   "outputs": [],
   "source": [
    "pred_log"
   ]
  },
  {
   "cell_type": "code",
   "execution_count": null,
   "metadata": {},
   "outputs": [],
   "source": [
    "x1 = np.arange(0, 1.01, 0.01)\n",
    "y1 = np.arange(0, 1.01, 0.01)\n",
    "z1 = np.arange(0, 1.01, 0.01)\n",
    "\n",
    "from sklearn.metrics import accuracy_score, f1_score\n",
    "\n",
    "for i in np.arange(0, 1.01, 0.01):\n",
    "    y_pred = ((pred_log) > i).astype(int)\n",
    "    y1[int(i*100)] = accuracy_score(y_test, y_pred)\n",
    "    z1[int(i*100)] = f1_score(y_test, y_pred)"
   ]
  },
  {
   "cell_type": "code",
   "execution_count": null,
   "metadata": {},
   "outputs": [],
   "source": [
    "ax = plt.subplot(111)\n",
    "\n",
    "ax.plot(x1, y1, label='acc')\n",
    "ax.plot(x1, z1, label='f1')\n",
    "\n",
    "ax.set(xlabel='proba', ylabel='score', title='Proba Manipulation RF Smote')\n",
    "ax.legend(loc='upper left')\n",
    "ax.grid()"
   ]
  },
  {
   "cell_type": "code",
   "execution_count": null,
   "metadata": {},
   "outputs": [],
   "source": [
    "from sklearn.ensemble import IsolationForest\n",
    "\n",
    "# train데이터를 넣어 복제함\n",
    "\n",
    "x = model_data.iloc[:, :-1]\n",
    "y = model_data.iloc[:, -1]\n",
    "\n",
    "x_train, x_test, y_train, y_test = train_test_split(x, y, test_size=0.3)\n",
    "\n",
    "X_resampled, Y_resampled = sm.fit_sample(x_train,y_train)\n",
    "\n",
    "#500개의 DT classifier만듬. 각 DT당 최대 16개의 leaf node, n_jobs -> cpu 코어 몇개 쓸지\n",
    "if_clf = IsolationForest(n_estimators=1000, max_samples=100, n_jobs=6)\n",
    "if_clf.fit(X_resampled, Y_resampled)\n",
    "y_pred_if = if_clf.score_samples(x_test)"
   ]
  },
  {
   "cell_type": "code",
   "execution_count": null,
   "metadata": {},
   "outputs": [],
   "source": [
    "plt.plot(y_pred_if)"
   ]
  },
  {
   "cell_type": "code",
   "execution_count": null,
   "metadata": {},
   "outputs": [],
   "source": [
    "x1 = np.arange(min(y_pred_if), max(y_pred_if)+0.01, 0.01)\n",
    "y1 = np.arange(min(y_pred_if), max(y_pred_if)+0.01, 0.01)\n",
    "z1 = np.arange(min(y_pred_if), max(y_pred_if)+0.01, 0.01)\n",
    "\n",
    "for i in range(0, len(x1)):\n",
    "    y_pred = ((y_pred_if ) < x1[i]).astype(int)\n",
    "    y1[i] = accuracy_score(y_test, y_pred)\n",
    "    z1[i] = f1_score(y_test, y_pred)"
   ]
  },
  {
   "cell_type": "code",
   "execution_count": null,
   "metadata": {},
   "outputs": [],
   "source": [
    "ax = plt.subplot(111)\n",
    "\n",
    "ax.plot(x1, y1, label='acc')\n",
    "ax.plot(x1, z1, label='f1')\n",
    "\n",
    "ax.set(xlabel='proba', ylabel='score', title='Isolation Forest')\n",
    "ax.legend(loc='upper left')\n",
    "ax.grid()"
   ]
  },
  {
   "cell_type": "markdown",
   "metadata": {},
   "source": [
    "# LocalOutlierFactor"
   ]
  },
  {
   "cell_type": "code",
   "execution_count": null,
   "metadata": {},
   "outputs": [],
   "source": [
    "from sklearn.neighbors import LocalOutlierFactor"
   ]
  },
  {
   "cell_type": "code",
   "execution_count": null,
   "metadata": {},
   "outputs": [],
   "source": [
    "clf = LocalOutlierFactor(n_neighbors=20, contamination=0.1)"
   ]
  },
  {
   "cell_type": "code",
   "execution_count": null,
   "metadata": {},
   "outputs": [],
   "source": [
    "y_pred_lof = clf.fit_predict(x)"
   ]
  },
  {
   "cell_type": "code",
   "execution_count": 7,
   "metadata": {},
   "outputs": [
    {
     "ename": "NameError",
     "evalue": "name 'y_pred_lof' is not defined",
     "output_type": "error",
     "traceback": [
      "\u001b[1;31m---------------------------------------------------------------------------\u001b[0m",
      "\u001b[1;31mNameError\u001b[0m                                 Traceback (most recent call last)",
      "\u001b[1;32m<ipython-input-7-463e130d79e6>\u001b[0m in \u001b[0;36m<module>\u001b[1;34m\u001b[0m\n\u001b[1;32m----> 1\u001b[1;33m \u001b[0my_pred\u001b[0m \u001b[1;33m=\u001b[0m \u001b[1;33m(\u001b[0m\u001b[0my_pred_lof\u001b[0m \u001b[1;33m==\u001b[0m \u001b[1;33m-\u001b[0m\u001b[1;36m1\u001b[0m\u001b[1;33m)\u001b[0m\u001b[1;33m.\u001b[0m\u001b[0mastype\u001b[0m\u001b[1;33m(\u001b[0m\u001b[0mint\u001b[0m\u001b[1;33m)\u001b[0m\u001b[1;33m\u001b[0m\u001b[1;33m\u001b[0m\u001b[0m\n\u001b[0m",
      "\u001b[1;31mNameError\u001b[0m: name 'y_pred_lof' is not defined"
     ]
    }
   ],
   "source": [
    "y_pred = (y_pred_lof == -1).astype(int)"
   ]
  },
  {
   "cell_type": "code",
   "execution_count": null,
   "metadata": {},
   "outputs": [],
   "source": [
    "f1_score(y, y_pred)"
   ]
  },
  {
   "cell_type": "code",
   "execution_count": 8,
   "metadata": {},
   "outputs": [
    {
     "ename": "NameError",
     "evalue": "name 'clf' is not defined",
     "output_type": "error",
     "traceback": [
      "\u001b[1;31m---------------------------------------------------------------------------\u001b[0m",
      "\u001b[1;31mNameError\u001b[0m                                 Traceback (most recent call last)",
      "\u001b[1;32m<ipython-input-8-c53194c47fa1>\u001b[0m in \u001b[0;36m<module>\u001b[1;34m\u001b[0m\n\u001b[1;32m----> 1\u001b[1;33m \u001b[0mX_scores\u001b[0m \u001b[1;33m=\u001b[0m \u001b[0mclf\u001b[0m\u001b[1;33m.\u001b[0m\u001b[0mnegative_outlier_factor_\u001b[0m\u001b[1;33m\u001b[0m\u001b[1;33m\u001b[0m\u001b[0m\n\u001b[0m",
      "\u001b[1;31mNameError\u001b[0m: name 'clf' is not defined"
     ]
    }
   ],
   "source": [
    "X_scores = clf.negative_outlier_factor_"
   ]
  },
  {
   "cell_type": "code",
   "execution_count": null,
   "metadata": {},
   "outputs": [],
   "source": [
    "X_scores"
   ]
  },
  {
   "cell_type": "code",
   "execution_count": null,
   "metadata": {},
   "outputs": [],
   "source": [
    "x1 = np.arange(min(X_scores), max(X_scores)+0.01, 0.01)\n",
    "y1 = np.arange(min(X_scores), max(X_scores)+0.01, 0.01)\n",
    "z1 = np.arange(min(X_scores), max(X_scores)+0.01, 0.01)\n",
    "\n",
    "for i in range(0, len(x1)):\n",
    "    y_pred = ((X_scores) < x1[i]).astype(int)\n",
    "    y1[i] = accuracy_score(y, y_pred)\n",
    "    z1[i] = f1_score(y, y_pred)"
   ]
  },
  {
   "cell_type": "code",
   "execution_count": null,
   "metadata": {},
   "outputs": [],
   "source": [
    "ax = plt.subplot(111)\n",
    "\n",
    "ax.plot(x1, y1, label='acc')\n",
    "ax.plot(x1, z1, label='f1')\n",
    "\n",
    "ax.set(xlabel='proba', ylabel='score', title='Isolation Forest')\n",
    "ax.legend(loc='upper left')\n",
    "ax.grid()"
   ]
  },
  {
   "cell_type": "markdown",
   "metadata": {},
   "source": [
    "# xgboost"
   ]
  },
  {
   "cell_type": "code",
   "execution_count": 28,
   "metadata": {},
   "outputs": [],
   "source": [
    "import xgboost as xgb\n",
    "from xgboost.sklearn import XGBClassifier"
   ]
  },
  {
   "cell_type": "code",
   "execution_count": 29,
   "metadata": {},
   "outputs": [],
   "source": [
    "from sklearn.model_selection import train_test_split\n",
    "x_train, x_test, y_train, y_test = train_test_split(x, y, test_size=0.3)"
   ]
  },
  {
   "cell_type": "code",
   "execution_count": 30,
   "metadata": {},
   "outputs": [],
   "source": [
    "xgb_model = xgb.XGBClassifier(n_estimators=1000,\n",
    "                        n_jobs=6,\n",
    "                        max_depth=5,\n",
    "                        learning_rate=0.1,\n",
    "                        gamma = 0,\n",
    "                        subsample = 0.8,\n",
    "                        scale_pos_weight = 1,\n",
    "                        min_child_weight=1,\n",
    "                        colsample_bytree=0.8,\n",
    "                        objective= 'binary:logistic',\n",
    "                        nthread=4,\n",
    "                        missing=-999,\n",
    "                        seed=27,\n",
    "                        tree_method='gpu_hist')"
   ]
  },
  {
   "cell_type": "code",
   "execution_count": 31,
   "metadata": {},
   "outputs": [
    {
     "data": {
      "text/plain": [
       "XGBClassifier(base_score=0.5, booster='gbtree', colsample_bylevel=1,\n",
       "              colsample_bynode=1, colsample_bytree=0.8, gamma=0,\n",
       "              learning_rate=0.1, max_delta_step=0, max_depth=5,\n",
       "              min_child_weight=1, missing=-999, n_estimators=1000, n_jobs=6,\n",
       "              nthread=4, objective='binary:logistic', random_state=0,\n",
       "              reg_alpha=0, reg_lambda=1, scale_pos_weight=1, seed=27,\n",
       "              silent=None, subsample=0.8, tree_method='gpu_hist', verbosity=1)"
      ]
     },
     "execution_count": 31,
     "metadata": {},
     "output_type": "execute_result"
    }
   ],
   "source": [
    "xgb_model.fit(x_train,y_train)"
   ]
  },
  {
   "cell_type": "code",
   "execution_count": 32,
   "metadata": {},
   "outputs": [],
   "source": [
    "prediction = xgb_model.predict(x_test)"
   ]
  },
  {
   "cell_type": "code",
   "execution_count": 29,
   "metadata": {},
   "outputs": [
    {
     "data": {
      "text/plain": [
       "0.8328611898016997"
      ]
     },
     "execution_count": 29,
     "metadata": {},
     "output_type": "execute_result"
    }
   ],
   "source": [
    "from sklearn.metrics import accuracy_score, f1_score\n",
    "f1_score(y_test, prediction)"
   ]
  },
  {
   "cell_type": "code",
   "execution_count": 33,
   "metadata": {},
   "outputs": [
    {
     "data": {
      "text/plain": [
       "array([2.8629379e-02, 1.6886234e-02, 1.2786556e-03, 6.2233146e-02,\n",
       "       2.7592054e-02, 1.9049717e-02, 4.2327367e-02, 1.2700224e-01,\n",
       "       9.3459077e-02, 2.2861008e-02, 5.2357871e-02, 2.1795874e-02,\n",
       "       1.4262404e-05, 1.5159355e-02, 4.7373783e-04, 2.2787312e-02,\n",
       "       1.6814567e-02, 1.3175764e-02, 1.9455444e-02, 1.9317560e-02,\n",
       "       4.1164793e-02, 1.5578516e-01, 3.5965491e-02, 2.5396399e-02,\n",
       "       0.0000000e+00, 2.1855056e-02, 1.6967380e-02, 1.5763965e-02,\n",
       "       2.9299775e-02, 1.7111290e-02, 1.8020056e-02], dtype=float32)"
      ]
     },
     "execution_count": 33,
     "metadata": {},
     "output_type": "execute_result"
    }
   ],
   "source": [
    "xgb_model.feature_importances_"
   ]
  },
  {
   "cell_type": "code",
   "execution_count": 31,
   "metadata": {},
   "outputs": [
    {
     "data": {
      "text/plain": [
       "<BarContainer object of 33 artists>"
      ]
     },
     "execution_count": 31,
     "metadata": {},
     "output_type": "execute_result"
    },
    {
     "data": {
      "image/png": "[encoded data removed]",
      "text/plain": [
       "<Figure size 432x288 with 1 Axes>"
      ]
     },
     "metadata": {
      "needs_background": "light"
     },
     "output_type": "display_data"
    }
   ],
   "source": [
    "plt.bar(range(len(xgb_model.feature_importances_)), xgb_model.feature_importances_)"
   ]
  },
  {
   "cell_type": "code",
   "execution_count": 32,
   "metadata": {},
   "outputs": [
    {
     "data": {
      "image/png": "[encoded data removed]",
      "text/plain": [
       "<Figure size 432x288 with 1 Axes>"
      ]
     },
     "metadata": {
      "needs_background": "light"
     },
     "output_type": "display_data"
    }
   ],
   "source": [
    "from xgboost import plot_importance\n",
    "from matplotlib import pyplot\n",
    "\n",
    "plot_importance(xgb_model)\n",
    "pyplot.show()"
   ]
  },
  {
   "cell_type": "code",
   "execution_count": 33,
   "metadata": {},
   "outputs": [
    {
     "name": "stdout",
     "output_type": "stream",
     "text": [
      "Accuracy: 97.57%\n",
      "Thresh=0.011, n=33, Accuracy: 97.24%, f1: 80.91%\n",
      "Thresh=0.013, n=32, Accuracy: 97.24%, f1: 80.80%\n",
      "Thresh=0.014, n=31, Accuracy: 97.12%, f1: 80.11%\n",
      "Thresh=0.014, n=30, Accuracy: 97.12%, f1: 80.11%\n",
      "Thresh=0.014, n=29, Accuracy: 97.12%, f1: 80.11%\n",
      "Thresh=0.014, n=28, Accuracy: 97.16%, f1: 80.34%\n",
      "Thresh=0.014, n=27, Accuracy: 97.16%, f1: 80.34%\n",
      "Thresh=0.014, n=26, Accuracy: 97.12%, f1: 80.11%\n",
      "Thresh=0.015, n=25, Accuracy: 97.28%, f1: 81.14%\n",
      "Thresh=0.015, n=24, Accuracy: 97.08%, f1: 79.89%\n",
      "Thresh=0.016, n=23, Accuracy: 97.20%, f1: 80.57%\n",
      "Thresh=0.018, n=22, Accuracy: 97.24%, f1: 80.80%\n",
      "Thresh=0.019, n=21, Accuracy: 97.37%, f1: 81.50%\n",
      "Thresh=0.019, n=20, Accuracy: 97.28%, f1: 81.14%\n",
      "Thresh=0.020, n=19, Accuracy: 97.28%, f1: 81.14%\n",
      "Thresh=0.020, n=18, Accuracy: 97.16%, f1: 80.34%\n",
      "Thresh=0.020, n=17, Accuracy: 97.37%, f1: 81.61%\n",
      "Thresh=0.022, n=16, Accuracy: 97.28%, f1: 81.14%\n",
      "Thresh=0.023, n=15, Accuracy: 97.16%, f1: 80.34%\n",
      "Thresh=0.023, n=14, Accuracy: 97.16%, f1: 80.34%\n",
      "Thresh=0.025, n=13, Accuracy: 97.12%, f1: 80.34%\n",
      "Thresh=0.028, n=12, Accuracy: 97.20%, f1: 80.68%\n",
      "Thresh=0.031, n=11, Accuracy: 97.24%, f1: 81.13%\n",
      "Thresh=0.032, n=10, Accuracy: 97.24%, f1: 81.13%\n",
      "Thresh=0.038, n=9, Accuracy: 97.24%, f1: 80.91%\n",
      "Thresh=0.039, n=8, Accuracy: 97.08%, f1: 80.00%\n",
      "Thresh=0.041, n=7, Accuracy: 96.79%, f1: 78.09%\n",
      "Thresh=0.044, n=6, Accuracy: 96.67%, f1: 77.31%\n",
      "Thresh=0.045, n=5, Accuracy: 96.67%, f1: 77.31%\n",
      "Thresh=0.060, n=4, Accuracy: 96.67%, f1: 77.18%\n",
      "Thresh=0.066, n=3, Accuracy: 95.97%, f1: 72.00%\n",
      "Thresh=0.067, n=2, Accuracy: 93.99%, f1: 54.38%\n",
      "Thresh=0.146, n=1, Accuracy: 93.09%, f1: 36.36%\n"
     ]
    }
   ],
   "source": [
    "from numpy import sort\n",
    "from sklearn.feature_selection import SelectFromModel\n",
    "\n",
    "# make predictions for test data and evaluate\n",
    "y_pred = xgb_model.predict(x_test)\n",
    "predictions = [round(value) for value in y_pred]\n",
    "accuracy = accuracy_score(y_test, predictions)\n",
    "print(\"Accuracy: %.2f%%\" % (accuracy * 100.0))\n",
    "# Fit model using each importance as a threshold\n",
    "thresholds = sort(xgb_model.feature_importances_)\n",
    "for thresh in thresholds:\n",
    "\t# select features using threshold\n",
    "\tselection = SelectFromModel(xgb_model, threshold=thresh, prefit=True)\n",
    "\tselect_X_train = selection.transform(x_train)\n",
    "\t# train model\n",
    "\tselection_model = xgb.XGBClassifier()\n",
    "\tselection_model.fit(select_X_train, y_train)\n",
    "\t# eval model\n",
    "\tselect_X_test = selection.transform(x_test)\n",
    "\ty_pred = selection_model.predict(select_X_test)\n",
    "\tpredictions = [round(value) for value in y_pred]\n",
    "\taccuracy = accuracy_score(y_test, predictions)\n",
    "\tf1 = f1_score(y_test, predictions)\n",
    "\tprint(\"Thresh=%.3f, n=%d, Accuracy: %.2f%%, f1: %.2f%%\" % (thresh, select_X_train.shape[1], accuracy*100.0, f1*100.0))"
   ]
  },
  {
   "cell_type": "markdown",
   "metadata": {},
   "source": [
    "## Grid Search"
   ]
  },
  {
   "cell_type": "code",
   "execution_count": 8,
   "metadata": {},
   "outputs": [],
   "source": [
    "from sklearn.model_selection import RandomizedSearchCV\n",
    "from sklearn.model_selection import GridSearchCV"
   ]
  },
  {
   "cell_type": "code",
   "execution_count": 57,
   "metadata": {},
   "outputs": [
    {
     "name": "stdout",
     "output_type": "stream",
     "text": [
      "{'min_child_weight': [3], 'max_depth': [8], 'gamma': [0], 'subsample': [0.8], 'colsample_bytree': [0.7], 'reg_alpha': [0.3]}\n"
     ]
    }
   ],
   "source": [
    "max_depth = [8]\n",
    "min_child_weight = [3]\n",
    "gamma = [0]\n",
    "subsample = [0.8]\n",
    "colsample_bytree = [0.7]\n",
    "reg_alpha = [0.3]\n",
    "\n",
    "random_grid = {'min_child_weight': min_child_weight,\n",
    "               'max_depth': max_depth,\n",
    "               'gamma': gamma,\n",
    "               'subsample': subsample,\n",
    "               'colsample_bytree': colsample_bytree,\n",
    "               'reg_alpha': reg_alpha}\n",
    "print(random_grid)"
   ]
  },
  {
   "cell_type": "code",
   "execution_count": 14,
   "metadata": {},
   "outputs": [
    {
     "data": {
      "text/plain": [
       "Parallel(n_jobs=1)"
      ]
     },
     "execution_count": 14,
     "metadata": {},
     "output_type": "execute_result"
    }
   ],
   "source": [
    "from joblib import Parallel\n",
    "Parallel(max_nbytes=None)"
   ]
  },
  {
   "cell_type": "code",
   "execution_count": 58,
   "metadata": {},
   "outputs": [
    {
     "data": {
      "text/plain": [
       "XGBClassifier(base_score=0.5, booster='gbtree', colsample_bylevel=1,\n",
       "              colsample_bynode=1, colsample_bytree=0.8, gamma=0,\n",
       "              learning_rate=0.1, max_delta_step=0, max_depth=3,\n",
       "              min_child_weight=1, missing=-999, n_estimators=1000, n_jobs=6,\n",
       "              nthread=4, objective='binary:logistic', random_state=0,\n",
       "              reg_alpha=0, reg_lambda=1, scale_pos_weight=1, seed=27,\n",
       "              silent=None, subsample=0.8, tree_method='gpu_hist', verbosity=1)"
      ]
     },
     "execution_count": 58,
     "metadata": {},
     "output_type": "execute_result"
    }
   ],
   "source": [
    "# Use the random grid to search for best hyperparameters\n",
    "# First create the base model to tune\n",
    "xgb_model = xgb.XGBClassifier(n_estimators=1000,\n",
    "                        n_jobs=6,\n",
    "                        learning_rate=0.1,\n",
    "                        gamma = 0,\n",
    "                        subsample = 0.8,\n",
    "                        scale_pos_weight = 1,\n",
    "                        colsample_bytree=0.8,\n",
    "                        objective= 'binary:logistic',\n",
    "                        nthread=4,\n",
    "                        missing=-999,\n",
    "                        seed=27,\n",
    "                        tree_method='gpu_hist')\n",
    "# Random search of parameters, using 3 fold cross validation, \n",
    "# search across 100 different combinations, and use all available cores\n",
    "xgb_grid =  GridSearchCV(xgb_model, param_grid =  random_grid, scoring ='f1', cv = 3, n_jobs = 2)\n",
    "# Fit the random search model\n",
    "xgb_model.fit(x_train, y_train)"
   ]
  },
  {
   "cell_type": "code",
   "execution_count": 59,
   "metadata": {},
   "outputs": [
    {
     "ename": "AttributeError",
     "evalue": "'GridSearchCV' object has no attribute 'best_params_'",
     "output_type": "error",
     "traceback": [
      "\u001b[1;31m---------------------------------------------------------------------------\u001b[0m",
      "\u001b[1;31mAttributeError\u001b[0m                            Traceback (most recent call last)",
      "\u001b[1;32m<ipython-input-59-9cc44bb8c3b9>\u001b[0m in \u001b[0;36m<module>\u001b[1;34m\u001b[0m\n\u001b[1;32m----> 1\u001b[1;33m \u001b[0mxgb_grid\u001b[0m\u001b[1;33m.\u001b[0m\u001b[0mbest_params_\u001b[0m\u001b[1;33m\u001b[0m\u001b[1;33m\u001b[0m\u001b[0m\n\u001b[0m",
      "\u001b[1;31mAttributeError\u001b[0m: 'GridSearchCV' object has no attribute 'best_params_'"
     ]
    }
   ],
   "source": [
    "xgb_grid.best_params_"
   ]
  },
  {
   "cell_type": "code",
   "execution_count": 38,
   "metadata": {},
   "outputs": [
    {
     "data": {
      "text/plain": [
       "XGBClassifier(base_score=0.5, booster='gbtree', colsample_bylevel=1,\n",
       "              colsample_bynode=1, colsample_bytree=0.7, gamma=0,\n",
       "              learning_rate=0.1, max_delta_step=0, max_depth=3,\n",
       "              min_child_weight=3, missing=-999, n_estimators=1000, n_jobs=6,\n",
       "              nthread=4, objective='binary:logistic', random_state=0,\n",
       "              reg_alpha=0.3, reg_lambda=1, scale_pos_weight=1, seed=27,\n",
       "              silent=None, subsample=0.8, tree_method='gpu_hist', verbosity=1)"
      ]
     },
     "execution_count": 38,
     "metadata": {},
     "output_type": "execute_result"
    }
   ],
   "source": [
    "xgb_model = xgb.XGBClassifier(n_estimators=1000,\n",
    "                        n_jobs=6,\n",
    "                        learning_rate=0.1,\n",
    "                        gamma = 0,\n",
    "                        subsample = 0.8,\n",
    "                        scale_pos_weight = 1,\n",
    "                        colsample_bytree=0.7,\n",
    "                        objective= 'binary:logistic',\n",
    "                        nthread=4,\n",
    "                        missing=-999,\n",
    "                        seed=27,\n",
    "                        min_child_weight=3,\n",
    "                        reg_alpha=0.3,\n",
    "                        tree_method='gpu_hist')\n",
    "xgb_model.fit(x_train, y_train)"
   ]
  },
  {
   "cell_type": "code",
   "execution_count": 60,
   "metadata": {},
   "outputs": [],
   "source": [
    "proba_xgb = xgb_model.predict_proba(x_test)[:,1]"
   ]
  },
  {
   "cell_type": "markdown",
   "metadata": {},
   "source": [
    "## proba manipulation"
   ]
  },
  {
   "cell_type": "code",
   "execution_count": 61,
   "metadata": {},
   "outputs": [],
   "source": [
    "x1 = np.arange(0, 1.01, 0.01)\n",
    "y1 = np.arange(0, 1.01, 0.01)\n",
    "z1 = np.arange(0, 1.01, 0.01)\n",
    "\n",
    "from sklearn.metrics import accuracy_score, f1_score\n",
    "\n",
    "for i in np.arange(0, 1.01, 0.01):\n",
    "    y_pred = ((proba_xgb) > i).astype(int)\n",
    "    y1[int(i*100)] = accuracy_score(y_test, y_pred)\n",
    "    z1[int(i*100)] = f1_score(y_test, y_pred)"
   ]
  },
  {
   "cell_type": "code",
   "execution_count": 62,
   "metadata": {},
   "outputs": [
    {
     "data": {
      "image/png": "[encoded data removed]",
      "text/plain": [
       "<Figure size 432x288 with 1 Axes>"
      ]
     },
     "metadata": {
      "needs_background": "light"
     },
     "output_type": "display_data"
    }
   ],
   "source": [
    "ax = plt.subplot(111)\n",
    "\n",
    "ax.plot(x1, y1, label='acc')\n",
    "ax.plot(x1, z1, label='f1')\n",
    "\n",
    "ax.set(xlabel='proba', ylabel='score', title='xgb_boost')\n",
    "ax.legend(loc='upper left')\n",
    "ax.grid()"
   ]
  },
  {
   "cell_type": "code",
   "execution_count": 63,
   "metadata": {},
   "outputs": [
    {
     "data": {
      "text/plain": [
       "0.8461538461538461"
      ]
     },
     "execution_count": 63,
     "metadata": {},
     "output_type": "execute_result"
    }
   ],
   "source": [
    "max(z1)"
   ]
  },
  {
   "cell_type": "code",
   "execution_count": 34,
   "metadata": {},
   "outputs": [
    {
     "data": {
      "text/plain": [
       "XGBClassifier(base_score=0.5, booster='gbtree', colsample_bylevel=1,\n",
       "              colsample_bynode=1, colsample_bytree=0.7, gamma=0,\n",
       "              learning_rate=0.01, max_delta_step=0, max_depth=3,\n",
       "              min_child_weight=3, missing=-999, n_estimators=5000, n_jobs=6,\n",
       "              nthread=4, objective='binary:logistic', random_state=0,\n",
       "              reg_alpha=0.3, reg_lambda=1, scale_pos_weight=1, seed=27,\n",
       "              silent=None, subsample=0.8, tree_method='gpu_hist', verbosity=1)"
      ]
     },
     "execution_count": 34,
     "metadata": {},
     "output_type": "execute_result"
    }
   ],
   "source": [
    "xgb_model = xgb.XGBClassifier(n_estimators=5000,\n",
    "                        n_jobs=6,\n",
    "                        learning_rate=0.01,\n",
    "                        gamma = 0,\n",
    "                        subsample = 0.8,\n",
    "                        scale_pos_weight = 1,\n",
    "                        colsample_bytree=0.7,\n",
    "                        objective= 'binary:logistic',\n",
    "                        nthread=4,\n",
    "                        missing=-999,\n",
    "                        seed=27,\n",
    "                        min_child_weight=3,\n",
    "                        reg_alpha=0.3,\n",
    "                        tree_method='gpu_hist')\n",
    "xgb_model.fit(x_train, y_train)"
   ]
  },
  {
   "cell_type": "code",
   "execution_count": 35,
   "metadata": {},
   "outputs": [],
   "source": [
    "proba_xgb = xgb_model.predict_proba(x_test)[:,1]"
   ]
  },
  {
   "cell_type": "code",
   "execution_count": 36,
   "metadata": {},
   "outputs": [],
   "source": [
    "x1 = np.arange(0, 1.01, 0.01)\n",
    "y1 = np.arange(0, 1.01, 0.01)\n",
    "z1 = np.arange(0, 1.01, 0.01)\n",
    "\n",
    "from sklearn.metrics import accuracy_score, f1_score\n",
    "\n",
    "for i in np.arange(0, 1.01, 0.01):\n",
    "    y_pred = ((proba_xgb) > i).astype(int)\n",
    "    y1[int(i*100)] = accuracy_score(y_test, y_pred)\n",
    "    z1[int(i*100)] = f1_score(y_test, y_pred)"
   ]
  },
  {
   "cell_type": "code",
   "execution_count": 37,
   "metadata": {},
   "outputs": [
    {
     "data": {
      "image/png": "[encoded data removed]",
      "text/plain": [
       "<Figure size 432x288 with 1 Axes>"
      ]
     },
     "metadata": {
      "needs_background": "light"
     },
     "output_type": "display_data"
    }
   ],
   "source": [
    "ax = plt.subplot(111)\n",
    "\n",
    "ax.plot(x1, y1, label='acc')\n",
    "ax.plot(x1, z1, label='f1')\n",
    "\n",
    "ax.set(xlabel='proba', ylabel='score', title='xgb_boost')\n",
    "ax.legend(loc='upper left')\n",
    "ax.grid()"
   ]
  },
  {
   "cell_type": "code",
   "execution_count": 38,
   "metadata": {},
   "outputs": [
    {
     "data": {
      "text/plain": [
       "0.8501529051987767"
      ]
     },
     "execution_count": 38,
     "metadata": {},
     "output_type": "execute_result"
    }
   ],
   "source": [
    "max(z1)"
   ]
  },
  {
   "cell_type": "code",
   "execution_count": 17,
   "metadata": {},
   "outputs": [
    {
     "data": {
      "text/plain": [
       "0.9753086419753086"
      ]
     },
     "execution_count": 17,
     "metadata": {},
     "output_type": "execute_result"
    }
   ],
   "source": [
    "max(y1)"
   ]
  },
  {
   "cell_type": "code",
   "execution_count": 49,
   "metadata": {},
   "outputs": [
    {
     "data": {
      "text/plain": [
       "array([0.1457459 , 0.46133683, 0.56260163, 0.61538462, 0.6628131 ,\n",
       "       0.69076305, 0.71548117, 0.72844828, 0.73799127, 0.74501109,\n",
       "       0.75170843, 0.76388889, 0.76923077, 0.77725118, 0.78657074,\n",
       "       0.78832117, 0.7902439 , 0.79802956, 0.8019802 , 0.79800499,\n",
       "       0.8040201 , 0.81012658, 0.81218274, 0.81218274, 0.81424936,\n",
       "       0.81329923, 0.8134715 , 0.8134715 , 0.81984334, 0.29      ,\n",
       "       0.81675393, 0.81675393, 0.82228117, 0.82228117, 0.81283422,\n",
       "       0.80965147, 0.81182796, 0.81182796, 0.81081081, 0.80978261,\n",
       "       0.80991736, 0.80991736, 0.81440443, 0.81666667, 0.8189415 ,\n",
       "       0.82352941, 0.82352941, 0.82485876, 0.82386364, 0.82386364,\n",
       "       0.82051282, 0.82051282, 0.82051282, 0.82051282, 0.82285714,\n",
       "       0.8252149 , 0.8252149 , 0.82318841, 0.58      , 0.82318841,\n",
       "       0.82318841, 0.82318841, 0.82318841, 0.82798834, 0.8245614 ,\n",
       "       0.82111437, 0.820059  , 0.820059  , 0.820059  , 0.820059  ,\n",
       "       0.820059  , 0.8189911 , 0.8189911 , 0.81791045, 0.82035928,\n",
       "       0.82035928, 0.82035928, 0.82282282, 0.82066869, 0.82066869,\n",
       "       0.81707317, 0.81707317, 0.80981595, 0.80615385, 0.79876161,\n",
       "       0.79750779, 0.78996865, 0.77070064, 0.76677316, 0.76282051,\n",
       "       0.75324675, 0.72847682, 0.72      , 0.7027027 , 0.69830508,\n",
       "       0.67586207, 0.63829787, 0.58823529, 0.49411765, 0.36752137,\n",
       "       0.        ])"
      ]
     },
     "execution_count": 49,
     "metadata": {},
     "output_type": "execute_result"
    }
   ],
   "source": [
    "z1"
   ]
  },
  {
   "cell_type": "markdown",
   "metadata": {},
   "source": [
    "## proba manipulation 3"
   ]
  },
  {
   "cell_type": "code",
   "execution_count": 18,
   "metadata": {},
   "outputs": [
    {
     "data": {
      "text/plain": [
       "XGBClassifier(base_score=0.5, booster='gbtree', colsample_bylevel=1,\n",
       "              colsample_bynode=1, colsample_bytree=0.7, gamma=0,\n",
       "              learning_rate=0.001, max_delta_step=0, max_depth=3,\n",
       "              min_child_weight=3, missing=-999, n_estimators=10000, n_jobs=6,\n",
       "              nthread=4, objective='binary:logistic', random_state=0,\n",
       "              reg_alpha=0.3, reg_lambda=1, scale_pos_weight=1, seed=27,\n",
       "              silent=None, subsample=0.8, tree_method='gpu_hist', verbosity=1)"
      ]
     },
     "execution_count": 18,
     "metadata": {},
     "output_type": "execute_result"
    }
   ],
   "source": [
    "xgb_model = xgb.XGBClassifier(n_estimators=10000,\n",
    "                        n_jobs=6,\n",
    "                        learning_rate=0.001,\n",
    "                        gamma = 0,\n",
    "                        subsample = 0.8,\n",
    "                        scale_pos_weight = 1,\n",
    "                        colsample_bytree=0.7,\n",
    "                        objective= 'binary:logistic',\n",
    "                        nthread=4,\n",
    "                        missing=-999,\n",
    "                        seed=27,\n",
    "                        min_child_weight=3,\n",
    "                        reg_alpha=0.3,\n",
    "                        tree_method='gpu_hist')\n",
    "xgb_model.fit(x_train, y_train)"
   ]
  },
  {
   "cell_type": "code",
   "execution_count": 19,
   "metadata": {},
   "outputs": [],
   "source": [
    "proba_xgb = xgb_model.predict_proba(x_test)[:,1]"
   ]
  },
  {
   "cell_type": "code",
   "execution_count": 20,
   "metadata": {},
   "outputs": [],
   "source": [
    "x1 = np.arange(0, 1.01, 0.01)\n",
    "y1 = np.arange(0, 1.01, 0.01)\n",
    "z1 = np.arange(0, 1.01, 0.01)\n",
    "\n",
    "from sklearn.metrics import accuracy_score, f1_score\n",
    "\n",
    "for i in np.arange(0, 1.01, 0.01):\n",
    "    y_pred = ((proba_xgb) > i).astype(int)\n",
    "    y1[int(i*100)] = accuracy_score(y_test, y_pred)\n",
    "    z1[int(i*100)] = f1_score(y_test, y_pred)"
   ]
  },
  {
   "cell_type": "code",
   "execution_count": 21,
   "metadata": {},
   "outputs": [
    {
     "data": {
      "image/png": "[encoded data removed]",
      "text/plain": [
       "<Figure size 432x288 with 1 Axes>"
      ]
     },
     "metadata": {
      "needs_background": "light"
     },
     "output_type": "display_data"
    }
   ],
   "source": [
    "ax = plt.subplot(111)\n",
    "\n",
    "ax.plot(x1, y1, label='acc')\n",
    "ax.plot(x1, z1, label='f1')\n",
    "\n",
    "ax.set(xlabel='proba', ylabel='score', title='xgb_boost')\n",
    "ax.legend(loc='upper left')\n",
    "ax.grid()"
   ]
  },
  {
   "cell_type": "code",
   "execution_count": 22,
   "metadata": {},
   "outputs": [
    {
     "data": {
      "text/plain": [
       "array([0.12788906, 0.25811823, 0.4       , 0.48465267, 0.54511971,\n",
       "       0.5915493 , 0.6125    , 0.63876652, 0.66357309, 0.68257757,\n",
       "       0.6977887 , 0.705     , 0.71794872, 0.73350923, 0.74331551,\n",
       "       0.74796748, 0.75616438, 0.75900277, 0.76536313, 0.77840909,\n",
       "       0.78285714, 0.78285714, 0.78034682, 0.7826087 , 0.78488372,\n",
       "       0.78947368, 0.78823529, 0.79289941, 0.79518072, 0.29      ,\n",
       "       0.79027356, 0.78899083, 0.79384615, 0.79256966, 0.79245283,\n",
       "       0.78730159, 0.78343949, 0.78846154, 0.77669903, 0.77777778,\n",
       "       0.77887789, 0.78145695, 0.78145695, 0.77591973, 0.77852349,\n",
       "       0.78378378, 0.78378378, 0.78644068, 0.78644068, 0.778157  ,\n",
       "       0.778157  , 0.778157  , 0.778157  , 0.78082192, 0.78350515,\n",
       "       0.77931034, 0.77508651, 0.77351916, 0.58      , 0.77192982,\n",
       "       0.77192982, 0.77192982, 0.77192982, 0.77192982, 0.77192982,\n",
       "       0.77192982, 0.77031802, 0.76868327, 0.75985663, 0.76534296,\n",
       "       0.76086957, 0.75182482, 0.75182482, 0.73333333, 0.73333333,\n",
       "       0.72659176, 0.72180451, 0.70722433, 0.70722433, 0.70229008,\n",
       "       0.69731801, 0.68725869, 0.66666667, 0.65873016, 0.64257028,\n",
       "       0.62601626, 0.6147541 , 0.59663866, 0.56652361, 0.54148472,\n",
       "       0.51555556, 0.48868778, 0.4537037 , 0.42654028, 0.41148325,\n",
       "       0.36453202, 0.27979275, 0.09195402, 0.01197605, 0.        ,\n",
       "       0.        ])"
      ]
     },
     "execution_count": 22,
     "metadata": {},
     "output_type": "execute_result"
    }
   ],
   "source": [
    "z1"
   ]
  },
  {
   "cell_type": "markdown",
   "metadata": {},
   "source": [
    "# creating labels for submission"
   ]
  },
  {
   "cell_type": "code",
   "execution_count": 24,
   "metadata": {},
   "outputs": [
    {
     "ename": "NameError",
     "evalue": "name 'x' is not defined",
     "output_type": "error",
     "traceback": [
      "\u001b[1;31m---------------------------------------------------------------------------\u001b[0m",
      "\u001b[1;31mNameError\u001b[0m                                 Traceback (most recent call last)",
      "\u001b[1;32m<ipython-input-24-561cf06d3dae>\u001b[0m in \u001b[0;36m<module>\u001b[1;34m\u001b[0m\n\u001b[0;32m     13\u001b[0m                         \u001b[0mreg_alpha\u001b[0m\u001b[1;33m=\u001b[0m\u001b[1;36m0.3\u001b[0m\u001b[1;33m,\u001b[0m\u001b[1;33m\u001b[0m\u001b[1;33m\u001b[0m\u001b[0m\n\u001b[0;32m     14\u001b[0m                         tree_method='gpu_hist')\n\u001b[1;32m---> 15\u001b[1;33m \u001b[0mxgb_model\u001b[0m\u001b[1;33m.\u001b[0m\u001b[0mfit\u001b[0m\u001b[1;33m(\u001b[0m\u001b[0mx\u001b[0m\u001b[1;33m,\u001b[0m \u001b[0my\u001b[0m\u001b[1;33m)\u001b[0m\u001b[1;33m\u001b[0m\u001b[1;33m\u001b[0m\u001b[0m\n\u001b[0m",
      "\u001b[1;31mNameError\u001b[0m: name 'x' is not defined"
     ]
    }
   ],
   "source": [
    "xgb_model = xgb.XGBClassifier(n_estimators=5000,\n",
    "                        n_jobs=6,\n",
    "                        learning_rate=0.01,\n",
    "                        gamma = 0,\n",
    "                        subsample = 0.8,\n",
    "                        scale_pos_weight = 1,\n",
    "                        colsample_bytree=0.7,\n",
    "                        objective= 'binary:logistic',\n",
    "                        nthread=4,\n",
    "                        missing=-999,\n",
    "                        seed=27,\n",
    "                        min_child_weight=3,\n",
    "                        reg_alpha=0.3,\n",
    "                        tree_method='gpu_hist')\n",
    "xgb_model.fit(x, y)"
   ]
  },
  {
   "cell_type": "code",
   "execution_count": null,
   "metadata": {},
   "outputs": [],
   "source": [
    "test = pd.read_csv('dataset_for_creating_labels_for_submission.csv', index_col = 'Unnamed: 0')\n",
    "test_data = test.copy()"
   ]
  },
  {
   "cell_type": "code",
   "execution_count": 25,
   "metadata": {},
   "outputs": [],
   "source": [
    "accounts = pd.read_csv('test_accounts.csv')"
   ]
  },
  {
   "cell_type": "code",
   "execution_count": 26,
   "metadata": {},
   "outputs": [
    {
     "ename": "NameError",
     "evalue": "name 'test_data' is not defined",
     "output_type": "error",
     "traceback": [
      "\u001b[1;31m---------------------------------------------------------------------------\u001b[0m",
      "\u001b[1;31mNameError\u001b[0m                                 Traceback (most recent call last)",
      "\u001b[1;32m<ipython-input-26-975eca717651>\u001b[0m in \u001b[0;36m<module>\u001b[1;34m\u001b[0m\n\u001b[1;32m----> 1\u001b[1;33m \u001b[0mtest_accounts\u001b[0m \u001b[1;33m=\u001b[0m \u001b[0mpd\u001b[0m\u001b[1;33m.\u001b[0m\u001b[0mmerge\u001b[0m\u001b[1;33m(\u001b[0m\u001b[0maccounts\u001b[0m\u001b[1;33m,\u001b[0m \u001b[0mtest_data\u001b[0m\u001b[1;33m,\u001b[0m \u001b[0mhow\u001b[0m\u001b[1;33m=\u001b[0m\u001b[1;34m'inner'\u001b[0m\u001b[1;33m,\u001b[0m \u001b[0mon\u001b[0m \u001b[1;33m=\u001b[0m \u001b[1;34m\"account\"\u001b[0m\u001b[1;33m)\u001b[0m\u001b[1;33m\u001b[0m\u001b[1;33m\u001b[0m\u001b[0m\n\u001b[0m",
      "\u001b[1;31mNameError\u001b[0m: name 'test_data' is not defined"
     ]
    }
   ],
   "source": [
    "test_accounts = pd.merge(accounts, test_data, how='inner', on = \"account\")"
   ]
  },
  {
   "cell_type": "code",
   "execution_count": null,
   "metadata": {},
   "outputs": [],
   "source": [
    "ts = test_accounts.copy()"
   ]
  },
  {
   "cell_type": "code",
   "execution_count": 27,
   "metadata": {},
   "outputs": [
    {
     "ename": "NameError",
     "evalue": "name 'ts' is not defined",
     "output_type": "error",
     "traceback": [
      "\u001b[1;31m---------------------------------------------------------------------------\u001b[0m",
      "\u001b[1;31mNameError\u001b[0m                                 Traceback (most recent call last)",
      "\u001b[1;32m<ipython-input-27-fc4bcd840a0b>\u001b[0m in \u001b[0;36m<module>\u001b[1;34m\u001b[0m\n\u001b[1;32m----> 1\u001b[1;33m \u001b[1;32mdel\u001b[0m \u001b[0mts\u001b[0m\u001b[1;33m[\u001b[0m\u001b[1;34m'account'\u001b[0m\u001b[1;33m]\u001b[0m\u001b[1;33m\u001b[0m\u001b[1;33m\u001b[0m\u001b[0m\n\u001b[0m",
      "\u001b[1;31mNameError\u001b[0m: name 'ts' is not defined"
     ]
    }
   ],
   "source": [
    "del ts['account']"
   ]
  },
  {
   "cell_type": "code",
   "execution_count": null,
   "metadata": {},
   "outputs": [],
   "source": [
    "accounts.head()"
   ]
  },
  {
   "cell_type": "code",
   "execution_count": null,
   "metadata": {},
   "outputs": [],
   "source": [
    "result = (xgb_model.predict_proba(ts)[:,1] > 0.41)"
   ]
  },
  {
   "cell_type": "code",
   "execution_count": 28,
   "metadata": {},
   "outputs": [
    {
     "ename": "NameError",
     "evalue": "name 'result' is not defined",
     "output_type": "error",
     "traceback": [
      "\u001b[1;31m---------------------------------------------------------------------------\u001b[0m",
      "\u001b[1;31mNameError\u001b[0m                                 Traceback (most recent call last)",
      "\u001b[1;32m<ipython-input-28-5e02495e3cb1>\u001b[0m in \u001b[0;36m<module>\u001b[1;34m\u001b[0m\n\u001b[1;32m----> 1\u001b[1;33m \u001b[0mresult\u001b[0m \u001b[1;33m=\u001b[0m \u001b[0mresult\u001b[0m\u001b[1;33m.\u001b[0m\u001b[0mastype\u001b[0m\u001b[1;33m(\u001b[0m\u001b[0mint\u001b[0m\u001b[1;33m)\u001b[0m\u001b[1;33m\u001b[0m\u001b[1;33m\u001b[0m\u001b[0m\n\u001b[0m",
      "\u001b[1;31mNameError\u001b[0m: name 'result' is not defined"
     ]
    }
   ],
   "source": [
    "result = result.astype(int)"
   ]
  },
  {
   "cell_type": "code",
   "execution_count": null,
   "metadata": {},
   "outputs": [],
   "source": [
    "result = pd.DataFrame(result)"
   ]
  },
  {
   "cell_type": "code",
   "execution_count": null,
   "metadata": {},
   "outputs": [],
   "source": [
    "result.to_csv('result.csv')"
   ]
  },
  {
   "cell_type": "code",
   "execution_count": null,
   "metadata": {},
   "outputs": [],
   "source": [
    "result"
   ]
  },
  {
   "cell_type": "code",
   "execution_count": 29,
   "metadata": {},
   "outputs": [
    {
     "ename": "NameError",
     "evalue": "name 'result' is not defined",
     "output_type": "error",
     "traceback": [
      "\u001b[1;31m---------------------------------------------------------------------------\u001b[0m",
      "\u001b[1;31mNameError\u001b[0m                                 Traceback (most recent call last)",
      "\u001b[1;32m<ipython-input-29-d3b1401ec490>\u001b[0m in \u001b[0;36m<module>\u001b[1;34m\u001b[0m\n\u001b[1;32m----> 1\u001b[1;33m \u001b[0mnp\u001b[0m\u001b[1;33m.\u001b[0m\u001b[0msum\u001b[0m\u001b[1;33m(\u001b[0m\u001b[0mresult\u001b[0m\u001b[1;33m)\u001b[0m\u001b[1;33m\u001b[0m\u001b[1;33m\u001b[0m\u001b[0m\n\u001b[0m",
      "\u001b[1;31mNameError\u001b[0m: name 'result' is not defined"
     ]
    }
   ],
   "source": [
    "np.sum(result)"
   ]
  }
 ],
 "metadata": {
  "kernelspec": {
   "display_name": "Python 3",
   "language": "python",
   "name": "python3"
  },
  "language_info": {
   "codemirror_mode": {
    "name": "ipython",
    "version": 3
   },
   "file_extension": ".py",
   "mimetype": "text/x-python",
   "name": "python",
   "nbconvert_exporter": "python",
   "pygments_lexer": "ipython3",
   "version": "3.7.3"
  }
 },
 "nbformat": 4,
 "nbformat_minor": 2
}
