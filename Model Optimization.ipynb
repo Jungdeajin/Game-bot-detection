{
 "cells": [
  {
   "cell_type": "code",
   "execution_count": 191,
   "metadata": {},
   "outputs": [],
   "source": [
    "import numpy as np\n",
    "import pandas as pd\n",
    "import matplotlib.pyplot as plt\n",
    "%matplotlib inline\n",
    "pd.set_option(\"max_columns\", 999)\n",
    "pd.set_option(\"max_rows\", 999)"
   ]
  },
  {
   "cell_type": "markdown",
   "metadata": {},
   "source": [
    "# Importing Data"
   ]
  },
  {
   "cell_type": "code",
   "execution_count": 5,
   "metadata": {},
   "outputs": [],
   "source": [
    "P_a_before = pd.read_csv(\"./data/(before) Player actions features.csv\")\n",
    "P_a_after = pd.read_csv(\"./data/(after) Player actions features.csv\")"
   ]
  },
  {
   "cell_type": "code",
   "execution_count": 40,
   "metadata": {},
   "outputs": [],
   "source": [
    "N_m_before = pd.read_csv(\"./data/(before) Network measures features.csv\")\n",
    "N_m_after = pd.read_csv(\"./data/(after) Network measures features.csv\")"
   ]
  },
  {
   "cell_type": "code",
   "execution_count": 42,
   "metadata": {},
   "outputs": [],
   "source": [
    "G_a_before = pd.read_csv(\"./data/(before) Group activities features.csv\")\n",
    "G_a_after = pd.read_csv(\"./data/(after) Group activities features.csv\")"
   ]
  },
  {
   "cell_type": "code",
   "execution_count": 43,
   "metadata": {},
   "outputs": [],
   "source": [
    "P_i_before = pd.read_csv(\"./data/(before) Player information features.csv\")\n",
    "P_i_after = pd.read_csv(\"./data/(after) Player information features.csv\")"
   ]
  },
  {
   "cell_type": "code",
   "execution_count": 44,
   "metadata": {},
   "outputs": [],
   "source": [
    "S_i_before = pd.read_csv(\"./data/(before) Social interaction diversity features.csv\")\n",
    "S_i_after = pd.read_csv(\"./data/(after) Social interaction diversity features.csv\")"
   ]
  },
  {
   "cell_type": "code",
   "execution_count": 36,
   "metadata": {},
   "outputs": [
    {
     "data": {
      "text/html": [
       "<div>\n",
       "<style scoped>\n",
       "    .dataframe tbody tr th:only-of-type {\n",
       "        vertical-align: middle;\n",
       "    }\n",
       "\n",
       "    .dataframe tbody tr th {\n",
       "        vertical-align: top;\n",
       "    }\n",
       "\n",
       "    .dataframe thead th {\n",
       "        text-align: right;\n",
       "    }\n",
       "</style>\n",
       "<table border=\"1\" class=\"dataframe\">\n",
       "  <thead>\n",
       "    <tr style=\"text-align: right;\">\n",
       "      <th></th>\n",
       "      <th>Actor</th>\n",
       "      <th>A_Acc</th>\n",
       "      <th>collect_max_count</th>\n",
       "      <th>Sit_ratio</th>\n",
       "      <th>Sit_count</th>\n",
       "      <th>sit_count_per_day</th>\n",
       "      <th>Exp_get_ratio</th>\n",
       "      <th>Exp_get_count</th>\n",
       "      <th>exp_get_count_per_day</th>\n",
       "      <th>Item_get_ratio</th>\n",
       "      <th>Item_get_count</th>\n",
       "      <th>item_get_count_per_day</th>\n",
       "      <th>Money_get_ratio</th>\n",
       "      <th>Money_get_count</th>\n",
       "      <th>money_get_count_per_day</th>\n",
       "      <th>Abyss_get_ratio</th>\n",
       "      <th>Abyss_get_count</th>\n",
       "      <th>abyss_get_count_per_day</th>\n",
       "      <th>Exp_repair_count</th>\n",
       "      <th>Exp_repair_count_per_day</th>\n",
       "      <th>Use_portal_count</th>\n",
       "      <th>Use_portal_count_per_day</th>\n",
       "      <th>Killed_bypc_count</th>\n",
       "      <th>Killed_bypc_count_per_day</th>\n",
       "      <th>Killed_bynpc_count</th>\n",
       "      <th>Killed_bynpc_count_per_day</th>\n",
       "      <th>Teleport_count</th>\n",
       "      <th>Teleport_count_per_day</th>\n",
       "      <th>Reborn_count</th>\n",
       "      <th>Reborn_count_per_day</th>\n",
       "      <th>Type</th>\n",
       "    </tr>\n",
       "  </thead>\n",
       "  <tbody>\n",
       "    <tr>\n",
       "      <th>0</th>\n",
       "      <td>1047</td>\n",
       "      <td>6482393</td>\n",
       "      <td>6</td>\n",
       "      <td>1.0430</td>\n",
       "      <td>1012</td>\n",
       "      <td>24.0952</td>\n",
       "      <td>15.5210</td>\n",
       "      <td>15060</td>\n",
       "      <td>358.5714</td>\n",
       "      <td>6.2847</td>\n",
       "      <td>6098</td>\n",
       "      <td>145.1905</td>\n",
       "      <td>10.2010</td>\n",
       "      <td>9898</td>\n",
       "      <td>235.666667</td>\n",
       "      <td>11.0636</td>\n",
       "      <td>10735</td>\n",
       "      <td>255.5952</td>\n",
       "      <td>66</td>\n",
       "      <td>1.5714</td>\n",
       "      <td>2</td>\n",
       "      <td>0.0476</td>\n",
       "      <td>690</td>\n",
       "      <td>16.4286</td>\n",
       "      <td>172</td>\n",
       "      <td>4.0952</td>\n",
       "      <td>1051</td>\n",
       "      <td>25.0238</td>\n",
       "      <td>2</td>\n",
       "      <td>0.0476</td>\n",
       "      <td>Human</td>\n",
       "    </tr>\n",
       "    <tr>\n",
       "      <th>1</th>\n",
       "      <td>1049</td>\n",
       "      <td>6275719</td>\n",
       "      <td>0</td>\n",
       "      <td>3.5570</td>\n",
       "      <td>141</td>\n",
       "      <td>8.8125</td>\n",
       "      <td>13.6226</td>\n",
       "      <td>540</td>\n",
       "      <td>33.7500</td>\n",
       "      <td>6.9122</td>\n",
       "      <td>274</td>\n",
       "      <td>17.1250</td>\n",
       "      <td>7.5429</td>\n",
       "      <td>299</td>\n",
       "      <td>18.687500</td>\n",
       "      <td>2.8507</td>\n",
       "      <td>113</td>\n",
       "      <td>7.0625</td>\n",
       "      <td>3</td>\n",
       "      <td>0.1875</td>\n",
       "      <td>2</td>\n",
       "      <td>0.1250</td>\n",
       "      <td>30</td>\n",
       "      <td>1.8750</td>\n",
       "      <td>16</td>\n",
       "      <td>1.0000</td>\n",
       "      <td>118</td>\n",
       "      <td>7.3750</td>\n",
       "      <td>0</td>\n",
       "      <td>0.0000</td>\n",
       "      <td>Human</td>\n",
       "    </tr>\n",
       "    <tr>\n",
       "      <th>2</th>\n",
       "      <td>1120</td>\n",
       "      <td>6596993</td>\n",
       "      <td>3</td>\n",
       "      <td>4.9882</td>\n",
       "      <td>190</td>\n",
       "      <td>47.5000</td>\n",
       "      <td>15.6734</td>\n",
       "      <td>597</td>\n",
       "      <td>149.2500</td>\n",
       "      <td>13.5994</td>\n",
       "      <td>518</td>\n",
       "      <td>129.5000</td>\n",
       "      <td>9.7926</td>\n",
       "      <td>373</td>\n",
       "      <td>93.250000</td>\n",
       "      <td>0.0000</td>\n",
       "      <td>0</td>\n",
       "      <td>0.0000</td>\n",
       "      <td>15</td>\n",
       "      <td>3.7500</td>\n",
       "      <td>0</td>\n",
       "      <td>0.0000</td>\n",
       "      <td>0</td>\n",
       "      <td>0.0000</td>\n",
       "      <td>20</td>\n",
       "      <td>5.0000</td>\n",
       "      <td>37</td>\n",
       "      <td>9.2500</td>\n",
       "      <td>0</td>\n",
       "      <td>0.0000</td>\n",
       "      <td>Human</td>\n",
       "    </tr>\n",
       "    <tr>\n",
       "      <th>3</th>\n",
       "      <td>1164</td>\n",
       "      <td>6670686</td>\n",
       "      <td>0</td>\n",
       "      <td>0.8581</td>\n",
       "      <td>30</td>\n",
       "      <td>3.3333</td>\n",
       "      <td>17.8776</td>\n",
       "      <td>625</td>\n",
       "      <td>69.4444</td>\n",
       "      <td>6.8650</td>\n",
       "      <td>240</td>\n",
       "      <td>26.6667</td>\n",
       "      <td>13.5584</td>\n",
       "      <td>474</td>\n",
       "      <td>52.666667</td>\n",
       "      <td>8.0950</td>\n",
       "      <td>283</td>\n",
       "      <td>31.4444</td>\n",
       "      <td>0</td>\n",
       "      <td>0.0000</td>\n",
       "      <td>0</td>\n",
       "      <td>0.0000</td>\n",
       "      <td>26</td>\n",
       "      <td>2.8889</td>\n",
       "      <td>6</td>\n",
       "      <td>0.6667</td>\n",
       "      <td>61</td>\n",
       "      <td>6.7778</td>\n",
       "      <td>0</td>\n",
       "      <td>0.0000</td>\n",
       "      <td>Human</td>\n",
       "    </tr>\n",
       "    <tr>\n",
       "      <th>4</th>\n",
       "      <td>1184</td>\n",
       "      <td>4220231</td>\n",
       "      <td>4</td>\n",
       "      <td>4.2667</td>\n",
       "      <td>215</td>\n",
       "      <td>19.5455</td>\n",
       "      <td>18.0194</td>\n",
       "      <td>908</td>\n",
       "      <td>82.5455</td>\n",
       "      <td>8.0572</td>\n",
       "      <td>406</td>\n",
       "      <td>36.9091</td>\n",
       "      <td>9.2876</td>\n",
       "      <td>468</td>\n",
       "      <td>42.545455</td>\n",
       "      <td>1.2502</td>\n",
       "      <td>63</td>\n",
       "      <td>5.7273</td>\n",
       "      <td>3</td>\n",
       "      <td>0.2727</td>\n",
       "      <td>0</td>\n",
       "      <td>0.0000</td>\n",
       "      <td>6</td>\n",
       "      <td>0.5455</td>\n",
       "      <td>17</td>\n",
       "      <td>1.5455</td>\n",
       "      <td>54</td>\n",
       "      <td>4.9091</td>\n",
       "      <td>0</td>\n",
       "      <td>0.0000</td>\n",
       "      <td>Human</td>\n",
       "    </tr>\n",
       "  </tbody>\n",
       "</table>\n",
       "</div>"
      ],
      "text/plain": [
       "   Actor    A_Acc  collect_max_count  Sit_ratio  Sit_count  sit_count_per_day  \\\n",
       "0   1047  6482393                  6     1.0430       1012            24.0952   \n",
       "1   1049  6275719                  0     3.5570        141             8.8125   \n",
       "2   1120  6596993                  3     4.9882        190            47.5000   \n",
       "3   1164  6670686                  0     0.8581         30             3.3333   \n",
       "4   1184  4220231                  4     4.2667        215            19.5455   \n",
       "\n",
       "   Exp_get_ratio  Exp_get_count  exp_get_count_per_day  Item_get_ratio  \\\n",
       "0        15.5210          15060               358.5714          6.2847   \n",
       "1        13.6226            540                33.7500          6.9122   \n",
       "2        15.6734            597               149.2500         13.5994   \n",
       "3        17.8776            625                69.4444          6.8650   \n",
       "4        18.0194            908                82.5455          8.0572   \n",
       "\n",
       "   Item_get_count  item_get_count_per_day  Money_get_ratio  Money_get_count  \\\n",
       "0            6098                145.1905          10.2010             9898   \n",
       "1             274                 17.1250           7.5429              299   \n",
       "2             518                129.5000           9.7926              373   \n",
       "3             240                 26.6667          13.5584              474   \n",
       "4             406                 36.9091           9.2876              468   \n",
       "\n",
       "   money_get_count_per_day  Abyss_get_ratio  Abyss_get_count  \\\n",
       "0               235.666667          11.0636            10735   \n",
       "1                18.687500           2.8507              113   \n",
       "2                93.250000           0.0000                0   \n",
       "3                52.666667           8.0950              283   \n",
       "4                42.545455           1.2502               63   \n",
       "\n",
       "   abyss_get_count_per_day  Exp_repair_count  Exp_repair_count_per_day  \\\n",
       "0                 255.5952                66                    1.5714   \n",
       "1                   7.0625                 3                    0.1875   \n",
       "2                   0.0000                15                    3.7500   \n",
       "3                  31.4444                 0                    0.0000   \n",
       "4                   5.7273                 3                    0.2727   \n",
       "\n",
       "   Use_portal_count  Use_portal_count_per_day  Killed_bypc_count  \\\n",
       "0                 2                    0.0476                690   \n",
       "1                 2                    0.1250                 30   \n",
       "2                 0                    0.0000                  0   \n",
       "3                 0                    0.0000                 26   \n",
       "4                 0                    0.0000                  6   \n",
       "\n",
       "   Killed_bypc_count_per_day  Killed_bynpc_count  Killed_bynpc_count_per_day  \\\n",
       "0                    16.4286                 172                      4.0952   \n",
       "1                     1.8750                  16                      1.0000   \n",
       "2                     0.0000                  20                      5.0000   \n",
       "3                     2.8889                   6                      0.6667   \n",
       "4                     0.5455                  17                      1.5455   \n",
       "\n",
       "   Teleport_count  Teleport_count_per_day  Reborn_count  Reborn_count_per_day  \\\n",
       "0            1051                 25.0238             2                0.0476   \n",
       "1             118                  7.3750             0                0.0000   \n",
       "2              37                  9.2500             0                0.0000   \n",
       "3              61                  6.7778             0                0.0000   \n",
       "4              54                  4.9091             0                0.0000   \n",
       "\n",
       "    Type  \n",
       "0  Human  \n",
       "1  Human  \n",
       "2  Human  \n",
       "3  Human  \n",
       "4  Human  "
      ]
     },
     "execution_count": 36,
     "metadata": {},
     "output_type": "execute_result"
    }
   ],
   "source": [
    "P_a_after.head()"
   ]
  },
  {
   "cell_type": "markdown",
   "metadata": {},
   "source": [
    "# Creating Dataset for Modeling"
   ]
  },
  {
   "cell_type": "code",
   "execution_count": 145,
   "metadata": {},
   "outputs": [],
   "source": [
    "final = pd.merge(P_a_after, P_i_after,  how='outer', on=[\"Actor\", \"Type\"])\n",
    "final = pd.merge(final, G_a_after, how='outer', on=[\"Actor\", \"Type\"])\n",
    "final = pd.merge(final, N_m_after, how='outer', on=[\"Actor\", \"Type\"])\n",
    "final = pd.merge(final, S_i_after, how='outer', on=[\"Actor\", \"Type\"])"
   ]
  },
  {
   "cell_type": "code",
   "execution_count": 146,
   "metadata": {},
   "outputs": [],
   "source": [
    "final['Type'] = final['Type'].apply(lambda x: 0 if x==\"Human\" else 1)"
   ]
  },
  {
   "cell_type": "code",
   "execution_count": 147,
   "metadata": {},
   "outputs": [],
   "source": [
    "#Type to the front\n",
    "final = final[['Type','Actor','A_Acc_x','collect_max_count','Sit_ratio','Sit_count','sit_count_per_day','Exp_get_ratio','Exp_get_count','exp_get_count_per_day','Item_get_ratio','Item_get_count','item_get_count_per_day','Money_get_ratio','Money_get_count','money_get_count_per_day','Abyss_get_ratio','Abyss_get_count','abyss_get_count_per_day','Exp_repair_count','Exp_repair_count_per_day','Use_portal_count','Use_portal_count_per_day','Killed_bypc_count','Killed_bypc_count_per_day','Killed_bynpc_count','Killed_bynpc_count_per_day','Teleport_count','Teleport_count_per_day','Reborn_count','Reborn_count_per_day','A_Acc_y','Login_day_count','Logout_day_count','Playtime','playtime_per_day','avg_money','Login_count','ip_count','Max_level','A_Acc_x','Avg_PartyTime','GuildAct_count','GuildJoin_count','A_Acc_y','p_in_deg','p_out_deg','p_Win_deg','p_Wout_deg','p_cc','f_in_deg','f_out_deg','f_Win_deg','f_Wout_deg','f_cc','t_in_deg','t_out_deg','t_Win_deg','t_Wout_deg','t_cc','m_in_deg','m_out_deg','m_Win_deg','m_Wout_deg','m_cc','s_in_deg','s_out_deg','s_Win_deg','s_Wout_deg','s_cc','w_in_deg', 'w_out_deg', 'w_Win_deg','w_Wout_deg','w_cc','p_deg','p_Wdeg','p_between2','p_closeness2','p_Eigenvector2','p_Eccentricity2','p_Authority2','p_Hub2','p_Pagerank2','f_deg','f_Wdeg','f_between2','f_closeness2','f_Eigenvector2','f_Eccentricity2','f_Authority2','f_Hub2','f_Pagerank2','t_deg','t_Wdeg','t_between2','t_closeness2','t_Eigenvector2','t_Eccentricity2','t_Authority2','t_Hub2','t_Pagerank2','c_deg','c_Wdeg','c_between2','c_closeness2','c_Eigenvector2','c_Eccentricity2','c_Authority2','c_Hub2','c_Pagerank2','m_deg','m_Wdeg','m_between2','m_closeness2','m_Eigenvector2','m_Eccentricity2','m_Authority2','m_Hub2','m_Pagerank2', 'A_Acc', 'Social_diversity']]"
   ]
  },
  {
   "cell_type": "code",
   "execution_count": 154,
   "metadata": {},
   "outputs": [
    {
     "data": {
      "text/plain": [
       "(49739, 126)"
      ]
     },
     "execution_count": 154,
     "metadata": {},
     "output_type": "execute_result"
    }
   ],
   "source": [
    "np.shape(final)"
   ]
  },
  {
   "cell_type": "code",
   "execution_count": 92,
   "metadata": {},
   "outputs": [],
   "source": [
    "from sklearn.tree import DecisionTreeClassifier\n",
    "from sklearn.model_selection import train_test_split\n",
    "from sklearn.preprocessing import StandardScaler\n",
    "from sklearn.preprocessing import RobustScaler\n",
    "\n",
    "from sklearn.model_selection import cross_val_score\n",
    "from sklearn.model_selection import StratifiedKFold\n",
    "from sklearn.model_selection import KFold\n",
    "import xgboost as xgb\n",
    "from sklearn.decomposition import PCA"
   ]
  },
  {
   "cell_type": "code",
   "execution_count": 109,
   "metadata": {},
   "outputs": [],
   "source": [
    "# spliting X and Y\n",
    "X = final.iloc[:, 1:]\n",
    "Y = final.iloc[:, 0]"
   ]
  },
  {
   "cell_type": "code",
   "execution_count": 113,
   "metadata": {},
   "outputs": [],
   "source": [
    "# robust scaler for handling outliers\n",
    "X_robust = RobustScaler().fit_transform(X)"
   ]
  },
  {
   "cell_type": "code",
   "execution_count": 115,
   "metadata": {},
   "outputs": [],
   "source": [
    "x_train, x_test, y_train, y_test = train_test_split(X_robust, Y, test_size=0.25)"
   ]
  },
  {
   "cell_type": "code",
   "execution_count": 117,
   "metadata": {},
   "outputs": [],
   "source": [
    "xgb_model = xgb.XGBClassifier(n_estimators=2000,\n",
    "                        n_jobs=4,\n",
    "                        max_depth=15,\n",
    "                        learning_rate=0.05,\n",
    "                        gamma = 0.02,\n",
    "                        subsample = 0.9,\n",
    "                        colsample_bytree=0.9,\n",
    "                        missing=-999,\n",
    "                        tree_method='gpu_hist')"
   ]
  },
  {
   "cell_type": "code",
   "execution_count": 118,
   "metadata": {},
   "outputs": [
    {
     "data": {
      "text/plain": [
       "XGBClassifier(base_score=0.5, booster='gbtree', colsample_bylevel=1,\n",
       "              colsample_bynode=1, colsample_bytree=0.9, gamma=0.02,\n",
       "              learning_rate=0.05, max_delta_step=0, max_depth=15,\n",
       "              min_child_weight=1, missing=-999, n_estimators=2000, n_jobs=4,\n",
       "              nthread=None, objective='binary:logistic', random_state=0,\n",
       "              reg_alpha=0, reg_lambda=1, scale_pos_weight=1, seed=None,\n",
       "              silent=None, subsample=0.9, tree_method='gpu_hist', verbosity=1)"
      ]
     },
     "execution_count": 118,
     "metadata": {},
     "output_type": "execute_result"
    }
   ],
   "source": [
    "xgb_model.fit(x_train,y_train)"
   ]
  },
  {
   "cell_type": "code",
   "execution_count": 160,
   "metadata": {},
   "outputs": [
    {
     "name": "stdout",
     "output_type": "stream",
     "text": [
      "              precision    recall  f1-score   support\n",
      "\n",
      "       Human       0.96      0.99      0.98     10847\n",
      "         Bot       0.94      0.73      0.83      1588\n",
      "\n",
      "    accuracy                           0.96     12435\n",
      "   macro avg       0.95      0.86      0.90     12435\n",
      "weighted avg       0.96      0.96      0.96     12435\n",
      "\n"
     ]
    }
   ],
   "source": [
    "prediction = xgb_model.predict(x_test)"
   ]
  },
  {
   "cell_type": "code",
   "execution_count": 161,
   "metadata": {},
   "outputs": [
    {
     "name": "stdout",
     "output_type": "stream",
     "text": [
      "              precision    recall  f1-score   support\n",
      "\n",
      "       Human       0.96      0.99      0.98     10847\n",
      "         Bot       0.94      0.73      0.83      1588\n",
      "\n",
      "    accuracy                           0.96     12435\n",
      "   macro avg       0.95      0.86      0.90     12435\n",
      "weighted avg       0.96      0.96      0.96     12435\n",
      "\n"
     ]
    }
   ],
   "source": [
    "# Result with only robust scaling\n",
    "from sklearn.metrics import classification_report\n",
    "\n",
    "print(classification_report(y_test, prediction, target_names=['Human', 'Bot']))"
   ]
  },
  {
   "cell_type": "markdown",
   "metadata": {},
   "source": [
    "# Creating a New Model (Removing Some Features)"
   ]
  },
  {
   "cell_type": "code",
   "execution_count": 163,
   "metadata": {},
   "outputs": [
    {
     "name": "stdout",
     "output_type": "stream",
     "text": [
      "Actor 0.008378201\n",
      "A_Acc_x 0.0071749655\n",
      "A_Acc_x 0.008394805\n",
      "collect_max_count 0.007745657\n",
      "Sit_ratio 0.009422003\n",
      "Sit_count 0.008232912\n",
      "sit_count_per_day 0.0087775905\n",
      "Exp_get_ratio 0.0103864\n",
      "Exp_get_count 0.008448585\n",
      "exp_get_count_per_day 0.016041702\n",
      "Item_get_ratio 0.008140621\n",
      "Item_get_count 0.005910442\n",
      "item_get_count_per_day 0.04131602\n",
      "Money_get_ratio 0.006014478\n",
      "Money_get_count 0.005173226\n",
      "money_get_count_per_day 0.0053069512\n",
      "Abyss_get_ratio 0.0075376816\n",
      "Abyss_get_count 0.0056648385\n",
      "abyss_get_count_per_day 0.0056410753\n",
      "Exp_repair_count 0.0057600713\n",
      "Exp_repair_count_per_day 0.0057835337\n",
      "Use_portal_count 0.01113804\n",
      "Use_portal_count_per_day 0.0071392218\n",
      "Killed_bypc_count 0.0055660787\n",
      "Killed_bypc_count_per_day 0.005552773\n",
      "Killed_bynpc_count 0.0054165116\n",
      "Killed_bynpc_count_per_day 0.005661857\n",
      "Teleport_count 0.006073039\n",
      "Teleport_count_per_day 0.006187992\n",
      "Reborn_count 0.0072900103\n",
      "Reborn_count_per_day 0.006851983\n",
      "A_Acc_y 0.006499871\n",
      "A_Acc_y 0.0004961585\n",
      "Login_day_count 0.009953872\n",
      "Logout_day_count 0.006149122\n",
      "Playtime 0.0075120446\n",
      "playtime_per_day 0.17213008\n",
      "avg_money 0.0071077677\n",
      "Login_count 0.0068157082\n",
      "ip_count 0.0066326167\n",
      "Max_level 0.008810283\n",
      "A_Acc_x 0.0\n",
      "A_Acc_x 0.0\n",
      "Avg_PartyTime 0.007009332\n",
      "GuildAct_count 0.005769509\n",
      "GuildJoin_count 0.006531562\n",
      "A_Acc_y 0.0\n",
      "A_Acc_y 0.0\n",
      "p_in_deg 0.0067253304\n",
      "p_out_deg 0.0071010413\n",
      "p_Win_deg 0.0070834034\n",
      "p_Wout_deg 0.0068529714\n",
      "p_cc 0.0055114324\n",
      "f_in_deg 0.010107741\n",
      "f_out_deg 0.006964109\n",
      "f_Win_deg 0.0075866077\n",
      "f_Wout_deg 0.0054777036\n",
      "f_cc 0.0068440572\n",
      "t_in_deg 0.005574387\n",
      "t_out_deg 0.004845559\n",
      "t_Win_deg 0.006084785\n",
      "t_Wout_deg 0.0052238894\n",
      "t_cc 0.0059733987\n",
      "m_in_deg 0.0051174667\n",
      "m_out_deg 0.00640408\n",
      "m_Win_deg 0.005986342\n",
      "m_Wout_deg 0.0069665443\n",
      "m_cc 0.005613357\n",
      "s_in_deg 0.009112438\n",
      "s_out_deg 0.008589296\n",
      "s_Win_deg 0.01257568\n",
      "s_Wout_deg 0.0074748555\n",
      "s_cc 0.0077433595\n",
      "w_in_deg 0.006594718\n",
      "w_out_deg 0.007460942\n",
      "w_Win_deg 0.0072858785\n",
      "w_Wout_deg 0.006214626\n",
      "w_cc 0.0069543454\n",
      "p_deg 0.0063018827\n",
      "p_Wdeg 0.010667531\n",
      "p_between2 0.006767925\n",
      "p_closeness2 0.0048020235\n",
      "p_Eigenvector2 0.00797844\n",
      "p_Eccentricity2 0.0014318888\n",
      "p_Authority2 0.0003587823\n",
      "p_Hub2 0.0049504517\n",
      "p_Pagerank2 0.014035559\n",
      "f_deg 0.006120879\n",
      "f_Wdeg 0.0070321565\n",
      "f_between2 0.0058017783\n",
      "f_closeness2 0.0048624356\n",
      "f_Eigenvector2 0.0074792444\n",
      "f_Eccentricity2 0.00045706218\n",
      "f_Authority2 0.0040574716\n",
      "f_Hub2 0.0\n",
      "f_Pagerank2 0.00330759\n",
      "t_deg 0.005851474\n",
      "t_Wdeg 0.008193102\n",
      "t_between2 0.0125539685\n",
      "t_closeness2 0.0041525997\n",
      "t_Eigenvector2 0.0057221525\n",
      "t_Eccentricity2 0.001419979\n",
      "t_Authority2 0.00079742057\n",
      "t_Hub2 0.007471309\n",
      "t_Pagerank2 0.0017255422\n",
      "c_deg 0.006286406\n",
      "c_Wdeg 0.0056953277\n",
      "c_between2 0.007854501\n",
      "c_closeness2 0.0002633572\n",
      "c_Eigenvector2 0.0057426537\n",
      "c_Eccentricity2 0.0038780684\n",
      "c_Authority2 0.0060416632\n",
      "c_Hub2 0.022496242\n",
      "c_Pagerank2 0.008123102\n",
      "m_deg 0.005118551\n",
      "m_Wdeg 0.0061143325\n",
      "m_between2 0.006461285\n",
      "m_closeness2 0.0054767076\n",
      "m_Eigenvector2 0.0068624634\n",
      "m_Eccentricity2 0.0043485593\n",
      "m_Authority2 0.0068921\n",
      "m_Hub2 0.0020343978\n",
      "m_Pagerank2 0.01796242\n",
      "A_Acc 0.0\n",
      "Social_diversity 0.006449747\n"
     ]
    }
   ],
   "source": [
    "# Contribution of each feature\n",
    "Feature_importance_temp = xgb_model.feature_importances_\n",
    "\n",
    "new_feature = []\n",
    "\n",
    "# Few point that not understood. Might have to divide with total play time\n",
    "for i in range(125):\n",
    "    print(final.columns[i+1], Feature_importance_temp[i])\n",
    "    # According to the 20:80 law, remove lower 80% of the features\n",
    "    if Feature_importance_temp[i] > np.percentile(Feature_importance_temp, 80):\n",
    "        new_feature.append(final.columns[i+1])"
   ]
  },
  {
   "cell_type": "code",
   "execution_count": null,
   "metadata": {},
   "outputs": [],
   "source": [
    "# even he feature of the upper 20% has low contribution rate\n",
    "np.percentile(Feature_importance_temp, 80)"
   ]
  },
  {
   "cell_type": "code",
   "execution_count": 184,
   "metadata": {},
   "outputs": [
    {
     "data": {
      "text/plain": [
       "(25,)"
      ]
     },
     "execution_count": 184,
     "metadata": {},
     "output_type": "execute_result"
    }
   ],
   "source": [
    "# New X with new feature list\n",
    "X_selected_ft = X[new_feature]\n",
    "np.shape(new_feature)"
   ]
  },
  {
   "cell_type": "code",
   "execution_count": 177,
   "metadata": {},
   "outputs": [],
   "source": [
    "# robust scaler on new X\n",
    "X_selected_robust = RobustScaler().fit_transform(X_selected_ft)"
   ]
  },
  {
   "cell_type": "code",
   "execution_count": 178,
   "metadata": {},
   "outputs": [],
   "source": [
    "# spliting \n",
    "x_train, x_test, y_train, y_test = train_test_split(X_selected_robust, Y, test_size=0.25)"
   ]
  },
  {
   "cell_type": "code",
   "execution_count": 179,
   "metadata": {},
   "outputs": [
    {
     "data": {
      "text/plain": [
       "XGBClassifier(base_score=0.5, booster='gbtree', colsample_bylevel=1,\n",
       "              colsample_bynode=1, colsample_bytree=0.9, gamma=0.02,\n",
       "              learning_rate=0.05, max_delta_step=0, max_depth=15,\n",
       "              min_child_weight=1, missing=-999, n_estimators=2000, n_jobs=4,\n",
       "              nthread=None, objective='binary:logistic', random_state=0,\n",
       "              reg_alpha=0, reg_lambda=1, scale_pos_weight=1, seed=None,\n",
       "              silent=None, subsample=0.9, tree_method='gpu_hist', verbosity=1)"
      ]
     },
     "execution_count": 179,
     "metadata": {},
     "output_type": "execute_result"
    }
   ],
   "source": [
    "xgb_model.fit(x_train,y_train)"
   ]
  },
  {
   "cell_type": "code",
   "execution_count": 180,
   "metadata": {},
   "outputs": [],
   "source": [
    "prediction = xgb_model.predict(x_test)"
   ]
  },
  {
   "cell_type": "markdown",
   "metadata": {},
   "source": [
    "### Less Variables (20%, 25) and better performance"
   ]
  },
  {
   "cell_type": "code",
   "execution_count": null,
   "metadata": {},
   "outputs": [],
   "source": [
    "# Result with feature selection and robust scaling\n",
    "from sklearn.metrics import classification_report\n",
    "\n",
    "print(classification_report(y_test, prediction, target_names=['Human', 'Bot']))"
   ]
  },
  {
   "cell_type": "markdown",
   "metadata": {},
   "source": [
    "# New Model (Selceted Features + PCA + Standard Scaler)"
   ]
  },
  {
   "cell_type": "code",
   "execution_count": 215,
   "metadata": {},
   "outputs": [],
   "source": [
    "X_selected_SS = StandardScaler().fit_transform(X_selected_ft)"
   ]
  },
  {
   "cell_type": "code",
   "execution_count": 230,
   "metadata": {},
   "outputs": [],
   "source": [
    "# remove variables up to  the deviation rate of 99%\n",
    "pca = PCA(n_components=0.90)\n",
    "X_selected_RB_SS_PCA = pca.fit_transform(X_selected_SS)"
   ]
  },
  {
   "cell_type": "code",
   "execution_count": 231,
   "metadata": {},
   "outputs": [
    {
     "data": {
      "text/plain": [
       "array([0.21760085, 0.40563329, 0.51696529, 0.58388868, 0.63704526,\n",
       "       0.68603797, 0.72408481, 0.75899234, 0.78724069, 0.81468242,\n",
       "       0.84083517, 0.86457126, 0.88737458, 0.90690445])"
      ]
     },
     "execution_count": 231,
     "metadata": {},
     "output_type": "execute_result"
    }
   ],
   "source": [
    "cumsum = np.cumsum(pca.explained_variance_ratio_)\n",
    "cumsum"
   ]
  },
  {
   "cell_type": "code",
   "execution_count": 225,
   "metadata": {},
   "outputs": [
    {
     "data": {
      "text/plain": [
       "[<matplotlib.lines.Line2D at 0x1d869971d30>]"
      ]
     },
     "execution_count": 225,
     "metadata": {},
     "output_type": "execute_result"
    },
    {
     "data": {
      "image/png": "[encoded data removed]",
      "text/plain": [
       "<Figure size 720x720 with 1 Axes>"
      ]
     },
     "metadata": {
      "needs_background": "light"
     },
     "output_type": "display_data"
    }
   ],
   "source": [
    "plt.figure(figsize=((10,10)))\n",
    "plt.plot(cumsum)"
   ]
  },
  {
   "cell_type": "code",
   "execution_count": 232,
   "metadata": {},
   "outputs": [],
   "source": [
    "# spliting \n",
    "x_train, x_test, y_train, y_test = train_test_split(X_selected_RB_SS_PCA, Y, test_size=0.25)"
   ]
  },
  {
   "cell_type": "code",
   "execution_count": 233,
   "metadata": {},
   "outputs": [
    {
     "data": {
      "text/plain": [
       "XGBClassifier(base_score=0.5, booster='gbtree', colsample_bylevel=1,\n",
       "              colsample_bynode=1, colsample_bytree=0.9, gamma=0.02,\n",
       "              learning_rate=0.05, max_delta_step=0, max_depth=15,\n",
       "              min_child_weight=1, missing=-999, n_estimators=2000, n_jobs=4,\n",
       "              nthread=None, objective='binary:logistic', random_state=0,\n",
       "              reg_alpha=0, reg_lambda=1, scale_pos_weight=1, seed=None,\n",
       "              silent=None, subsample=0.9, tree_method='gpu_hist', verbosity=1)"
      ]
     },
     "execution_count": 233,
     "metadata": {},
     "output_type": "execute_result"
    }
   ],
   "source": [
    "xgb_model.fit(x_train,y_train)"
   ]
  },
  {
   "cell_type": "code",
   "execution_count": 234,
   "metadata": {},
   "outputs": [],
   "source": [
    "prediction = xgb_model.predict(x_test)"
   ]
  },
  {
   "cell_type": "markdown",
   "metadata": {},
   "source": [
    "### Less Variables (17) and Similar Performance (Pca 0.95)"
   ]
  },
  {
   "cell_type": "code",
   "execution_count": 229,
   "metadata": {},
   "outputs": [
    {
     "name": "stdout",
     "output_type": "stream",
     "text": [
      "              precision    recall  f1-score   support\n",
      "\n",
      "       Human       0.96      0.99      0.98     10848\n",
      "         Bot       0.91      0.73      0.81      1587\n",
      "\n",
      "    accuracy                           0.96     12435\n",
      "   macro avg       0.93      0.86      0.89     12435\n",
      "weighted avg       0.95      0.96      0.95     12435\n",
      "\n"
     ]
    }
   ],
   "source": [
    "# Result with feature selection, standard scaling and PCA\n",
    "from sklearn.metrics import classification_report\n",
    "\n",
    "print(classification_report(y_test, prediction, target_names=['Human', 'Bot']))"
   ]
  },
  {
   "cell_type": "markdown",
   "metadata": {},
   "source": [
    "### Less Variables (14) and Similar Performance (Pca 0.90)"
   ]
  },
  {
   "cell_type": "code",
   "execution_count": 235,
   "metadata": {},
   "outputs": [
    {
     "name": "stdout",
     "output_type": "stream",
     "text": [
      "              precision    recall  f1-score   support\n",
      "\n",
      "       Human       0.96      0.99      0.97     10890\n",
      "         Bot       0.89      0.71      0.79      1545\n",
      "\n",
      "    accuracy                           0.95     12435\n",
      "   macro avg       0.92      0.85      0.88     12435\n",
      "weighted avg       0.95      0.95      0.95     12435\n",
      "\n"
     ]
    }
   ],
   "source": [
    "# Result with feature selection, standard scaling and PCA\n",
    "from sklearn.metrics import classification_report\n",
    "\n",
    "print(classification_report(y_test, prediction, target_names=['Human', 'Bot']))"
   ]
  }
 ],
 "metadata": {
  "kernelspec": {
   "display_name": "Python 3",
   "language": "python",
   "name": "python3"
  },
  "language_info": {
   "codemirror_mode": {
    "name": "ipython",
    "version": 3
   },
   "file_extension": ".py",
   "mimetype": "text/x-python",
   "name": "python",
   "nbconvert_exporter": "python",
   "pygments_lexer": "ipython3",
   "version": "3.7.3"
  }
 },
 "nbformat": 4,
 "nbformat_minor": 2
}
