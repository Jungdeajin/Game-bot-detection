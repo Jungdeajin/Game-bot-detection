{
 "cells": [
  {
   "cell_type": "code",
   "execution_count": 180,
   "metadata": {},
   "outputs": [],
   "source": [
    "import numpy as np\n",
    "import pandas as pd"
   ]
  },
  {
   "cell_type": "code",
   "execution_count": 181,
   "metadata": {},
   "outputs": [],
   "source": [
    "Player_information = pd.read_csv('Player_information.csv', engine='python')\n",
    "Player_action = pd.read_csv('Player_action.csv', engine='python')\n",
    "Group_activity = pd.read_csv('Group_activity.csv', engine='python')\n",
    "labeled_accounts = pd.read_csv('labeled_accounts.csv', engine='python')"
   ]
  },
  {
   "cell_type": "markdown",
   "metadata": {},
   "source": [
    "# merge 시키고 labeld_accounts에 있는 것만 뽑아오기"
   ]
  },
  {
   "cell_type": "code",
   "execution_count": 44,
   "metadata": {},
   "outputs": [],
   "source": [
    "final = pd.merge(Player_information, Player_action, how='outer', on = \"actor_account\")\n",
    "final = pd.merge(final, Group_activity, how='outer',  on = \"actor_account\")"
   ]
  },
  {
   "cell_type": "code",
   "execution_count": 45,
   "metadata": {
    "scrolled": true
   },
   "outputs": [
    {
     "name": "stdout",
     "output_type": "stream",
     "text": [
      "(8100, 24)\n"
     ]
    },
    {
     "data": {
      "text/html": [
       "<div>\n",
       "<style scoped>\n",
       "    .dataframe tbody tr th:only-of-type {\n",
       "        vertical-align: middle;\n",
       "    }\n",
       "\n",
       "    .dataframe tbody tr th {\n",
       "        vertical-align: top;\n",
       "    }\n",
       "\n",
       "    .dataframe thead th {\n",
       "        text-align: right;\n",
       "    }\n",
       "</style>\n",
       "<table border=\"1\" class=\"dataframe\">\n",
       "  <thead>\n",
       "    <tr style=\"text-align: right;\">\n",
       "      <th></th>\n",
       "      <th>actor_account</th>\n",
       "      <th>login_count</th>\n",
       "      <th>logout_count</th>\n",
       "      <th>login_day_count</th>\n",
       "      <th>play_time</th>\n",
       "      <th>avg_money</th>\n",
       "      <th>ip_count</th>\n",
       "      <th>max_level</th>\n",
       "      <th>sit_count</th>\n",
       "      <th>exp_get_amout</th>\n",
       "      <th>...</th>\n",
       "      <th>use_portal_count</th>\n",
       "      <th>killed_by_pc</th>\n",
       "      <th>killed_by_npc</th>\n",
       "      <th>teleport_count</th>\n",
       "      <th>reborn_count</th>\n",
       "      <th>question_count</th>\n",
       "      <th>total_party_time</th>\n",
       "      <th>guild_join_count</th>\n",
       "      <th>average_party_time</th>\n",
       "      <th>class</th>\n",
       "    </tr>\n",
       "  </thead>\n",
       "  <tbody>\n",
       "    <tr>\n",
       "      <th>0</th>\n",
       "      <td>20000005</td>\n",
       "      <td>259.0</td>\n",
       "      <td>259.0</td>\n",
       "      <td>1.0</td>\n",
       "      <td>637926.0</td>\n",
       "      <td>124.849465</td>\n",
       "      <td>259.0</td>\n",
       "      <td>0.0</td>\n",
       "      <td>270.0</td>\n",
       "      <td>3.891496e+08</td>\n",
       "      <td>...</td>\n",
       "      <td>0.0</td>\n",
       "      <td>47.0</td>\n",
       "      <td>30.0</td>\n",
       "      <td>376.0</td>\n",
       "      <td>51.0</td>\n",
       "      <td>62.0</td>\n",
       "      <td>8862.0</td>\n",
       "      <td>0.0</td>\n",
       "      <td>1477.000000</td>\n",
       "      <td>0</td>\n",
       "    </tr>\n",
       "    <tr>\n",
       "      <th>1</th>\n",
       "      <td>20000016</td>\n",
       "      <td>38.0</td>\n",
       "      <td>37.0</td>\n",
       "      <td>1.0</td>\n",
       "      <td>401885.0</td>\n",
       "      <td>43.509962</td>\n",
       "      <td>38.0</td>\n",
       "      <td>42.0</td>\n",
       "      <td>153.0</td>\n",
       "      <td>8.011943e+07</td>\n",
       "      <td>...</td>\n",
       "      <td>0.0</td>\n",
       "      <td>32.0</td>\n",
       "      <td>75.0</td>\n",
       "      <td>343.0</td>\n",
       "      <td>75.0</td>\n",
       "      <td>5893.0</td>\n",
       "      <td>69458.0</td>\n",
       "      <td>0.0</td>\n",
       "      <td>3655.684211</td>\n",
       "      <td>0</td>\n",
       "    </tr>\n",
       "    <tr>\n",
       "      <th>2</th>\n",
       "      <td>20000033</td>\n",
       "      <td>43.0</td>\n",
       "      <td>42.0</td>\n",
       "      <td>1.0</td>\n",
       "      <td>240334.0</td>\n",
       "      <td>-6.613812</td>\n",
       "      <td>43.0</td>\n",
       "      <td>38.0</td>\n",
       "      <td>378.0</td>\n",
       "      <td>1.424854e+08</td>\n",
       "      <td>...</td>\n",
       "      <td>0.0</td>\n",
       "      <td>35.0</td>\n",
       "      <td>53.0</td>\n",
       "      <td>337.0</td>\n",
       "      <td>69.0</td>\n",
       "      <td>97.0</td>\n",
       "      <td>43619.0</td>\n",
       "      <td>0.0</td>\n",
       "      <td>2295.736842</td>\n",
       "      <td>0</td>\n",
       "    </tr>\n",
       "    <tr>\n",
       "      <th>3</th>\n",
       "      <td>20000035</td>\n",
       "      <td>25.0</td>\n",
       "      <td>24.0</td>\n",
       "      <td>1.0</td>\n",
       "      <td>1205493.0</td>\n",
       "      <td>0.088531</td>\n",
       "      <td>25.0</td>\n",
       "      <td>0.0</td>\n",
       "      <td>207.0</td>\n",
       "      <td>1.377553e+09</td>\n",
       "      <td>...</td>\n",
       "      <td>0.0</td>\n",
       "      <td>0.0</td>\n",
       "      <td>12.0</td>\n",
       "      <td>44.0</td>\n",
       "      <td>10.0</td>\n",
       "      <td>0.0</td>\n",
       "      <td>0.0</td>\n",
       "      <td>0.0</td>\n",
       "      <td>0.000000</td>\n",
       "      <td>0</td>\n",
       "    </tr>\n",
       "    <tr>\n",
       "      <th>4</th>\n",
       "      <td>20000051</td>\n",
       "      <td>110.0</td>\n",
       "      <td>109.0</td>\n",
       "      <td>1.0</td>\n",
       "      <td>457433.0</td>\n",
       "      <td>-32.874878</td>\n",
       "      <td>110.0</td>\n",
       "      <td>0.0</td>\n",
       "      <td>320.0</td>\n",
       "      <td>3.950991e+08</td>\n",
       "      <td>...</td>\n",
       "      <td>1.0</td>\n",
       "      <td>311.0</td>\n",
       "      <td>109.0</td>\n",
       "      <td>568.0</td>\n",
       "      <td>261.0</td>\n",
       "      <td>80.0</td>\n",
       "      <td>40934.0</td>\n",
       "      <td>0.0</td>\n",
       "      <td>2558.375000</td>\n",
       "      <td>0</td>\n",
       "    </tr>\n",
       "  </tbody>\n",
       "</table>\n",
       "<p>5 rows × 24 columns</p>\n",
       "</div>"
      ],
      "text/plain": [
       "   actor_account  login_count  logout_count  login_day_count  play_time  \\\n",
       "0       20000005        259.0         259.0              1.0   637926.0   \n",
       "1       20000016         38.0          37.0              1.0   401885.0   \n",
       "2       20000033         43.0          42.0              1.0   240334.0   \n",
       "3       20000035         25.0          24.0              1.0  1205493.0   \n",
       "4       20000051        110.0         109.0              1.0   457433.0   \n",
       "\n",
       "    avg_money  ip_count  max_level  sit_count  exp_get_amout  ...  \\\n",
       "0  124.849465     259.0        0.0      270.0   3.891496e+08  ...   \n",
       "1   43.509962      38.0       42.0      153.0   8.011943e+07  ...   \n",
       "2   -6.613812      43.0       38.0      378.0   1.424854e+08  ...   \n",
       "3    0.088531      25.0        0.0      207.0   1.377553e+09  ...   \n",
       "4  -32.874878     110.0        0.0      320.0   3.950991e+08  ...   \n",
       "\n",
       "   use_portal_count  killed_by_pc  killed_by_npc  teleport_count  \\\n",
       "0               0.0          47.0           30.0           376.0   \n",
       "1               0.0          32.0           75.0           343.0   \n",
       "2               0.0          35.0           53.0           337.0   \n",
       "3               0.0           0.0           12.0            44.0   \n",
       "4               1.0         311.0          109.0           568.0   \n",
       "\n",
       "   reborn_count  question_count  total_party_time  guild_join_count  \\\n",
       "0          51.0            62.0            8862.0               0.0   \n",
       "1          75.0          5893.0           69458.0               0.0   \n",
       "2          69.0            97.0           43619.0               0.0   \n",
       "3          10.0             0.0               0.0               0.0   \n",
       "4         261.0            80.0           40934.0               0.0   \n",
       "\n",
       "   average_party_time  class  \n",
       "0         1477.000000      0  \n",
       "1         3655.684211      0  \n",
       "2         2295.736842      0  \n",
       "3            0.000000      0  \n",
       "4         2558.375000      0  \n",
       "\n",
       "[5 rows x 24 columns]"
      ]
     },
     "execution_count": 45,
     "metadata": {},
     "output_type": "execute_result"
    }
   ],
   "source": [
    "final = pd.merge(final, labeled_accounts, how='inner', on = 'actor_account')\n",
    "final.fillna(0, inplace=True)\n",
    "print(final.shape)\n",
    "final.head()"
   ]
  },
  {
   "cell_type": "markdown",
   "metadata": {},
   "source": [
    "# 모델 학습"
   ]
  },
  {
   "cell_type": "code",
   "execution_count": 219,
   "metadata": {
    "collapsed": true
   },
   "outputs": [
    {
     "ename": "ModuleNotFoundError",
     "evalue": "No module named 'xgboost'",
     "output_type": "error",
     "traceback": [
      "\u001b[1;31m---------------------------------------------------------------------------\u001b[0m",
      "\u001b[1;31mModuleNotFoundError\u001b[0m                       Traceback (most recent call last)",
      "\u001b[1;32m<ipython-input-219-0f3814914002>\u001b[0m in \u001b[0;36m<module>\u001b[1;34m\u001b[0m\n\u001b[0;32m      6\u001b[0m \u001b[1;32mfrom\u001b[0m \u001b[0msklearn\u001b[0m\u001b[1;33m.\u001b[0m\u001b[0mmodel_selection\u001b[0m \u001b[1;32mimport\u001b[0m \u001b[0mStratifiedKFold\u001b[0m\u001b[1;33m\u001b[0m\u001b[1;33m\u001b[0m\u001b[0m\n\u001b[0;32m      7\u001b[0m \u001b[1;32mfrom\u001b[0m \u001b[0msklearn\u001b[0m\u001b[1;33m.\u001b[0m\u001b[0mmodel_selection\u001b[0m \u001b[1;32mimport\u001b[0m \u001b[0mKFold\u001b[0m\u001b[1;33m\u001b[0m\u001b[1;33m\u001b[0m\u001b[0m\n\u001b[1;32m----> 8\u001b[1;33m \u001b[1;32mimport\u001b[0m \u001b[0mxgboost\u001b[0m \u001b[1;32mas\u001b[0m \u001b[0mxgb\u001b[0m\u001b[1;33m\u001b[0m\u001b[1;33m\u001b[0m\u001b[0m\n\u001b[0m",
      "\u001b[1;31mModuleNotFoundError\u001b[0m: No module named 'xgboost'"
     ]
    }
   ],
   "source": [
    "from sklearn.tree import DecisionTreeClassifier\n",
    "from sklearn.model_selection import train_test_split\n",
    "from sklearn.preprocessing import StandardScaler\n",
    "\n",
    "from sklearn.model_selection import cross_val_score\n",
    "from sklearn.model_selection import StratifiedKFold\n",
    "from sklearn.model_selection import KFold\n",
    "#import xgboost as xgb"
   ]
  },
  {
   "cell_type": "code",
   "execution_count": 220,
   "metadata": {},
   "outputs": [],
   "source": [
    "model_data = final.copy()\n",
    "del model_data['actor_account']\n",
    "del model_data['max_level']\n",
    "del model_data['guild_join_count']\n",
    "x = model_data.iloc[:, :-1]\n",
    "y = model_data.iloc[:, -1]"
   ]
  },
  {
   "cell_type": "code",
   "execution_count": 221,
   "metadata": {},
   "outputs": [
    {
     "data": {
      "text/html": [
       "<div>\n",
       "<style scoped>\n",
       "    .dataframe tbody tr th:only-of-type {\n",
       "        vertical-align: middle;\n",
       "    }\n",
       "\n",
       "    .dataframe tbody tr th {\n",
       "        vertical-align: top;\n",
       "    }\n",
       "\n",
       "    .dataframe thead th {\n",
       "        text-align: right;\n",
       "    }\n",
       "</style>\n",
       "<table border=\"1\" class=\"dataframe\">\n",
       "  <thead>\n",
       "    <tr style=\"text-align: right;\">\n",
       "      <th></th>\n",
       "      <th>login_count</th>\n",
       "      <th>logout_count</th>\n",
       "      <th>login_day_count</th>\n",
       "      <th>play_time</th>\n",
       "      <th>avg_money</th>\n",
       "      <th>ip_count</th>\n",
       "      <th>sit_count</th>\n",
       "      <th>exp_get_amout</th>\n",
       "      <th>item_get_count</th>\n",
       "      <th>exp_repair_count</th>\n",
       "      <th>...</th>\n",
       "      <th>abyss</th>\n",
       "      <th>use_portal_count</th>\n",
       "      <th>killed_by_pc</th>\n",
       "      <th>killed_by_npc</th>\n",
       "      <th>teleport_count</th>\n",
       "      <th>reborn_count</th>\n",
       "      <th>question_count</th>\n",
       "      <th>total_party_time</th>\n",
       "      <th>average_party_time</th>\n",
       "      <th>class</th>\n",
       "    </tr>\n",
       "  </thead>\n",
       "  <tbody>\n",
       "    <tr>\n",
       "      <th>0</th>\n",
       "      <td>259.0</td>\n",
       "      <td>259.0</td>\n",
       "      <td>1.0</td>\n",
       "      <td>637926.0</td>\n",
       "      <td>124.849465</td>\n",
       "      <td>259.0</td>\n",
       "      <td>270.0</td>\n",
       "      <td>3.891496e+08</td>\n",
       "      <td>31149.0</td>\n",
       "      <td>0.0</td>\n",
       "      <td>...</td>\n",
       "      <td>0.0</td>\n",
       "      <td>0.0</td>\n",
       "      <td>47.0</td>\n",
       "      <td>30.0</td>\n",
       "      <td>376.0</td>\n",
       "      <td>51.0</td>\n",
       "      <td>62.0</td>\n",
       "      <td>8862.0</td>\n",
       "      <td>1477.000000</td>\n",
       "      <td>0</td>\n",
       "    </tr>\n",
       "    <tr>\n",
       "      <th>1</th>\n",
       "      <td>38.0</td>\n",
       "      <td>37.0</td>\n",
       "      <td>1.0</td>\n",
       "      <td>401885.0</td>\n",
       "      <td>43.509962</td>\n",
       "      <td>38.0</td>\n",
       "      <td>153.0</td>\n",
       "      <td>8.011943e+07</td>\n",
       "      <td>61579.0</td>\n",
       "      <td>0.0</td>\n",
       "      <td>...</td>\n",
       "      <td>0.0</td>\n",
       "      <td>0.0</td>\n",
       "      <td>32.0</td>\n",
       "      <td>75.0</td>\n",
       "      <td>343.0</td>\n",
       "      <td>75.0</td>\n",
       "      <td>5893.0</td>\n",
       "      <td>69458.0</td>\n",
       "      <td>3655.684211</td>\n",
       "      <td>0</td>\n",
       "    </tr>\n",
       "    <tr>\n",
       "      <th>2</th>\n",
       "      <td>43.0</td>\n",
       "      <td>42.0</td>\n",
       "      <td>1.0</td>\n",
       "      <td>240334.0</td>\n",
       "      <td>-6.613812</td>\n",
       "      <td>43.0</td>\n",
       "      <td>378.0</td>\n",
       "      <td>1.424854e+08</td>\n",
       "      <td>24686.0</td>\n",
       "      <td>0.0</td>\n",
       "      <td>...</td>\n",
       "      <td>0.0</td>\n",
       "      <td>0.0</td>\n",
       "      <td>35.0</td>\n",
       "      <td>53.0</td>\n",
       "      <td>337.0</td>\n",
       "      <td>69.0</td>\n",
       "      <td>97.0</td>\n",
       "      <td>43619.0</td>\n",
       "      <td>2295.736842</td>\n",
       "      <td>0</td>\n",
       "    </tr>\n",
       "    <tr>\n",
       "      <th>3</th>\n",
       "      <td>25.0</td>\n",
       "      <td>24.0</td>\n",
       "      <td>1.0</td>\n",
       "      <td>1205493.0</td>\n",
       "      <td>0.088531</td>\n",
       "      <td>25.0</td>\n",
       "      <td>207.0</td>\n",
       "      <td>1.377553e+09</td>\n",
       "      <td>109795.0</td>\n",
       "      <td>0.0</td>\n",
       "      <td>...</td>\n",
       "      <td>0.0</td>\n",
       "      <td>0.0</td>\n",
       "      <td>0.0</td>\n",
       "      <td>12.0</td>\n",
       "      <td>44.0</td>\n",
       "      <td>10.0</td>\n",
       "      <td>0.0</td>\n",
       "      <td>0.0</td>\n",
       "      <td>0.000000</td>\n",
       "      <td>0</td>\n",
       "    </tr>\n",
       "    <tr>\n",
       "      <th>4</th>\n",
       "      <td>110.0</td>\n",
       "      <td>109.0</td>\n",
       "      <td>1.0</td>\n",
       "      <td>457433.0</td>\n",
       "      <td>-32.874878</td>\n",
       "      <td>110.0</td>\n",
       "      <td>320.0</td>\n",
       "      <td>3.950991e+08</td>\n",
       "      <td>98368.0</td>\n",
       "      <td>0.0</td>\n",
       "      <td>...</td>\n",
       "      <td>0.0</td>\n",
       "      <td>1.0</td>\n",
       "      <td>311.0</td>\n",
       "      <td>109.0</td>\n",
       "      <td>568.0</td>\n",
       "      <td>261.0</td>\n",
       "      <td>80.0</td>\n",
       "      <td>40934.0</td>\n",
       "      <td>2558.375000</td>\n",
       "      <td>0</td>\n",
       "    </tr>\n",
       "  </tbody>\n",
       "</table>\n",
       "<p>5 rows × 21 columns</p>\n",
       "</div>"
      ],
      "text/plain": [
       "   login_count  logout_count  login_day_count  play_time   avg_money  \\\n",
       "0        259.0         259.0              1.0   637926.0  124.849465   \n",
       "1         38.0          37.0              1.0   401885.0   43.509962   \n",
       "2         43.0          42.0              1.0   240334.0   -6.613812   \n",
       "3         25.0          24.0              1.0  1205493.0    0.088531   \n",
       "4        110.0         109.0              1.0   457433.0  -32.874878   \n",
       "\n",
       "   ip_count  sit_count  exp_get_amout  item_get_count  exp_repair_count  ...  \\\n",
       "0     259.0      270.0   3.891496e+08         31149.0               0.0  ...   \n",
       "1      38.0      153.0   8.011943e+07         61579.0               0.0  ...   \n",
       "2      43.0      378.0   1.424854e+08         24686.0               0.0  ...   \n",
       "3      25.0      207.0   1.377553e+09        109795.0               0.0  ...   \n",
       "4     110.0      320.0   3.950991e+08         98368.0               0.0  ...   \n",
       "\n",
       "   abyss  use_portal_count  killed_by_pc  killed_by_npc  teleport_count  \\\n",
       "0    0.0               0.0          47.0           30.0           376.0   \n",
       "1    0.0               0.0          32.0           75.0           343.0   \n",
       "2    0.0               0.0          35.0           53.0           337.0   \n",
       "3    0.0               0.0           0.0           12.0            44.0   \n",
       "4    0.0               1.0         311.0          109.0           568.0   \n",
       "\n",
       "   reborn_count  question_count  total_party_time  average_party_time  class  \n",
       "0          51.0            62.0            8862.0         1477.000000      0  \n",
       "1          75.0          5893.0           69458.0         3655.684211      0  \n",
       "2          69.0            97.0           43619.0         2295.736842      0  \n",
       "3          10.0             0.0               0.0            0.000000      0  \n",
       "4         261.0            80.0           40934.0         2558.375000      0  \n",
       "\n",
       "[5 rows x 21 columns]"
      ]
     },
     "execution_count": 221,
     "metadata": {},
     "output_type": "execute_result"
    }
   ],
   "source": [
    "model_data.head()"
   ]
  },
  {
   "cell_type": "code",
   "execution_count": 222,
   "metadata": {},
   "outputs": [
    {
     "name": "stdout",
     "output_type": "stream",
     "text": [
      "600\n"
     ]
    }
   ],
   "source": [
    "print(list(y).count(1))\n",
    "x_train, x_test, y_train, y_test = train_test_split(x, y, test_size=0.3)"
   ]
  },
  {
   "cell_type": "markdown",
   "metadata": {},
   "source": [
    "## 랜덤 포레스트"
   ]
  },
  {
   "cell_type": "code",
   "execution_count": 225,
   "metadata": {},
   "outputs": [],
   "source": [
    "from sklearn.ensemble import RandomForestClassifier\n",
    "#500개의 DT classifier만듬. 각 DT당 최대 16개의 leaf node, n_jobs -> cpu 코어 몇개 쓸지\n",
    "rnd_clf = RandomForestClassifier(n_estimators=2000, max_leaf_nodes=2, criterion='gini', max_depth = 5)\n",
    "rnd_clf.fit(x_test, y_test)\n",
    "y_pred_rf = rnd_clf.predict(x_test)"
   ]
  },
  {
   "cell_type": "code",
   "execution_count": 226,
   "metadata": {
    "scrolled": true
   },
   "outputs": [
    {
     "name": "stdout",
     "output_type": "stream",
     "text": [
      "Accuracy: 0.92\n",
      "F1 score: 0.00\n"
     ]
    },
    {
     "name": "stderr",
     "output_type": "stream",
     "text": [
      "c:\\users\\백진우\\appdata\\local\\programs\\python\\python37-32\\lib\\site-packages\\sklearn\\metrics\\classification.py:1437: UndefinedMetricWarning: F-score is ill-defined and being set to 0.0 due to no predicted samples.\n",
      "  'precision', 'predicted', average, warn_for)\n"
     ]
    }
   ],
   "source": [
    "from sklearn.metrics import accuracy_score, f1_score\n",
    "print(\"Accuracy: %.2f\" %accuracy_score(y_test, y_pred_rf))\n",
    "print(\"F1 score: %.2f\" %f1_score(y_test, y_pred_rf))"
   ]
  },
  {
   "cell_type": "markdown",
   "metadata": {},
   "source": [
    "## 로지스틱"
   ]
  },
  {
   "cell_type": "code",
   "execution_count": 227,
   "metadata": {},
   "outputs": [],
   "source": [
    "from sklearn.preprocessing import MinMaxScaler\n",
    "\n",
    "# scaler = MinMaxScaler(feature_range=(0, 1))\n",
    "# scaler.fit_transform(x_train)\n",
    "# x_train = scaler.fit_transform(x_train)\n",
    "\n",
    "from sklearn.datasets import make_classification\n",
    "from sklearn.decomposition import PCA\n",
    "from imblearn.over_sampling import SMOTE\n",
    "\n",
    "# 모델설정\n",
    "sm = SMOTE(ratio='auto', kind='regular')\n",
    "\n",
    "# train데이터를 넣어 복제함\n",
    "X_resampled, Y_resampled = sm.fit_sample(x_train,list(y_train))"
   ]
  },
  {
   "cell_type": "code",
   "execution_count": 267,
   "metadata": {},
   "outputs": [
    {
     "name": "stderr",
     "output_type": "stream",
     "text": [
      "c:\\users\\백진우\\appdata\\local\\programs\\python\\python37-32\\lib\\site-packages\\sklearn\\linear_model\\logistic.py:432: FutureWarning: Default solver will be changed to 'lbfgs' in 0.22. Specify a solver to silence this warning.\n",
      "  FutureWarning)\n"
     ]
    }
   ],
   "source": [
    "from sklearn.ensemble import RandomForestClassifier\n",
    "from sklearn.ensemble import VotingClassifier\n",
    "from sklearn.linear_model import LogisticRegression\n",
    "from sklearn.svm import SVC\n",
    "from sklearn.metrics import accuracy_score\n",
    "\n",
    "log_clf = LogisticRegression()\n",
    "rnd_clf = RandomForestClassifier()\n",
    "svm_clf = SVC()\n",
    "voting_clf = VotingClassifier(estimators=[(\"lr\", log_clf),(\"rf\", rnd_clf),(\"svc\", svm_clf)], voting=\"hard\")\n",
    "\n",
    "#log_clf.fit(x_train, y_train)\n",
    "log_clf.fit(X_resampled, Y_resampled)\n",
    "# y_pred = log_clf.predict(X_test)\n",
    "y_pred = np.where(log_clf.predict_proba(x_test)[:,1]>0.65, 1, 0)"
   ]
  },
  {
   "cell_type": "code",
   "execution_count": 268,
   "metadata": {},
   "outputs": [
    {
     "name": "stdout",
     "output_type": "stream",
     "text": [
      "354\n"
     ]
    }
   ],
   "source": [
    "print(list(y_pred).count(1))"
   ]
  },
  {
   "cell_type": "code",
   "execution_count": 269,
   "metadata": {},
   "outputs": [
    {
     "name": "stdout",
     "output_type": "stream",
     "text": [
      "Accuracy: 0.88\n",
      "F1 score: 0.48\n"
     ]
    }
   ],
   "source": [
    "from sklearn.metrics import accuracy_score, f1_score\n",
    "print(\"Accuracy: %.2f\" %accuracy_score(y_test, y_pred))\n",
    "print(\"F1 score: %.2f\" %f1_score(y_test, y_pred))"
   ]
  },
  {
   "cell_type": "markdown",
   "metadata": {},
   "source": [
    "# csv 파일로 만들기"
   ]
  },
  {
   "cell_type": "code",
   "execution_count": 197,
   "metadata": {},
   "outputs": [],
   "source": [
    "Player_information.to_csv(\"Player_information.csv\", encoding=\"utf8\")\n",
    "Player_action.to_csv(\"Player_action.csv\", encoding=\"utf8\")\n",
    "Group_activity.to_csv(\"Group_activity.csv\", encoding=\"utf8\")"
   ]
  }
 ],
 "metadata": {
  "kernelspec": {
   "display_name": "Python 3",
   "language": "python",
   "name": "python3"
  },
  "language_info": {
   "codemirror_mode": {
    "name": "ipython",
    "version": 3
   },
   "file_extension": ".py",
   "mimetype": "text/x-python",
   "name": "python",
   "nbconvert_exporter": "python",
   "pygments_lexer": "ipython3",
   "version": "3.7.4"
  }
 },
 "nbformat": 4,
 "nbformat_minor": 2
}
